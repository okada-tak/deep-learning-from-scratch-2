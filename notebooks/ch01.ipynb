{
  "cells": [
    {
      "cell_type": "markdown",
      "source": [
        "[![Open In Colab](https://colab.research.google.com/assets/colab-badge.svg)](https://colab.research.google.com/github/okada-tak/deep-learning-from-scratch-2/blob/master/notebooks/ch01.ipynb)\n",
        "\n",
        "# 1章 ニューラルネットワークの復習 のまとめ\n",
        "- ニューラルネットワークは、入力層、隠れ層、出力層を持つ\n",
        "- 全結合層によって線形な変換が行われ、活性化関数によって非線形な変換が行われる\n",
        "- 全結合層やミニバッチ処理は、行列としてまとめて計算することができる\n",
        "- 誤差逆伝播法を使って、効率的にニューラルネットワークの損失に関する勾配を求めることができる\n",
        "- ニューラルネットワークで行う処理は、計算グラフによって可視化することができ、順伝播や逆伝播の理解に役立つ\n",
        "- ニューラルネットワークの実装では、構成要素を「レイヤ」としてモジュール化することで、組み立てが容易になる\n",
        "- ニューラルネットワークの高速化において、データのビット精度とGPUによる並列計算が重要である"
      ],
      "metadata": {
        "id": "9SAWdYOk08sD"
      }
    },
    {
      "cell_type": "markdown",
      "source": [
        "## 1.1 数学とPythonの復習\n",
        "### 1.1.1 ベクトルと行列"
      ],
      "metadata": {
        "id": "io0vD9ODvJGX"
      }
    },
    {
      "cell_type": "code",
      "source": [
        "import numpy as np\n",
        "\n",
        "x = np.array([1,2,3])\n",
        "x.__class__"
      ],
      "metadata": {
        "colab": {
          "base_uri": "https://localhost:8080/"
        },
        "id": "Q4J6YNdmvXt4",
        "outputId": "90ba7620-5c17-41e3-b470-6f296f9e43fb"
      },
      "execution_count": null,
      "outputs": [
        {
          "output_type": "execute_result",
          "data": {
            "text/plain": [
              "numpy.ndarray"
            ]
          },
          "metadata": {},
          "execution_count": 2
        }
      ]
    },
    {
      "cell_type": "code",
      "source": [
        "x.shape"
      ],
      "metadata": {
        "colab": {
          "base_uri": "https://localhost:8080/"
        },
        "id": "ICGliZgCvhro",
        "outputId": "a6254e45-d66b-4e60-87d4-8de4e1937e73"
      },
      "execution_count": null,
      "outputs": [
        {
          "output_type": "execute_result",
          "data": {
            "text/plain": [
              "(3,)"
            ]
          },
          "metadata": {},
          "execution_count": 3
        }
      ]
    },
    {
      "cell_type": "code",
      "source": [
        "x.ndim"
      ],
      "metadata": {
        "colab": {
          "base_uri": "https://localhost:8080/"
        },
        "id": "0ulpxReYvj_o",
        "outputId": "39166de1-71bb-4f79-cee9-a2b5d5bf0842"
      },
      "execution_count": null,
      "outputs": [
        {
          "output_type": "execute_result",
          "data": {
            "text/plain": [
              "1"
            ]
          },
          "metadata": {},
          "execution_count": 4
        }
      ]
    },
    {
      "cell_type": "code",
      "source": [
        "W = np.array([[1,2,3], [4,5,6]])\n",
        "W.shape"
      ],
      "metadata": {
        "colab": {
          "base_uri": "https://localhost:8080/"
        },
        "id": "z3x_GjHLvnCf",
        "outputId": "47300cc9-f7b0-458f-f447-b32dae691dc8"
      },
      "execution_count": null,
      "outputs": [
        {
          "output_type": "execute_result",
          "data": {
            "text/plain": [
              "(2, 3)"
            ]
          },
          "metadata": {},
          "execution_count": 5
        }
      ]
    },
    {
      "cell_type": "code",
      "source": [
        "W.ndim"
      ],
      "metadata": {
        "colab": {
          "base_uri": "https://localhost:8080/"
        },
        "id": "SQ0ab_favtpN",
        "outputId": "79308b88-67ef-4b7d-9573-395ffd915961"
      },
      "execution_count": null,
      "outputs": [
        {
          "output_type": "execute_result",
          "data": {
            "text/plain": [
              "2"
            ]
          },
          "metadata": {},
          "execution_count": 6
        }
      ]
    },
    {
      "cell_type": "markdown",
      "source": [
        "### 1.1.2 行列の要素ごとの演算"
      ],
      "metadata": {
        "id": "cYJ6n3Qdv3Xv"
      }
    },
    {
      "cell_type": "code",
      "source": [
        "W = np.array([[1,2,3], [4,5,6]])\n",
        "X = np.array([[0,1,2], [3,4,5]])\n",
        "W + X"
      ],
      "metadata": {
        "colab": {
          "base_uri": "https://localhost:8080/"
        },
        "id": "6Bp_aUFzv7-e",
        "outputId": "420f39fb-43be-4040-9f59-1d2fd69358e7"
      },
      "execution_count": null,
      "outputs": [
        {
          "output_type": "execute_result",
          "data": {
            "text/plain": [
              "array([[ 1,  3,  5],\n",
              "       [ 7,  9, 11]])"
            ]
          },
          "metadata": {},
          "execution_count": 7
        }
      ]
    },
    {
      "cell_type": "code",
      "source": [
        "W * X"
      ],
      "metadata": {
        "colab": {
          "base_uri": "https://localhost:8080/"
        },
        "id": "o15Y34RnwMrm",
        "outputId": "43420f60-ed31-433b-8907-67e0e5d32870"
      },
      "execution_count": null,
      "outputs": [
        {
          "output_type": "execute_result",
          "data": {
            "text/plain": [
              "array([[ 0,  2,  6],\n",
              "       [12, 20, 30]])"
            ]
          },
          "metadata": {},
          "execution_count": 8
        }
      ]
    },
    {
      "cell_type": "markdown",
      "source": [
        "### 1.1.3 ブロードキャスト"
      ],
      "metadata": {
        "id": "t2uIZ9umwR--"
      }
    },
    {
      "cell_type": "code",
      "source": [
        "A = np.array([[1,2], [3,4]])\n",
        "A * 10"
      ],
      "metadata": {
        "colab": {
          "base_uri": "https://localhost:8080/"
        },
        "id": "FWsF6MRhwU40",
        "outputId": "a1a0bb0a-6414-4d9c-f62f-fe2434c99ccb"
      },
      "execution_count": null,
      "outputs": [
        {
          "output_type": "execute_result",
          "data": {
            "text/plain": [
              "array([[10, 20],\n",
              "       [30, 40]])"
            ]
          },
          "metadata": {},
          "execution_count": 9
        }
      ]
    },
    {
      "cell_type": "code",
      "source": [
        "A = np.array([[1,2], [3,4]])\n",
        "b = np.array([10,20])\n",
        "A * b"
      ],
      "metadata": {
        "colab": {
          "base_uri": "https://localhost:8080/"
        },
        "id": "bk6hxrw7wi4T",
        "outputId": "088de980-4b87-479a-d632-b837af9be1dc"
      },
      "execution_count": null,
      "outputs": [
        {
          "output_type": "execute_result",
          "data": {
            "text/plain": [
              "array([[10, 40],\n",
              "       [30, 80]])"
            ]
          },
          "metadata": {},
          "execution_count": 10
        }
      ]
    },
    {
      "cell_type": "markdown",
      "source": [
        "### 1.1.4 ベクトルの内積と行列の積\n",
        "$x \\cdot y = x_1y_1 +x_2y_2 + \\cdots + x_ny_n$"
      ],
      "metadata": {
        "id": "TRMDR9pCwtw1"
      }
    },
    {
      "cell_type": "code",
      "source": [
        "# ベクトルの内積\n",
        "a = np.array([1,2,3])\n",
        "b = np.array([4,5,6])\n",
        "np.dot(a,b)"
      ],
      "metadata": {
        "colab": {
          "base_uri": "https://localhost:8080/"
        },
        "id": "NHuUd3RxxZCI",
        "outputId": "926c4109-6541-480b-8c90-057ff22eee69"
      },
      "execution_count": null,
      "outputs": [
        {
          "output_type": "execute_result",
          "data": {
            "text/plain": [
              "32"
            ]
          },
          "metadata": {},
          "execution_count": 11
        }
      ]
    },
    {
      "cell_type": "code",
      "source": [
        "# 行列の積\n",
        "A = np.array([[1,2], [3,4]])\n",
        "B = np.array([[5,6], [7,8]])\n",
        "np.dot(A,B)"
      ],
      "metadata": {
        "colab": {
          "base_uri": "https://localhost:8080/"
        },
        "id": "nWw6-WfQx1Sk",
        "outputId": "2f045541-579a-4805-ccf7-dd51eb53b77f"
      },
      "execution_count": null,
      "outputs": [
        {
          "output_type": "execute_result",
          "data": {
            "text/plain": [
              "array([[19, 22],\n",
              "       [43, 50]])"
            ]
          },
          "metadata": {},
          "execution_count": 12
        }
      ]
    },
    {
      "cell_type": "markdown",
      "source": [
        "### 1.1.5 行列の形状チェック"
      ],
      "metadata": {
        "id": "4mdn0vOrynM9"
      }
    },
    {
      "cell_type": "markdown",
      "source": [
        "## 1.2 ニューラルネットワークの推論\n",
        "### 1.2.1 ニューラルネットワークの推論の全体図\n",
        "$\\mathbf{h = xW + b}$"
      ],
      "metadata": {
        "id": "oG5-GbHQytCn"
      }
    },
    {
      "cell_type": "code",
      "source": [
        "import numpy as np\n",
        "W1 = np.random.randn(2,4) # 重み\n",
        "b1 = np.random.randn(4) # バイアス\n",
        "x = np.random.randn(10,2) # 入力\n",
        "h = np.dot(x, W1) + b1\n",
        "h"
      ],
      "metadata": {
        "colab": {
          "base_uri": "https://localhost:8080/"
        },
        "id": "pu9xNVZx3Xsc",
        "outputId": "d03ce078-98a5-4ff8-fafc-dcbaeeacaf8e"
      },
      "execution_count": null,
      "outputs": [
        {
          "output_type": "execute_result",
          "data": {
            "text/plain": [
              "array([[-0.6659767 ,  1.05461573, -1.49571023,  1.16642953],\n",
              "       [-1.12109206, -0.0583981 , -0.4088617 ,  0.02210002],\n",
              "       [-1.8169358 , -0.91570609, -3.48733254,  0.74850779],\n",
              "       [-0.44770825,  0.8635589 ,  2.05199988, -0.41015876],\n",
              "       [-0.81288749,  0.01564567,  2.67058935, -1.1959487 ],\n",
              "       [-0.5795265 ,  1.38912004, -2.39310043,  1.74470708],\n",
              "       [-1.76364078, -1.22272255, -1.15950902, -0.3998959 ],\n",
              "       [ 0.10729616,  2.18901151,  0.90537943,  0.8919492 ],\n",
              "       [-0.18641624,  1.20482169,  3.09940992, -0.62621791],\n",
              "       [-2.08654203, -1.53527989, -3.06671867,  0.18721799]])"
            ]
          },
          "metadata": {},
          "execution_count": 14
        }
      ]
    },
    {
      "cell_type": "markdown",
      "source": [
        "シグモイド関数  \n",
        "$\\sigma(x)=\\frac{1}{1+\\exp(-x)}$"
      ],
      "metadata": {
        "id": "dQg0WNPLRs7r"
      }
    },
    {
      "cell_type": "code",
      "execution_count": null,
      "metadata": {
        "colab": {
          "base_uri": "https://localhost:8080/",
          "height": 265
        },
        "id": "FVeIZFvd042H",
        "outputId": "ea49d9c1-7be1-4073-b527-fa50848bee97"
      },
      "outputs": [
        {
          "output_type": "display_data",
          "data": {
            "text/plain": [
              "<Figure size 432x288 with 1 Axes>"
            ],
            "image/png": "[encoded data removed]"
          },
          "metadata": {
            "needs_background": "light"
          }
        }
      ],
      "source": [
        "import numpy as np\n",
        "import matplotlib.pylab as plt\n",
        "\n",
        "\n",
        "def sigmoid(x):\n",
        "    return 1 / (1 + np.exp(-x))    \n",
        "\n",
        "X = np.arange(-5.0, 5.0, 0.1)\n",
        "Y = sigmoid(X)\n",
        "plt.plot(X, Y)\n",
        "plt.ylim(-0.1, 1.1)\n",
        "plt.show()\n"
      ]
    },
    {
      "cell_type": "code",
      "source": [
        "# p.13\n",
        "import numpy as np\n",
        "\n",
        "def sigmoid(x):\n",
        "    return 1 / (1 + np.exp(-x))\n",
        "\n",
        "x = np.random.randn(10,2)\n",
        "W1 = np.random.randn(2,4)\n",
        "b1 = np.random.randn(4)\n",
        "W2 = np.random.randn(4,3)\n",
        "b2 = np.random.randn(3)\n",
        "\n",
        "h = np.dot(x, W1) + b1\n",
        "a = sigmoid(h)\n",
        "s = np.dot(a, W2) + b2\n",
        "s"
      ],
      "metadata": {
        "colab": {
          "base_uri": "https://localhost:8080/"
        },
        "id": "NnbJ3kxTSJCA",
        "outputId": "4b4ee44d-d46d-49d1-e6d9-f1cb137fe0f1"
      },
      "execution_count": null,
      "outputs": [
        {
          "output_type": "execute_result",
          "data": {
            "text/plain": [
              "array([[ 0.51442667, -2.58486124,  1.33416118],\n",
              "       [ 0.22234822, -0.63215792,  1.93209815],\n",
              "       [ 0.24890326, -1.62312657,  2.08319597],\n",
              "       [ 0.34067226, -1.40646221,  1.77498557],\n",
              "       [ 0.15956215,  0.03677606,  1.97390948],\n",
              "       [ 0.43419152, -1.94493797,  1.54854651],\n",
              "       [ 0.24120465, -1.28225044,  2.0210727 ],\n",
              "       [ 0.44188386, -1.78976274,  1.46985799],\n",
              "       [ 0.46422495, -2.20831636,  1.47629334],\n",
              "       [ 0.41498082, -1.50048229,  1.51950344]])"
            ]
          },
          "metadata": {},
          "execution_count": 16
        }
      ]
    },
    {
      "cell_type": "markdown",
      "source": [
        "### 1.2.2 レイヤとしてのクラス化と順伝播の実装"
      ],
      "metadata": {
        "id": "uTP8CE0FSx0b"
      }
    },
    {
      "cell_type": "markdown",
      "source": [
        "ch01/forward_net.py"
      ],
      "metadata": {
        "id": "Z_gF92cuTMoi"
      }
    },
    {
      "cell_type": "code",
      "source": [
        "# coding: utf-8\n",
        "import numpy as np\n",
        "\n",
        "\n",
        "class Sigmoid:\n",
        "    def __init__(self):\n",
        "        self.params = []\n",
        "\n",
        "    def forward(self, x):\n",
        "        return 1 / (1 + np.exp(-x))\n",
        "\n",
        "\n",
        "class Affine:\n",
        "    def __init__(self, W, b):\n",
        "        self.params = [W, b]\n",
        "\n",
        "    def forward(self, x):\n",
        "        W, b = self.params\n",
        "        out = np.dot(x, W) + b\n",
        "        return out\n",
        "\n",
        "\n",
        "class TwoLayerNet:\n",
        "    def __init__(self, input_size, hidden_size, output_size):\n",
        "        I, H, O = input_size, hidden_size, output_size\n",
        "\n",
        "        # 重みとバイアスの初期化\n",
        "        W1 = np.random.randn(I, H)\n",
        "        b1 = np.random.randn(H)\n",
        "        W2 = np.random.randn(H, O)\n",
        "        b2 = np.random.randn(O)\n",
        "\n",
        "        # レイヤの生成\n",
        "        self.layers = [\n",
        "            Affine(W1, b1),\n",
        "            Sigmoid(),\n",
        "            Affine(W2, b2)\n",
        "        ]\n",
        "\n",
        "        # すべての重みをリストにまとめる\n",
        "        self.params = []\n",
        "        for layer in self.layers:\n",
        "            self.params += layer.params\n",
        "\n",
        "    def predict(self, x):\n",
        "        for layer in self.layers:\n",
        "            x = layer.forward(x)\n",
        "        return x\n",
        "\n",
        "\n",
        "x = np.random.randn(10, 2)\n",
        "model = TwoLayerNet(2, 4, 3)\n",
        "s = model.predict(x)\n",
        "print(s)"
      ],
      "metadata": {
        "colab": {
          "base_uri": "https://localhost:8080/"
        },
        "id": "VVZawzH1TJvf",
        "outputId": "6d044cf8-5605-4d49-a384-f56c7104aab9"
      },
      "execution_count": 7,
      "outputs": [
        {
          "output_type": "stream",
          "name": "stdout",
          "text": [
            "[[-0.53493193 -0.5247171  -2.64375572]\n",
            " [-0.54124544 -0.65299692 -2.89124709]\n",
            " [-0.72314367  0.09814948 -1.14513823]\n",
            " [-0.43875181 -0.21611169 -1.98119464]\n",
            " [-0.74755378  0.12793834 -1.18694412]\n",
            " [-0.65180853 -0.32071963 -2.22091246]\n",
            " [-0.54784024 -0.03119535 -1.68980056]\n",
            " [-0.45241895 -0.92681161 -3.30155571]\n",
            " [-0.38680553 -0.31997467 -2.12871497]\n",
            " [-0.73294214  0.05678831 -1.09844678]]\n"
          ]
        }
      ]
    },
    {
      "cell_type": "markdown",
      "source": [
        "## 1.3 ニューラルネットワークの学習\n",
        "### 1.3.1 損失関数\n",
        "■Softmax関数  \n",
        "$$\n",
        "y_k = \\frac{\\exp(s_k)}{\\displaystyle \\sum_{i=1}^n \\exp(s_i)}\n",
        "$$\n",
        "$y_k$ : $k$番目の出力  \n",
        "$s_k$ : $k$番目のスコア   \n",
        "\n",
        "■交差エントロピー誤差\n",
        "$$\n",
        "L=-\\sum_k t_k \\log{y_k}\n",
        "$$\n",
        "$\\log$ : 底が$e$の自然対数（$\\log_e$)  \n",
        "$y_k$ : ニューラルネットワークの出力  \n",
        "$t_k$ : 教師ラベル（正解ラベルとなるインデックスだけが1で、その他は0（one-hot表現））  \n",
        "$k$ : データの次元数（ただし正解ラベル以外は0となるので正解ラベルのみ計算すればよい）  \n",
        "\n",
        "■交差エントロピー誤差（ミニバッチ対応）  \n",
        "$$\n",
        "L=-\\frac{1}{N}\\sum_n \\sum_k t_{nk} \\log{y_{nk}}\n",
        "$$\n",
        "$N$：データの個数"
      ],
      "metadata": {
        "id": "5dw1CpykURm4"
      }
    },
    {
      "cell_type": "markdown",
      "source": [
        "### 1.3.2 微分と勾配\n",
        "$L=f(\\rm{x})$, $L$:スカラ, $\\rm{x}$:ベクトル  \n",
        "ベクトルの各要素に関する微分をまとめて**勾配** \n",
        "\n",
        "$$\n",
        "\\frac{\\partial L}{\\partial \\rm{x}}=\\left( \\frac{\\partial L}{\\partial x_1}, \\frac{\\partial L}{\\partial x_2}, \\cdots, \\frac{\\partial L}{\\partial x_n} \\right)\n",
        "$$\n",
        "\n",
        "$\\mathbf W$: $m \\times n$の行列として$L=g(\\mathbf W)$という関数の勾配は以下  \n",
        "\n",
        "\n",
        "$$\n",
        "\\frac{\\partial L}{\\partial \\mathbf W}=\n",
        "\\begin{pmatrix}\n",
        "\\frac{\\partial L}{\\partial W_{11}} & \\cdots & \\frac{\\partial L}{\\partial W_{1n}}\\\\\n",
        "\\vdots & \\ddots &        &  \\\\\n",
        "\\frac{\\partial L}{\\partial W_{m1}} &  & \\frac{\\partial L}{\\partial W_{mn}}\n",
        "\\end{pmatrix}\n",
        "$$"
      ],
      "metadata": {
        "id": "V7VejDqVYhSy"
      }
    },
    {
      "cell_type": "markdown",
      "source": [
        "### 1.3.3 チェインルール\n",
        "$y=f(x), z=g(y)$  \n",
        "$z=g(f(x))$  \n",
        "\n",
        "合成関数の微分 - $x$に関する$z$の微分 - は以下  \n",
        "\n",
        "$$\n",
        "\\frac{\\partial z}{\\partial x}=\\frac{\\partial z}{\\partial y}\\frac{\\partial y}{\\partial x}\n",
        "$$"
      ],
      "metadata": {
        "id": "fVxbtLsehkgz"
      }
    },
    {
      "cell_type": "markdown",
      "source": [
        "### 1.3.4 計算グラフ\n",
        "#### 1.3.4.1 乗算ノード\n",
        "#### 1.3.4.2 分岐ノード\n",
        "#### 1.3.4.3 Repeatノード\n"
      ],
      "metadata": {
        "id": "IaiaUOT8iXtX"
      }
    },
    {
      "cell_type": "code",
      "source": [
        "import numpy as np\n",
        "D, N = 8, 7\n",
        "x = np.random.randn(1, D) # 入力\n",
        "y = np.repeat(x, N, axis=0) # forward\n",
        "dy = np.random.randn(N, D) # 仮の勾配\n",
        "dx = np.sum(dy, axis=0, keepdims=True) # backward\n",
        "dx"
      ],
      "metadata": {
        "colab": {
          "base_uri": "https://localhost:8080/"
        },
        "id": "n7z2HiBUmQYh",
        "outputId": "dea1fe64-e6b1-45b8-b158-6ce8ea51d693"
      },
      "execution_count": null,
      "outputs": [
        {
          "output_type": "execute_result",
          "data": {
            "text/plain": [
              "array([[ 1.95647112,  1.03571187,  3.22773239,  0.07572132, -3.25809953,\n",
              "        -1.65043012, -3.71719272,  2.39647124]])"
            ]
          },
          "metadata": {},
          "execution_count": 21
        }
      ]
    },
    {
      "cell_type": "markdown",
      "source": [
        "#### 1.3.4.4 Sumノード"
      ],
      "metadata": {
        "id": "aZaVLb_im23W"
      }
    },
    {
      "cell_type": "code",
      "source": [
        "import numpy as np\n",
        "D, N = 8, 7\n",
        "x = np.random.randn(1, D) # 入力\n",
        "y = np.sum(x, axis=0, keepdims=True) # forward\n",
        "dy = np.random.randn(1, D) # 仮の勾配\n",
        "dx = np.repeat(dy, N, axis=0) # backward\n",
        "dx"
      ],
      "metadata": {
        "colab": {
          "base_uri": "https://localhost:8080/"
        },
        "id": "kl8FczVenFGg",
        "outputId": "a5e5297d-e871-4431-b196-d42efb8351dc"
      },
      "execution_count": null,
      "outputs": [
        {
          "output_type": "execute_result",
          "data": {
            "text/plain": [
              "array([[-0.01129201,  0.28375146,  1.13895337,  1.41967447, -0.57879809,\n",
              "         0.68506664,  0.95844008, -1.36485711],\n",
              "       [-0.01129201,  0.28375146,  1.13895337,  1.41967447, -0.57879809,\n",
              "         0.68506664,  0.95844008, -1.36485711],\n",
              "       [-0.01129201,  0.28375146,  1.13895337,  1.41967447, -0.57879809,\n",
              "         0.68506664,  0.95844008, -1.36485711],\n",
              "       [-0.01129201,  0.28375146,  1.13895337,  1.41967447, -0.57879809,\n",
              "         0.68506664,  0.95844008, -1.36485711],\n",
              "       [-0.01129201,  0.28375146,  1.13895337,  1.41967447, -0.57879809,\n",
              "         0.68506664,  0.95844008, -1.36485711],\n",
              "       [-0.01129201,  0.28375146,  1.13895337,  1.41967447, -0.57879809,\n",
              "         0.68506664,  0.95844008, -1.36485711],\n",
              "       [-0.01129201,  0.28375146,  1.13895337,  1.41967447, -0.57879809,\n",
              "         0.68506664,  0.95844008, -1.36485711]])"
            ]
          },
          "metadata": {},
          "execution_count": 22
        }
      ]
    },
    {
      "cell_type": "markdown",
      "source": [
        "#### 1.3.4.5 MatMulノード"
      ],
      "metadata": {
        "id": "Ep_h2qjshjkt"
      }
    },
    {
      "cell_type": "markdown",
      "source": [
        "common/layers.py"
      ],
      "metadata": {
        "id": "RvHHoMXJoam-"
      }
    },
    {
      "cell_type": "code",
      "source": [
        "class MatMul:\n",
        "    def __init__(self, W):\n",
        "        self.params = [W]\n",
        "        self.grads = [np.zeros_like(W)]\n",
        "        self.x = None\n",
        "\n",
        "    def forward(self, x):\n",
        "        W, = self.params\n",
        "        out = np.dot(x, W)\n",
        "        self.x = x\n",
        "        return out\n",
        "\n",
        "    def backward(self, dout):\n",
        "        W, = self.params\n",
        "        dx = np.dot(dout, W.T)\n",
        "        dW = np.dot(self.x.T, dout)\n",
        "        self.grads[0][...] = dW\n",
        "        return dx"
      ],
      "metadata": {
        "id": "Ay3HFTP3oX_T"
      },
      "execution_count": null,
      "outputs": []
    },
    {
      "cell_type": "markdown",
      "source": [
        "### 1.3.5 勾配の導出と逆伝播の実装\n",
        "#### 1.3.5.1 Sigmoidレイヤ\n",
        "シグモイド関数  \n",
        "$$\\sigma(x)=\\frac{1}{1+\\exp(-x)}$$  \n",
        "\n",
        "シグモイド関数の微分  \n",
        "$$\n",
        "\\frac{\\partial y}{\\partial x}=y(1-y)\n",
        "$$\n"
      ],
      "metadata": {
        "id": "kvlnAdQ4o0gw"
      }
    },
    {
      "cell_type": "markdown",
      "source": [
        "common/layers.py"
      ],
      "metadata": {
        "id": "FsmEsYULpr81"
      }
    },
    {
      "cell_type": "code",
      "source": [
        "class Sigmoid:\n",
        "    def __init__(self):\n",
        "        self.params, self.grads = [], []\n",
        "        self.out = None\n",
        "\n",
        "    def forward(self, x):\n",
        "        out = 1 / (1 + np.exp(-x))\n",
        "        self.out = out\n",
        "        return out\n",
        "\n",
        "    def backward(self, dout):\n",
        "        dx = dout * (1.0 - self.out) * self.out\n",
        "        return dx"
      ],
      "metadata": {
        "id": "vs7aj75lpu2b"
      },
      "execution_count": null,
      "outputs": []
    },
    {
      "cell_type": "markdown",
      "source": [
        "#### 1.3.5.2 Affineレイヤ\n",
        "Affineレイヤの順伝播  \n",
        "y = np.dot(x, W) + b"
      ],
      "metadata": {
        "id": "dmcQLC5Yp5fv"
      }
    },
    {
      "cell_type": "markdown",
      "source": [
        "common/layers.py"
      ],
      "metadata": {
        "id": "2ZRpJRLZq-1z"
      }
    },
    {
      "cell_type": "code",
      "source": [
        "class Affine:\n",
        "    def __init__(self, W, b):\n",
        "        self.params = [W, b]\n",
        "        self.grads = [np.zeros_like(W), np.zeros_like(b)]\n",
        "        self.x = None\n",
        "\n",
        "    def forward(self, x):\n",
        "        W, b = self.params\n",
        "        out = np.dot(x, W) + b\n",
        "        self.x = x\n",
        "        return out\n",
        "\n",
        "    def backward(self, dout):\n",
        "        W, b = self.params\n",
        "        dx = np.dot(dout, W.T)\n",
        "        dW = np.dot(self.x.T, dout)\n",
        "        db = np.sum(dout, axis=0)\n",
        "\n",
        "        self.grads[0][...] = dW\n",
        "        self.grads[1][...] = db\n",
        "        return dx"
      ],
      "metadata": {
        "id": "JWqfCxW1rBgh"
      },
      "execution_count": null,
      "outputs": []
    },
    {
      "cell_type": "markdown",
      "source": [
        "#### 1.3.5.3 Softmax with Lossレイヤ"
      ],
      "metadata": {
        "id": "WaOH7yy1rJtY"
      }
    },
    {
      "cell_type": "markdown",
      "source": [
        "common/layers.py"
      ],
      "metadata": {
        "id": "H-Mf9Z48rb7M"
      }
    },
    {
      "cell_type": "code",
      "source": [
        "class SoftmaxWithLoss:\n",
        "    def __init__(self):\n",
        "        self.params, self.grads = [], []\n",
        "        self.y = None  # softmaxの出力\n",
        "        self.t = None  # 教師ラベル\n",
        "\n",
        "    def forward(self, x, t):\n",
        "        self.t = t\n",
        "        self.y = softmax(x)\n",
        "\n",
        "        # 教師ラベルがone-hotベクトルの場合、正解のインデックスに変換\n",
        "        if self.t.size == self.y.size:\n",
        "            self.t = self.t.argmax(axis=1)\n",
        "\n",
        "        loss = cross_entropy_error(self.y, self.t)\n",
        "        return loss\n",
        "\n",
        "    def backward(self, dout=1):\n",
        "        batch_size = self.t.shape[0]\n",
        "\n",
        "        dx = self.y.copy()\n",
        "        dx[np.arange(batch_size), self.t] -= 1\n",
        "        dx *= dout\n",
        "        dx = dx / batch_size\n",
        "\n",
        "        return dx"
      ],
      "metadata": {
        "id": "UiUkYOw1rZhD"
      },
      "execution_count": null,
      "outputs": []
    },
    {
      "cell_type": "markdown",
      "source": [
        "### 1.3.6 重みの更新\n",
        "- Step-1：ミニバッチ\n",
        "- Step-2：勾配の算出\n",
        "- Step-3：パラメータの更新\n",
        "- Step-4：繰り返す\n",
        "\n",
        "勾配降下法  \n",
        "SGD (stochastic gradient descent)\n",
        "$$\n",
        "\\mathbf W \\leftarrow \\mathbf W - η\\frac{\\partial L}{\\partial \\mathbf W}\n",
        "$$\n",
        "$\\mathbf W: 重みパラメータ$  \n",
        "$η: 学習係数$"
      ],
      "metadata": {
        "id": "5SU21OIDqyMX"
      }
    },
    {
      "cell_type": "markdown",
      "source": [
        "common/optimizer.py"
      ],
      "metadata": {
        "id": "a58fWhfgr_GQ"
      }
    },
    {
      "cell_type": "code",
      "source": [
        "class SGD:\n",
        "    '''\n",
        "    確率的勾配降下法（Stochastic Gradient Descent）\n",
        "    '''\n",
        "    def __init__(self, lr=0.01):\n",
        "        self.lr = lr\n",
        "        \n",
        "    def update(self, params, grads):\n",
        "        for i in range(len(params)):\n",
        "            params[i] -= self.lr * grads[i]"
      ],
      "metadata": {
        "id": "uF_cTgS0sP01"
      },
      "execution_count": 1,
      "outputs": []
    },
    {
      "cell_type": "markdown",
      "source": [
        "## 1.4 ニューラルネットワークで問題を解く\n",
        "### 1.4.1 スパイラル・データセット"
      ],
      "metadata": {
        "id": "ROnWEl5-stb_"
      }
    },
    {
      "cell_type": "markdown",
      "source": [
        "## ■Colaboratory用\n",
        "Google Colaboratoryの場合、Google Driveに  \n",
        "dl-from-scratch-2/ch01  \n",
        "というフォルダを用意し、そこにこのjupyter notebookを配置。  \n",
        "(dl-from-scratch-2の部分は任意。)  \n",
        "また、datasetフォルダとcommonフォルダを\n",
        "dl-from-scratch-2/dataset  \n",
        "dl-from-scratch-2/common\n",
        "にコピーしておく。  \n",
        "\n",
        "以下のセルでGoogle Driveをマウント。許可を求められるので許可する。"
      ],
      "metadata": {
        "id": "bAN74CQGlIq3"
      }
    },
    {
      "cell_type": "code",
      "source": [
        "from google.colab import drive\n",
        "drive.mount('/content/drive')"
      ],
      "metadata": {
        "colab": {
          "base_uri": "https://localhost:8080/"
        },
        "id": "AnjCkmJ4k3Eu",
        "outputId": "0302e467-513d-4a8b-83ee-acbbf199fbbb"
      },
      "execution_count": 2,
      "outputs": [
        {
          "output_type": "stream",
          "name": "stdout",
          "text": [
            "Mounted at /content/drive\n"
          ]
        }
      ]
    },
    {
      "cell_type": "markdown",
      "source": [
        "## ■Colaboratory用\n",
        "chdirする。"
      ],
      "metadata": {
        "id": "7hvO60aYlQy_"
      }
    },
    {
      "cell_type": "code",
      "source": [
        "import sys,os\n",
        "os.chdir('/content/drive/My Drive/dl-from-scratch-2/ch01')\n",
        "os.getcwd()"
      ],
      "metadata": {
        "colab": {
          "base_uri": "https://localhost:8080/",
          "height": 35
        },
        "id": "BAxDdYj8lBax",
        "outputId": "8547fcb0-add9-41a6-97b1-32a759cf2f2c"
      },
      "execution_count": 16,
      "outputs": [
        {
          "output_type": "execute_result",
          "data": {
            "text/plain": [
              "'/content/drive/My Drive/dl-from-scratch-2/ch01'"
            ],
            "application/vnd.google.colaboratory.intrinsic+json": {
              "type": "string"
            }
          },
          "metadata": {},
          "execution_count": 16
        }
      ]
    },
    {
      "cell_type": "code",
      "source": [
        "# coding: utf-8\n",
        "import sys\n",
        "sys.path.append('..')  # 親ディレクトリのファイルをインポートするための設定\n",
        "from dataset import spiral\n",
        "import matplotlib.pyplot as plt\n",
        "\n",
        "\n",
        "x, t = spiral.load_data()\n",
        "print('x', x.shape)  # (300, 2)\n",
        "print('t', t.shape)  # (300, 3)\n",
        "\n",
        "# データ点のプロット\n",
        "N = 100\n",
        "CLS_NUM = 3\n",
        "markers = ['o', 'x', '^']\n",
        "for i in range(CLS_NUM):\n",
        "    plt.scatter(x[i*N:(i+1)*N, 0], x[i*N:(i+1)*N, 1], s=40, marker=markers[i])\n",
        "plt.show()"
      ],
      "metadata": {
        "id": "Vdjc8MMDu-X3",
        "colab": {
          "base_uri": "https://localhost:8080/",
          "height": 300
        },
        "outputId": "222dca4b-87cd-48a3-c3c1-b4211d942a21"
      },
      "execution_count": 17,
      "outputs": [
        {
          "output_type": "stream",
          "name": "stdout",
          "text": [
            "x (300, 2)\n",
            "t (300, 3)\n"
          ]
        },
        {
          "output_type": "display_data",
          "data": {
            "text/plain": [
              "<Figure size 432x288 with 1 Axes>"
            ],
            "image/png": "[encoded data removed]"
          },
          "metadata": {
            "needs_background": "light"
          }
        }
      ]
    },
    {
      "cell_type": "markdown",
      "source": [
        "### 1.4.2 ニューラルネットワークの実装"
      ],
      "metadata": {
        "id": "_e6okhAwwQCA"
      }
    },
    {
      "cell_type": "markdown",
      "source": [
        "ch01/two_layer_net.py"
      ],
      "metadata": {
        "id": "rubuFO9jwd5e"
      }
    },
    {
      "cell_type": "code",
      "source": [
        "# coding: utf-8\n",
        "import sys\n",
        "sys.path.append('..')  # 親ディレクトリのファイルをインポートするための設定\n",
        "import numpy as np\n",
        "from common.layers import Affine, Sigmoid, SoftmaxWithLoss\n",
        "\n",
        "\n",
        "class TwoLayerNet:\n",
        "    def __init__(self, input_size, hidden_size, output_size):\n",
        "        I, H, O = input_size, hidden_size, output_size\n",
        "\n",
        "        # 重みとバイアスの初期化\n",
        "        W1 = 0.01 * np.random.randn(I, H)\n",
        "        b1 = np.zeros(H)\n",
        "        W2 = 0.01 * np.random.randn(H, O)\n",
        "        b2 = np.zeros(O)\n",
        "\n",
        "        # レイヤの生成\n",
        "        self.layers = [\n",
        "            Affine(W1, b1),\n",
        "            Sigmoid(),\n",
        "            Affine(W2, b2)\n",
        "        ]\n",
        "        self.loss_layer = SoftmaxWithLoss()\n",
        "\n",
        "        # すべての重みと勾配をリストにまとめる\n",
        "        self.params, self.grads = [], []\n",
        "        for layer in self.layers:\n",
        "            self.params += layer.params\n",
        "            self.grads += layer.grads\n",
        "\n",
        "    def predict(self, x):\n",
        "        for layer in self.layers:\n",
        "            x = layer.forward(x)\n",
        "        return x\n",
        "\n",
        "    def forward(self, x, t):\n",
        "        score = self.predict(x)\n",
        "        loss = self.loss_layer.forward(score, t)\n",
        "        return loss\n",
        "\n",
        "    def backward(self, dout=1):\n",
        "        dout = self.loss_layer.backward(dout)\n",
        "        for layer in reversed(self.layers):\n",
        "            dout = layer.backward(dout)\n",
        "        return dout"
      ],
      "metadata": {
        "id": "EEizQGcduKsj"
      },
      "execution_count": 5,
      "outputs": []
    },
    {
      "cell_type": "markdown",
      "source": [
        "### 1.4.3 学習用のソースコード"
      ],
      "metadata": {
        "id": "L3iZRGbawuON"
      }
    },
    {
      "cell_type": "markdown",
      "source": [
        "ch01/train_custom_loop.py"
      ],
      "metadata": {
        "id": "kVoX59XTwxx1"
      }
    },
    {
      "cell_type": "code",
      "source": [
        "# coding: utf-8\n",
        "import sys\n",
        "sys.path.append('..')  # 親ディレクトリのファイルをインポートするための設定\n",
        "import numpy as np\n",
        "from common.optimizer import SGD\n",
        "from dataset import spiral\n",
        "import matplotlib.pyplot as plt\n",
        "from two_layer_net import TwoLayerNet\n",
        "\n",
        "\n",
        "# ハイパーパラメータの設定\n",
        "max_epoch = 300\n",
        "batch_size = 30\n",
        "hidden_size = 10\n",
        "learning_rate = 1.0\n",
        "\n",
        "x, t = spiral.load_data()\n",
        "model = TwoLayerNet(input_size=2, hidden_size=hidden_size, output_size=3)\n",
        "optimizer = SGD(lr=learning_rate)\n",
        "\n",
        "# 学習で使用する変数\n",
        "data_size = len(x)\n",
        "max_iters = data_size // batch_size\n",
        "total_loss = 0\n",
        "loss_count = 0\n",
        "loss_list = []\n",
        "\n",
        "for epoch in range(max_epoch):\n",
        "    # データのシャッフル\n",
        "    idx = np.random.permutation(data_size)\n",
        "    x = x[idx]\n",
        "    t = t[idx]\n",
        "\n",
        "    for iters in range(max_iters):\n",
        "        batch_x = x[iters*batch_size:(iters+1)*batch_size]\n",
        "        batch_t = t[iters*batch_size:(iters+1)*batch_size]\n",
        "\n",
        "        # 勾配を求め、パラメータを更新\n",
        "        loss = model.forward(batch_x, batch_t)\n",
        "        model.backward()\n",
        "        optimizer.update(model.params, model.grads)\n",
        "\n",
        "        total_loss += loss\n",
        "        loss_count += 1\n",
        "\n",
        "        # 定期的に学習経過を出力\n",
        "        if (iters+1) % 10 == 0:\n",
        "            avg_loss = total_loss / loss_count\n",
        "            print('| epoch %d |  iter %d / %d | loss %.2f'\n",
        "                  % (epoch + 1, iters + 1, max_iters, avg_loss))\n",
        "            loss_list.append(avg_loss)\n",
        "            total_loss, loss_count = 0, 0"
      ],
      "metadata": {
        "colab": {
          "base_uri": "https://localhost:8080/"
        },
        "id": "NZZ2-rnLwpH8",
        "outputId": "58409acd-5572-491d-fcc8-12d8e57b6dd0"
      },
      "execution_count": 11,
      "outputs": [
        {
          "output_type": "stream",
          "name": "stdout",
          "text": [
            "| epoch 1 |  iter 10 / 10 | loss 1.13\n",
            "| epoch 2 |  iter 10 / 10 | loss 1.13\n",
            "| epoch 3 |  iter 10 / 10 | loss 1.12\n",
            "| epoch 4 |  iter 10 / 10 | loss 1.12\n",
            "| epoch 5 |  iter 10 / 10 | loss 1.11\n",
            "| epoch 6 |  iter 10 / 10 | loss 1.14\n",
            "| epoch 7 |  iter 10 / 10 | loss 1.16\n",
            "| epoch 8 |  iter 10 / 10 | loss 1.11\n",
            "| epoch 9 |  iter 10 / 10 | loss 1.12\n",
            "| epoch 10 |  iter 10 / 10 | loss 1.13\n",
            "| epoch 11 |  iter 10 / 10 | loss 1.12\n",
            "| epoch 12 |  iter 10 / 10 | loss 1.11\n",
            "| epoch 13 |  iter 10 / 10 | loss 1.09\n",
            "| epoch 14 |  iter 10 / 10 | loss 1.08\n",
            "| epoch 15 |  iter 10 / 10 | loss 1.04\n",
            "| epoch 16 |  iter 10 / 10 | loss 1.03\n",
            "| epoch 17 |  iter 10 / 10 | loss 0.96\n",
            "| epoch 18 |  iter 10 / 10 | loss 0.92\n",
            "| epoch 19 |  iter 10 / 10 | loss 0.92\n",
            "| epoch 20 |  iter 10 / 10 | loss 0.87\n",
            "| epoch 21 |  iter 10 / 10 | loss 0.85\n",
            "| epoch 22 |  iter 10 / 10 | loss 0.82\n",
            "| epoch 23 |  iter 10 / 10 | loss 0.79\n",
            "| epoch 24 |  iter 10 / 10 | loss 0.78\n",
            "| epoch 25 |  iter 10 / 10 | loss 0.82\n",
            "| epoch 26 |  iter 10 / 10 | loss 0.78\n",
            "| epoch 27 |  iter 10 / 10 | loss 0.76\n",
            "| epoch 28 |  iter 10 / 10 | loss 0.76\n",
            "| epoch 29 |  iter 10 / 10 | loss 0.78\n",
            "| epoch 30 |  iter 10 / 10 | loss 0.75\n",
            "| epoch 31 |  iter 10 / 10 | loss 0.78\n",
            "| epoch 32 |  iter 10 / 10 | loss 0.77\n",
            "| epoch 33 |  iter 10 / 10 | loss 0.77\n",
            "| epoch 34 |  iter 10 / 10 | loss 0.78\n",
            "| epoch 35 |  iter 10 / 10 | loss 0.75\n",
            "| epoch 36 |  iter 10 / 10 | loss 0.74\n",
            "| epoch 37 |  iter 10 / 10 | loss 0.76\n",
            "| epoch 38 |  iter 10 / 10 | loss 0.76\n",
            "| epoch 39 |  iter 10 / 10 | loss 0.73\n",
            "| epoch 40 |  iter 10 / 10 | loss 0.75\n",
            "| epoch 41 |  iter 10 / 10 | loss 0.76\n",
            "| epoch 42 |  iter 10 / 10 | loss 0.76\n",
            "| epoch 43 |  iter 10 / 10 | loss 0.76\n",
            "| epoch 44 |  iter 10 / 10 | loss 0.74\n",
            "| epoch 45 |  iter 10 / 10 | loss 0.75\n",
            "| epoch 46 |  iter 10 / 10 | loss 0.73\n",
            "| epoch 47 |  iter 10 / 10 | loss 0.72\n",
            "| epoch 48 |  iter 10 / 10 | loss 0.73\n",
            "| epoch 49 |  iter 10 / 10 | loss 0.72\n",
            "| epoch 50 |  iter 10 / 10 | loss 0.72\n",
            "| epoch 51 |  iter 10 / 10 | loss 0.72\n",
            "| epoch 52 |  iter 10 / 10 | loss 0.72\n",
            "| epoch 53 |  iter 10 / 10 | loss 0.74\n",
            "| epoch 54 |  iter 10 / 10 | loss 0.74\n",
            "| epoch 55 |  iter 10 / 10 | loss 0.72\n",
            "| epoch 56 |  iter 10 / 10 | loss 0.72\n",
            "| epoch 57 |  iter 10 / 10 | loss 0.71\n",
            "| epoch 58 |  iter 10 / 10 | loss 0.70\n",
            "| epoch 59 |  iter 10 / 10 | loss 0.72\n",
            "| epoch 60 |  iter 10 / 10 | loss 0.70\n",
            "| epoch 61 |  iter 10 / 10 | loss 0.71\n",
            "| epoch 62 |  iter 10 / 10 | loss 0.72\n",
            "| epoch 63 |  iter 10 / 10 | loss 0.70\n",
            "| epoch 64 |  iter 10 / 10 | loss 0.71\n",
            "| epoch 65 |  iter 10 / 10 | loss 0.73\n",
            "| epoch 66 |  iter 10 / 10 | loss 0.70\n",
            "| epoch 67 |  iter 10 / 10 | loss 0.71\n",
            "| epoch 68 |  iter 10 / 10 | loss 0.69\n",
            "| epoch 69 |  iter 10 / 10 | loss 0.70\n",
            "| epoch 70 |  iter 10 / 10 | loss 0.71\n",
            "| epoch 71 |  iter 10 / 10 | loss 0.68\n",
            "| epoch 72 |  iter 10 / 10 | loss 0.69\n",
            "| epoch 73 |  iter 10 / 10 | loss 0.67\n",
            "| epoch 74 |  iter 10 / 10 | loss 0.68\n",
            "| epoch 75 |  iter 10 / 10 | loss 0.67\n",
            "| epoch 76 |  iter 10 / 10 | loss 0.66\n",
            "| epoch 77 |  iter 10 / 10 | loss 0.69\n",
            "| epoch 78 |  iter 10 / 10 | loss 0.64\n",
            "| epoch 79 |  iter 10 / 10 | loss 0.68\n",
            "| epoch 80 |  iter 10 / 10 | loss 0.64\n",
            "| epoch 81 |  iter 10 / 10 | loss 0.64\n",
            "| epoch 82 |  iter 10 / 10 | loss 0.66\n",
            "| epoch 83 |  iter 10 / 10 | loss 0.62\n",
            "| epoch 84 |  iter 10 / 10 | loss 0.62\n",
            "| epoch 85 |  iter 10 / 10 | loss 0.61\n",
            "| epoch 86 |  iter 10 / 10 | loss 0.60\n",
            "| epoch 87 |  iter 10 / 10 | loss 0.60\n",
            "| epoch 88 |  iter 10 / 10 | loss 0.61\n",
            "| epoch 89 |  iter 10 / 10 | loss 0.59\n",
            "| epoch 90 |  iter 10 / 10 | loss 0.58\n",
            "| epoch 91 |  iter 10 / 10 | loss 0.56\n",
            "| epoch 92 |  iter 10 / 10 | loss 0.56\n",
            "| epoch 93 |  iter 10 / 10 | loss 0.54\n",
            "| epoch 94 |  iter 10 / 10 | loss 0.53\n",
            "| epoch 95 |  iter 10 / 10 | loss 0.53\n",
            "| epoch 96 |  iter 10 / 10 | loss 0.52\n",
            "| epoch 97 |  iter 10 / 10 | loss 0.51\n",
            "| epoch 98 |  iter 10 / 10 | loss 0.50\n",
            "| epoch 99 |  iter 10 / 10 | loss 0.48\n",
            "| epoch 100 |  iter 10 / 10 | loss 0.48\n",
            "| epoch 101 |  iter 10 / 10 | loss 0.46\n",
            "| epoch 102 |  iter 10 / 10 | loss 0.45\n",
            "| epoch 103 |  iter 10 / 10 | loss 0.45\n",
            "| epoch 104 |  iter 10 / 10 | loss 0.44\n",
            "| epoch 105 |  iter 10 / 10 | loss 0.44\n",
            "| epoch 106 |  iter 10 / 10 | loss 0.41\n",
            "| epoch 107 |  iter 10 / 10 | loss 0.40\n",
            "| epoch 108 |  iter 10 / 10 | loss 0.41\n",
            "| epoch 109 |  iter 10 / 10 | loss 0.40\n",
            "| epoch 110 |  iter 10 / 10 | loss 0.40\n",
            "| epoch 111 |  iter 10 / 10 | loss 0.38\n",
            "| epoch 112 |  iter 10 / 10 | loss 0.38\n",
            "| epoch 113 |  iter 10 / 10 | loss 0.36\n",
            "| epoch 114 |  iter 10 / 10 | loss 0.37\n",
            "| epoch 115 |  iter 10 / 10 | loss 0.35\n",
            "| epoch 116 |  iter 10 / 10 | loss 0.34\n",
            "| epoch 117 |  iter 10 / 10 | loss 0.34\n",
            "| epoch 118 |  iter 10 / 10 | loss 0.34\n",
            "| epoch 119 |  iter 10 / 10 | loss 0.33\n",
            "| epoch 120 |  iter 10 / 10 | loss 0.34\n",
            "| epoch 121 |  iter 10 / 10 | loss 0.32\n",
            "| epoch 122 |  iter 10 / 10 | loss 0.32\n",
            "| epoch 123 |  iter 10 / 10 | loss 0.31\n",
            "| epoch 124 |  iter 10 / 10 | loss 0.31\n",
            "| epoch 125 |  iter 10 / 10 | loss 0.30\n",
            "| epoch 126 |  iter 10 / 10 | loss 0.30\n",
            "| epoch 127 |  iter 10 / 10 | loss 0.28\n",
            "| epoch 128 |  iter 10 / 10 | loss 0.28\n",
            "| epoch 129 |  iter 10 / 10 | loss 0.28\n",
            "| epoch 130 |  iter 10 / 10 | loss 0.28\n",
            "| epoch 131 |  iter 10 / 10 | loss 0.27\n",
            "| epoch 132 |  iter 10 / 10 | loss 0.27\n",
            "| epoch 133 |  iter 10 / 10 | loss 0.27\n",
            "| epoch 134 |  iter 10 / 10 | loss 0.27\n",
            "| epoch 135 |  iter 10 / 10 | loss 0.27\n",
            "| epoch 136 |  iter 10 / 10 | loss 0.26\n",
            "| epoch 137 |  iter 10 / 10 | loss 0.26\n",
            "| epoch 138 |  iter 10 / 10 | loss 0.26\n",
            "| epoch 139 |  iter 10 / 10 | loss 0.25\n",
            "| epoch 140 |  iter 10 / 10 | loss 0.24\n",
            "| epoch 141 |  iter 10 / 10 | loss 0.24\n",
            "| epoch 142 |  iter 10 / 10 | loss 0.25\n",
            "| epoch 143 |  iter 10 / 10 | loss 0.24\n",
            "| epoch 144 |  iter 10 / 10 | loss 0.24\n",
            "| epoch 145 |  iter 10 / 10 | loss 0.23\n",
            "| epoch 146 |  iter 10 / 10 | loss 0.24\n",
            "| epoch 147 |  iter 10 / 10 | loss 0.23\n",
            "| epoch 148 |  iter 10 / 10 | loss 0.23\n",
            "| epoch 149 |  iter 10 / 10 | loss 0.22\n",
            "| epoch 150 |  iter 10 / 10 | loss 0.22\n",
            "| epoch 151 |  iter 10 / 10 | loss 0.22\n",
            "| epoch 152 |  iter 10 / 10 | loss 0.22\n",
            "| epoch 153 |  iter 10 / 10 | loss 0.22\n",
            "| epoch 154 |  iter 10 / 10 | loss 0.22\n",
            "| epoch 155 |  iter 10 / 10 | loss 0.22\n",
            "| epoch 156 |  iter 10 / 10 | loss 0.21\n",
            "| epoch 157 |  iter 10 / 10 | loss 0.21\n",
            "| epoch 158 |  iter 10 / 10 | loss 0.20\n",
            "| epoch 159 |  iter 10 / 10 | loss 0.21\n",
            "| epoch 160 |  iter 10 / 10 | loss 0.20\n",
            "| epoch 161 |  iter 10 / 10 | loss 0.20\n",
            "| epoch 162 |  iter 10 / 10 | loss 0.20\n",
            "| epoch 163 |  iter 10 / 10 | loss 0.21\n",
            "| epoch 164 |  iter 10 / 10 | loss 0.20\n",
            "| epoch 165 |  iter 10 / 10 | loss 0.20\n",
            "| epoch 166 |  iter 10 / 10 | loss 0.19\n",
            "| epoch 167 |  iter 10 / 10 | loss 0.19\n",
            "| epoch 168 |  iter 10 / 10 | loss 0.19\n",
            "| epoch 169 |  iter 10 / 10 | loss 0.19\n",
            "| epoch 170 |  iter 10 / 10 | loss 0.19\n",
            "| epoch 171 |  iter 10 / 10 | loss 0.19\n",
            "| epoch 172 |  iter 10 / 10 | loss 0.18\n",
            "| epoch 173 |  iter 10 / 10 | loss 0.18\n",
            "| epoch 174 |  iter 10 / 10 | loss 0.18\n",
            "| epoch 175 |  iter 10 / 10 | loss 0.18\n",
            "| epoch 176 |  iter 10 / 10 | loss 0.18\n",
            "| epoch 177 |  iter 10 / 10 | loss 0.18\n",
            "| epoch 178 |  iter 10 / 10 | loss 0.18\n",
            "| epoch 179 |  iter 10 / 10 | loss 0.17\n",
            "| epoch 180 |  iter 10 / 10 | loss 0.17\n",
            "| epoch 181 |  iter 10 / 10 | loss 0.18\n",
            "| epoch 182 |  iter 10 / 10 | loss 0.17\n",
            "| epoch 183 |  iter 10 / 10 | loss 0.18\n",
            "| epoch 184 |  iter 10 / 10 | loss 0.17\n",
            "| epoch 185 |  iter 10 / 10 | loss 0.17\n",
            "| epoch 186 |  iter 10 / 10 | loss 0.18\n",
            "| epoch 187 |  iter 10 / 10 | loss 0.17\n",
            "| epoch 188 |  iter 10 / 10 | loss 0.17\n",
            "| epoch 189 |  iter 10 / 10 | loss 0.17\n",
            "| epoch 190 |  iter 10 / 10 | loss 0.17\n",
            "| epoch 191 |  iter 10 / 10 | loss 0.16\n",
            "| epoch 192 |  iter 10 / 10 | loss 0.17\n",
            "| epoch 193 |  iter 10 / 10 | loss 0.16\n",
            "| epoch 194 |  iter 10 / 10 | loss 0.16\n",
            "| epoch 195 |  iter 10 / 10 | loss 0.16\n",
            "| epoch 196 |  iter 10 / 10 | loss 0.16\n",
            "| epoch 197 |  iter 10 / 10 | loss 0.16\n",
            "| epoch 198 |  iter 10 / 10 | loss 0.15\n",
            "| epoch 199 |  iter 10 / 10 | loss 0.16\n",
            "| epoch 200 |  iter 10 / 10 | loss 0.16\n",
            "| epoch 201 |  iter 10 / 10 | loss 0.15\n",
            "| epoch 202 |  iter 10 / 10 | loss 0.16\n",
            "| epoch 203 |  iter 10 / 10 | loss 0.16\n",
            "| epoch 204 |  iter 10 / 10 | loss 0.15\n",
            "| epoch 205 |  iter 10 / 10 | loss 0.16\n",
            "| epoch 206 |  iter 10 / 10 | loss 0.15\n",
            "| epoch 207 |  iter 10 / 10 | loss 0.15\n",
            "| epoch 208 |  iter 10 / 10 | loss 0.15\n",
            "| epoch 209 |  iter 10 / 10 | loss 0.15\n",
            "| epoch 210 |  iter 10 / 10 | loss 0.15\n",
            "| epoch 211 |  iter 10 / 10 | loss 0.15\n",
            "| epoch 212 |  iter 10 / 10 | loss 0.15\n",
            "| epoch 213 |  iter 10 / 10 | loss 0.15\n",
            "| epoch 214 |  iter 10 / 10 | loss 0.15\n",
            "| epoch 215 |  iter 10 / 10 | loss 0.15\n",
            "| epoch 216 |  iter 10 / 10 | loss 0.14\n",
            "| epoch 217 |  iter 10 / 10 | loss 0.14\n",
            "| epoch 218 |  iter 10 / 10 | loss 0.15\n",
            "| epoch 219 |  iter 10 / 10 | loss 0.14\n",
            "| epoch 220 |  iter 10 / 10 | loss 0.14\n",
            "| epoch 221 |  iter 10 / 10 | loss 0.14\n",
            "| epoch 222 |  iter 10 / 10 | loss 0.14\n",
            "| epoch 223 |  iter 10 / 10 | loss 0.14\n",
            "| epoch 224 |  iter 10 / 10 | loss 0.14\n",
            "| epoch 225 |  iter 10 / 10 | loss 0.14\n",
            "| epoch 226 |  iter 10 / 10 | loss 0.14\n",
            "| epoch 227 |  iter 10 / 10 | loss 0.14\n",
            "| epoch 228 |  iter 10 / 10 | loss 0.14\n",
            "| epoch 229 |  iter 10 / 10 | loss 0.13\n",
            "| epoch 230 |  iter 10 / 10 | loss 0.14\n",
            "| epoch 231 |  iter 10 / 10 | loss 0.13\n",
            "| epoch 232 |  iter 10 / 10 | loss 0.14\n",
            "| epoch 233 |  iter 10 / 10 | loss 0.13\n",
            "| epoch 234 |  iter 10 / 10 | loss 0.13\n",
            "| epoch 235 |  iter 10 / 10 | loss 0.13\n",
            "| epoch 236 |  iter 10 / 10 | loss 0.13\n",
            "| epoch 237 |  iter 10 / 10 | loss 0.14\n",
            "| epoch 238 |  iter 10 / 10 | loss 0.13\n",
            "| epoch 239 |  iter 10 / 10 | loss 0.13\n",
            "| epoch 240 |  iter 10 / 10 | loss 0.14\n",
            "| epoch 241 |  iter 10 / 10 | loss 0.13\n",
            "| epoch 242 |  iter 10 / 10 | loss 0.13\n",
            "| epoch 243 |  iter 10 / 10 | loss 0.13\n",
            "| epoch 244 |  iter 10 / 10 | loss 0.13\n",
            "| epoch 245 |  iter 10 / 10 | loss 0.13\n",
            "| epoch 246 |  iter 10 / 10 | loss 0.13\n",
            "| epoch 247 |  iter 10 / 10 | loss 0.13\n",
            "| epoch 248 |  iter 10 / 10 | loss 0.13\n",
            "| epoch 249 |  iter 10 / 10 | loss 0.13\n",
            "| epoch 250 |  iter 10 / 10 | loss 0.13\n",
            "| epoch 251 |  iter 10 / 10 | loss 0.13\n",
            "| epoch 252 |  iter 10 / 10 | loss 0.12\n",
            "| epoch 253 |  iter 10 / 10 | loss 0.12\n",
            "| epoch 254 |  iter 10 / 10 | loss 0.12\n",
            "| epoch 255 |  iter 10 / 10 | loss 0.12\n",
            "| epoch 256 |  iter 10 / 10 | loss 0.12\n",
            "| epoch 257 |  iter 10 / 10 | loss 0.12\n",
            "| epoch 258 |  iter 10 / 10 | loss 0.12\n",
            "| epoch 259 |  iter 10 / 10 | loss 0.13\n",
            "| epoch 260 |  iter 10 / 10 | loss 0.12\n",
            "| epoch 261 |  iter 10 / 10 | loss 0.13\n",
            "| epoch 262 |  iter 10 / 10 | loss 0.12\n",
            "| epoch 263 |  iter 10 / 10 | loss 0.12\n",
            "| epoch 264 |  iter 10 / 10 | loss 0.13\n",
            "| epoch 265 |  iter 10 / 10 | loss 0.12\n",
            "| epoch 266 |  iter 10 / 10 | loss 0.12\n",
            "| epoch 267 |  iter 10 / 10 | loss 0.12\n",
            "| epoch 268 |  iter 10 / 10 | loss 0.12\n",
            "| epoch 269 |  iter 10 / 10 | loss 0.11\n",
            "| epoch 270 |  iter 10 / 10 | loss 0.12\n",
            "| epoch 271 |  iter 10 / 10 | loss 0.12\n",
            "| epoch 272 |  iter 10 / 10 | loss 0.12\n",
            "| epoch 273 |  iter 10 / 10 | loss 0.12\n",
            "| epoch 274 |  iter 10 / 10 | loss 0.12\n",
            "| epoch 275 |  iter 10 / 10 | loss 0.11\n",
            "| epoch 276 |  iter 10 / 10 | loss 0.12\n",
            "| epoch 277 |  iter 10 / 10 | loss 0.12\n",
            "| epoch 278 |  iter 10 / 10 | loss 0.11\n",
            "| epoch 279 |  iter 10 / 10 | loss 0.11\n",
            "| epoch 280 |  iter 10 / 10 | loss 0.11\n",
            "| epoch 281 |  iter 10 / 10 | loss 0.11\n",
            "| epoch 282 |  iter 10 / 10 | loss 0.12\n",
            "| epoch 283 |  iter 10 / 10 | loss 0.11\n",
            "| epoch 284 |  iter 10 / 10 | loss 0.11\n",
            "| epoch 285 |  iter 10 / 10 | loss 0.11\n",
            "| epoch 286 |  iter 10 / 10 | loss 0.11\n",
            "| epoch 287 |  iter 10 / 10 | loss 0.11\n",
            "| epoch 288 |  iter 10 / 10 | loss 0.12\n",
            "| epoch 289 |  iter 10 / 10 | loss 0.11\n",
            "| epoch 290 |  iter 10 / 10 | loss 0.11\n",
            "| epoch 291 |  iter 10 / 10 | loss 0.11\n",
            "| epoch 292 |  iter 10 / 10 | loss 0.11\n",
            "| epoch 293 |  iter 10 / 10 | loss 0.11\n",
            "| epoch 294 |  iter 10 / 10 | loss 0.11\n",
            "| epoch 295 |  iter 10 / 10 | loss 0.12\n",
            "| epoch 296 |  iter 10 / 10 | loss 0.11\n",
            "| epoch 297 |  iter 10 / 10 | loss 0.12\n",
            "| epoch 298 |  iter 10 / 10 | loss 0.11\n",
            "| epoch 299 |  iter 10 / 10 | loss 0.11\n",
            "| epoch 300 |  iter 10 / 10 | loss 0.11\n"
          ]
        }
      ]
    },
    {
      "cell_type": "code",
      "source": [
        "# 学習結果のプロット\n",
        "plt.plot(np.arange(len(loss_list)), loss_list, label='train')\n",
        "plt.xlabel('iterations (x10)')\n",
        "plt.ylabel('loss')\n",
        "plt.show()"
      ],
      "metadata": {
        "colab": {
          "base_uri": "https://localhost:8080/",
          "height": 281
        },
        "id": "w-jeXwdyxPWO",
        "outputId": "a4794fa3-f64b-4aaf-b966-61e60208b6df"
      },
      "execution_count": 12,
      "outputs": [
        {
          "output_type": "display_data",
          "data": {
            "text/plain": [
              "<Figure size 432x288 with 1 Axes>"
            ],
            "image/png": "[encoded data removed]"
          },
          "metadata": {
            "needs_background": "light"
          }
        }
      ]
    },
    {
      "cell_type": "code",
      "source": [
        "# 境界領域のプロット\n",
        "h = 0.001\n",
        "x_min, x_max = x[:, 0].min() - .1, x[:, 0].max() + .1\n",
        "y_min, y_max = x[:, 1].min() - .1, x[:, 1].max() + .1\n",
        "xx, yy = np.meshgrid(np.arange(x_min, x_max, h), np.arange(y_min, y_max, h))\n",
        "X = np.c_[xx.ravel(), yy.ravel()]\n",
        "score = model.predict(X)\n",
        "predict_cls = np.argmax(score, axis=1)\n",
        "Z = predict_cls.reshape(xx.shape)\n",
        "plt.contourf(xx, yy, Z)\n",
        "plt.axis('off')\n",
        "\n",
        "# データ点のプロット\n",
        "x, t = spiral.load_data()\n",
        "N = 100\n",
        "CLS_NUM = 3\n",
        "markers = ['o', 'x', '^']\n",
        "for i in range(CLS_NUM):\n",
        "    plt.scatter(x[i*N:(i+1)*N, 0], x[i*N:(i+1)*N, 1], s=40, marker=markers[i])\n",
        "plt.show()"
      ],
      "metadata": {
        "colab": {
          "base_uri": "https://localhost:8080/",
          "height": 248
        },
        "id": "7meAAInvyYDU",
        "outputId": "b4ddb598-cc7c-43cc-e391-7686d536a3e3"
      },
      "execution_count": 15,
      "outputs": [
        {
          "output_type": "display_data",
          "data": {
            "text/plain": [
              "<Figure size 432x288 with 1 Axes>"
            ],
            "image/png": "[encoded data removed]"
          },
          "metadata": {
            "needs_background": "light"
          }
        }
      ]
    },
    {
      "cell_type": "markdown",
      "source": [
        "### 1.4.4 Trainerクラス"
      ],
      "metadata": {
        "id": "Y1Xeqgzo0Hnq"
      }
    },
    {
      "cell_type": "markdown",
      "source": [
        "common/trainer.py参照"
      ],
      "metadata": {
        "id": "usXYXxGb0S61"
      }
    },
    {
      "cell_type": "markdown",
      "source": [
        "ch01/train.py"
      ],
      "metadata": {
        "id": "FDHwR-hX05h3"
      }
    },
    {
      "cell_type": "code",
      "source": [
        "# coding: utf-8\n",
        "import sys\n",
        "sys.path.append('..')  # 親ディレクトリのファイルをインポートするための設定\n",
        "from common.optimizer import SGD\n",
        "from common.trainer import Trainer\n",
        "from dataset import spiral\n",
        "from two_layer_net import TwoLayerNet\n",
        "\n",
        "\n",
        "# ハイパーパラメータの設定\n",
        "max_epoch = 300\n",
        "batch_size = 30\n",
        "hidden_size = 10\n",
        "learning_rate = 1.0\n",
        "\n",
        "x, t = spiral.load_data()\n",
        "model = TwoLayerNet(input_size=2, hidden_size=hidden_size, output_size=3)\n",
        "optimizer = SGD(lr=learning_rate)\n",
        "\n",
        "trainer = Trainer(model, optimizer)\n",
        "trainer.fit(x, t, max_epoch, batch_size, eval_interval=10)\n",
        "trainer.plot()"
      ],
      "metadata": {
        "colab": {
          "base_uri": "https://localhost:8080/",
          "height": 1000
        },
        "id": "Ln-caLqSylF_",
        "outputId": "165531ad-90b2-4876-ab9a-61a2537cbb46"
      },
      "execution_count": 18,
      "outputs": [
        {
          "output_type": "stream",
          "name": "stdout",
          "text": [
            "| epoch 1 |  iter 1 / 10 | time 0[s] | loss 1.10\n",
            "| epoch 2 |  iter 1 / 10 | time 0[s] | loss 1.12\n",
            "| epoch 3 |  iter 1 / 10 | time 0[s] | loss 1.13\n",
            "| epoch 4 |  iter 1 / 10 | time 0[s] | loss 1.12\n",
            "| epoch 5 |  iter 1 / 10 | time 0[s] | loss 1.12\n",
            "| epoch 6 |  iter 1 / 10 | time 0[s] | loss 1.10\n",
            "| epoch 7 |  iter 1 / 10 | time 0[s] | loss 1.14\n",
            "| epoch 8 |  iter 1 / 10 | time 0[s] | loss 1.16\n",
            "| epoch 9 |  iter 1 / 10 | time 0[s] | loss 1.11\n",
            "| epoch 10 |  iter 1 / 10 | time 0[s] | loss 1.12\n",
            "| epoch 11 |  iter 1 / 10 | time 0[s] | loss 1.12\n",
            "| epoch 12 |  iter 1 / 10 | time 0[s] | loss 1.12\n",
            "| epoch 13 |  iter 1 / 10 | time 0[s] | loss 1.10\n",
            "| epoch 14 |  iter 1 / 10 | time 0[s] | loss 1.09\n",
            "| epoch 15 |  iter 1 / 10 | time 0[s] | loss 1.08\n",
            "| epoch 16 |  iter 1 / 10 | time 0[s] | loss 1.04\n",
            "| epoch 17 |  iter 1 / 10 | time 0[s] | loss 1.03\n",
            "| epoch 18 |  iter 1 / 10 | time 0[s] | loss 0.94\n",
            "| epoch 19 |  iter 1 / 10 | time 0[s] | loss 0.92\n",
            "| epoch 20 |  iter 1 / 10 | time 0[s] | loss 0.92\n",
            "| epoch 21 |  iter 1 / 10 | time 0[s] | loss 0.87\n",
            "| epoch 22 |  iter 1 / 10 | time 0[s] | loss 0.85\n",
            "| epoch 23 |  iter 1 / 10 | time 0[s] | loss 0.80\n",
            "| epoch 24 |  iter 1 / 10 | time 0[s] | loss 0.79\n",
            "| epoch 25 |  iter 1 / 10 | time 0[s] | loss 0.78\n",
            "| epoch 26 |  iter 1 / 10 | time 0[s] | loss 0.83\n",
            "| epoch 27 |  iter 1 / 10 | time 0[s] | loss 0.77\n",
            "| epoch 28 |  iter 1 / 10 | time 0[s] | loss 0.76\n",
            "| epoch 29 |  iter 1 / 10 | time 0[s] | loss 0.77\n",
            "| epoch 30 |  iter 1 / 10 | time 0[s] | loss 0.76\n",
            "| epoch 31 |  iter 1 / 10 | time 0[s] | loss 0.77\n",
            "| epoch 32 |  iter 1 / 10 | time 0[s] | loss 0.75\n",
            "| epoch 33 |  iter 1 / 10 | time 0[s] | loss 0.78\n",
            "| epoch 34 |  iter 1 / 10 | time 0[s] | loss 0.77\n",
            "| epoch 35 |  iter 1 / 10 | time 0[s] | loss 0.78\n",
            "| epoch 36 |  iter 1 / 10 | time 0[s] | loss 0.74\n",
            "| epoch 37 |  iter 1 / 10 | time 0[s] | loss 0.75\n",
            "| epoch 38 |  iter 1 / 10 | time 0[s] | loss 0.77\n",
            "| epoch 39 |  iter 1 / 10 | time 0[s] | loss 0.75\n",
            "| epoch 40 |  iter 1 / 10 | time 0[s] | loss 0.73\n",
            "| epoch 41 |  iter 1 / 10 | time 0[s] | loss 0.75\n",
            "| epoch 42 |  iter 1 / 10 | time 0[s] | loss 0.76\n",
            "| epoch 43 |  iter 1 / 10 | time 0[s] | loss 0.79\n",
            "| epoch 44 |  iter 1 / 10 | time 0[s] | loss 0.74\n",
            "| epoch 45 |  iter 1 / 10 | time 0[s] | loss 0.75\n",
            "| epoch 46 |  iter 1 / 10 | time 0[s] | loss 0.73\n",
            "| epoch 47 |  iter 1 / 10 | time 0[s] | loss 0.73\n",
            "| epoch 48 |  iter 1 / 10 | time 0[s] | loss 0.73\n",
            "| epoch 49 |  iter 1 / 10 | time 0[s] | loss 0.73\n",
            "| epoch 50 |  iter 1 / 10 | time 0[s] | loss 0.72\n",
            "| epoch 51 |  iter 1 / 10 | time 0[s] | loss 0.72\n",
            "| epoch 52 |  iter 1 / 10 | time 0[s] | loss 0.72\n",
            "| epoch 53 |  iter 1 / 10 | time 0[s] | loss 0.72\n",
            "| epoch 54 |  iter 1 / 10 | time 0[s] | loss 0.74\n",
            "| epoch 55 |  iter 1 / 10 | time 0[s] | loss 0.74\n",
            "| epoch 56 |  iter 1 / 10 | time 0[s] | loss 0.73\n",
            "| epoch 57 |  iter 1 / 10 | time 0[s] | loss 0.72\n",
            "| epoch 58 |  iter 1 / 10 | time 0[s] | loss 0.69\n",
            "| epoch 59 |  iter 1 / 10 | time 0[s] | loss 0.72\n",
            "| epoch 60 |  iter 1 / 10 | time 0[s] | loss 0.70\n",
            "| epoch 61 |  iter 1 / 10 | time 0[s] | loss 0.69\n",
            "| epoch 62 |  iter 1 / 10 | time 0[s] | loss 0.71\n",
            "| epoch 63 |  iter 1 / 10 | time 0[s] | loss 0.70\n",
            "| epoch 64 |  iter 1 / 10 | time 0[s] | loss 0.71\n",
            "| epoch 65 |  iter 1 / 10 | time 0[s] | loss 0.72\n",
            "| epoch 66 |  iter 1 / 10 | time 0[s] | loss 0.71\n",
            "| epoch 67 |  iter 1 / 10 | time 0[s] | loss 0.71\n",
            "| epoch 68 |  iter 1 / 10 | time 0[s] | loss 0.71\n",
            "| epoch 69 |  iter 1 / 10 | time 0[s] | loss 0.70\n",
            "| epoch 70 |  iter 1 / 10 | time 0[s] | loss 0.68\n",
            "| epoch 71 |  iter 1 / 10 | time 0[s] | loss 0.73\n",
            "| epoch 72 |  iter 1 / 10 | time 0[s] | loss 0.66\n",
            "| epoch 73 |  iter 1 / 10 | time 0[s] | loss 0.69\n",
            "| epoch 74 |  iter 1 / 10 | time 0[s] | loss 0.66\n",
            "| epoch 75 |  iter 1 / 10 | time 0[s] | loss 0.70\n",
            "| epoch 76 |  iter 1 / 10 | time 0[s] | loss 0.65\n",
            "| epoch 77 |  iter 1 / 10 | time 0[s] | loss 0.67\n",
            "| epoch 78 |  iter 1 / 10 | time 0[s] | loss 0.70\n",
            "| epoch 79 |  iter 1 / 10 | time 0[s] | loss 0.63\n",
            "| epoch 80 |  iter 1 / 10 | time 0[s] | loss 0.66\n",
            "| epoch 81 |  iter 1 / 10 | time 0[s] | loss 0.65\n",
            "| epoch 82 |  iter 1 / 10 | time 0[s] | loss 0.66\n",
            "| epoch 83 |  iter 1 / 10 | time 0[s] | loss 0.64\n",
            "| epoch 84 |  iter 1 / 10 | time 0[s] | loss 0.62\n",
            "| epoch 85 |  iter 1 / 10 | time 0[s] | loss 0.62\n",
            "| epoch 86 |  iter 1 / 10 | time 0[s] | loss 0.63\n",
            "| epoch 87 |  iter 1 / 10 | time 0[s] | loss 0.59\n",
            "| epoch 88 |  iter 1 / 10 | time 0[s] | loss 0.58\n",
            "| epoch 89 |  iter 1 / 10 | time 0[s] | loss 0.61\n",
            "| epoch 90 |  iter 1 / 10 | time 0[s] | loss 0.59\n",
            "| epoch 91 |  iter 1 / 10 | time 0[s] | loss 0.58\n",
            "| epoch 92 |  iter 1 / 10 | time 0[s] | loss 0.57\n",
            "| epoch 93 |  iter 1 / 10 | time 0[s] | loss 0.55\n",
            "| epoch 94 |  iter 1 / 10 | time 0[s] | loss 0.54\n",
            "| epoch 95 |  iter 1 / 10 | time 0[s] | loss 0.53\n",
            "| epoch 96 |  iter 1 / 10 | time 0[s] | loss 0.54\n",
            "| epoch 97 |  iter 1 / 10 | time 0[s] | loss 0.51\n",
            "| epoch 98 |  iter 1 / 10 | time 0[s] | loss 0.51\n",
            "| epoch 99 |  iter 1 / 10 | time 0[s] | loss 0.50\n",
            "| epoch 100 |  iter 1 / 10 | time 0[s] | loss 0.47\n",
            "| epoch 101 |  iter 1 / 10 | time 0[s] | loss 0.49\n",
            "| epoch 102 |  iter 1 / 10 | time 0[s] | loss 0.46\n",
            "| epoch 103 |  iter 1 / 10 | time 0[s] | loss 0.44\n",
            "| epoch 104 |  iter 1 / 10 | time 0[s] | loss 0.47\n",
            "| epoch 105 |  iter 1 / 10 | time 0[s] | loss 0.44\n",
            "| epoch 106 |  iter 1 / 10 | time 0[s] | loss 0.43\n",
            "| epoch 107 |  iter 1 / 10 | time 0[s] | loss 0.43\n",
            "| epoch 108 |  iter 1 / 10 | time 0[s] | loss 0.39\n",
            "| epoch 109 |  iter 1 / 10 | time 0[s] | loss 0.40\n",
            "| epoch 110 |  iter 1 / 10 | time 0[s] | loss 0.41\n",
            "| epoch 111 |  iter 1 / 10 | time 0[s] | loss 0.38\n",
            "| epoch 112 |  iter 1 / 10 | time 0[s] | loss 0.38\n",
            "| epoch 113 |  iter 1 / 10 | time 0[s] | loss 0.38\n",
            "| epoch 114 |  iter 1 / 10 | time 0[s] | loss 0.37\n",
            "| epoch 115 |  iter 1 / 10 | time 0[s] | loss 0.36\n",
            "| epoch 116 |  iter 1 / 10 | time 0[s] | loss 0.34\n",
            "| epoch 117 |  iter 1 / 10 | time 0[s] | loss 0.35\n",
            "| epoch 118 |  iter 1 / 10 | time 0[s] | loss 0.33\n",
            "| epoch 119 |  iter 1 / 10 | time 0[s] | loss 0.35\n",
            "| epoch 120 |  iter 1 / 10 | time 0[s] | loss 0.33\n",
            "| epoch 121 |  iter 1 / 10 | time 0[s] | loss 0.33\n",
            "| epoch 122 |  iter 1 / 10 | time 0[s] | loss 0.32\n",
            "| epoch 123 |  iter 1 / 10 | time 0[s] | loss 0.31\n",
            "| epoch 124 |  iter 1 / 10 | time 0[s] | loss 0.31\n",
            "| epoch 125 |  iter 1 / 10 | time 0[s] | loss 0.31\n",
            "| epoch 126 |  iter 1 / 10 | time 0[s] | loss 0.30\n",
            "| epoch 127 |  iter 1 / 10 | time 0[s] | loss 0.30\n",
            "| epoch 128 |  iter 1 / 10 | time 0[s] | loss 0.27\n",
            "| epoch 129 |  iter 1 / 10 | time 0[s] | loss 0.30\n",
            "| epoch 130 |  iter 1 / 10 | time 0[s] | loss 0.28\n",
            "| epoch 131 |  iter 1 / 10 | time 0[s] | loss 0.26\n",
            "| epoch 132 |  iter 1 / 10 | time 0[s] | loss 0.27\n",
            "| epoch 133 |  iter 1 / 10 | time 0[s] | loss 0.27\n",
            "| epoch 134 |  iter 1 / 10 | time 0[s] | loss 0.28\n",
            "| epoch 135 |  iter 1 / 10 | time 0[s] | loss 0.26\n",
            "| epoch 136 |  iter 1 / 10 | time 0[s] | loss 0.28\n",
            "| epoch 137 |  iter 1 / 10 | time 0[s] | loss 0.25\n",
            "| epoch 138 |  iter 1 / 10 | time 0[s] | loss 0.26\n",
            "| epoch 139 |  iter 1 / 10 | time 0[s] | loss 0.26\n",
            "| epoch 140 |  iter 1 / 10 | time 0[s] | loss 0.26\n",
            "| epoch 141 |  iter 1 / 10 | time 0[s] | loss 0.23\n",
            "| epoch 142 |  iter 1 / 10 | time 0[s] | loss 0.23\n",
            "| epoch 143 |  iter 1 / 10 | time 0[s] | loss 0.26\n",
            "| epoch 144 |  iter 1 / 10 | time 0[s] | loss 0.23\n",
            "| epoch 145 |  iter 1 / 10 | time 0[s] | loss 0.24\n",
            "| epoch 146 |  iter 1 / 10 | time 0[s] | loss 0.24\n",
            "| epoch 147 |  iter 1 / 10 | time 0[s] | loss 0.25\n",
            "| epoch 148 |  iter 1 / 10 | time 0[s] | loss 0.21\n",
            "| epoch 149 |  iter 1 / 10 | time 0[s] | loss 0.23\n",
            "| epoch 150 |  iter 1 / 10 | time 0[s] | loss 0.22\n",
            "| epoch 151 |  iter 1 / 10 | time 0[s] | loss 0.22\n",
            "| epoch 152 |  iter 1 / 10 | time 0[s] | loss 0.23\n",
            "| epoch 153 |  iter 1 / 10 | time 0[s] | loss 0.23\n",
            "| epoch 154 |  iter 1 / 10 | time 0[s] | loss 0.20\n",
            "| epoch 155 |  iter 1 / 10 | time 0[s] | loss 0.22\n",
            "| epoch 156 |  iter 1 / 10 | time 0[s] | loss 0.21\n",
            "| epoch 157 |  iter 1 / 10 | time 0[s] | loss 0.21\n",
            "| epoch 158 |  iter 1 / 10 | time 0[s] | loss 0.20\n",
            "| epoch 159 |  iter 1 / 10 | time 0[s] | loss 0.21\n",
            "| epoch 160 |  iter 1 / 10 | time 0[s] | loss 0.20\n",
            "| epoch 161 |  iter 1 / 10 | time 0[s] | loss 0.19\n",
            "| epoch 162 |  iter 1 / 10 | time 0[s] | loss 0.22\n",
            "| epoch 163 |  iter 1 / 10 | time 0[s] | loss 0.19\n",
            "| epoch 164 |  iter 1 / 10 | time 0[s] | loss 0.21\n",
            "| epoch 165 |  iter 1 / 10 | time 0[s] | loss 0.20\n",
            "| epoch 166 |  iter 1 / 10 | time 0[s] | loss 0.20\n",
            "| epoch 167 |  iter 1 / 10 | time 0[s] | loss 0.20\n",
            "| epoch 168 |  iter 1 / 10 | time 0[s] | loss 0.19\n",
            "| epoch 169 |  iter 1 / 10 | time 0[s] | loss 0.18\n",
            "| epoch 170 |  iter 1 / 10 | time 0[s] | loss 0.19\n",
            "| epoch 171 |  iter 1 / 10 | time 0[s] | loss 0.19\n",
            "| epoch 172 |  iter 1 / 10 | time 0[s] | loss 0.20\n",
            "| epoch 173 |  iter 1 / 10 | time 0[s] | loss 0.16\n",
            "| epoch 174 |  iter 1 / 10 | time 0[s] | loss 0.20\n",
            "| epoch 175 |  iter 1 / 10 | time 0[s] | loss 0.18\n",
            "| epoch 176 |  iter 1 / 10 | time 0[s] | loss 0.17\n",
            "| epoch 177 |  iter 1 / 10 | time 0[s] | loss 0.17\n",
            "| epoch 178 |  iter 1 / 10 | time 0[s] | loss 0.17\n",
            "| epoch 179 |  iter 1 / 10 | time 0[s] | loss 0.18\n",
            "| epoch 180 |  iter 1 / 10 | time 0[s] | loss 0.19\n",
            "| epoch 181 |  iter 1 / 10 | time 0[s] | loss 0.17\n",
            "| epoch 182 |  iter 1 / 10 | time 0[s] | loss 0.18\n",
            "| epoch 183 |  iter 1 / 10 | time 0[s] | loss 0.16\n",
            "| epoch 184 |  iter 1 / 10 | time 0[s] | loss 0.18\n",
            "| epoch 185 |  iter 1 / 10 | time 0[s] | loss 0.18\n",
            "| epoch 186 |  iter 1 / 10 | time 0[s] | loss 0.17\n",
            "| epoch 187 |  iter 1 / 10 | time 0[s] | loss 0.17\n",
            "| epoch 188 |  iter 1 / 10 | time 0[s] | loss 0.18\n",
            "| epoch 189 |  iter 1 / 10 | time 0[s] | loss 0.16\n",
            "| epoch 190 |  iter 1 / 10 | time 0[s] | loss 0.16\n",
            "| epoch 191 |  iter 1 / 10 | time 0[s] | loss 0.17\n",
            "| epoch 192 |  iter 1 / 10 | time 0[s] | loss 0.17\n",
            "| epoch 193 |  iter 1 / 10 | time 0[s] | loss 0.16\n",
            "| epoch 194 |  iter 1 / 10 | time 0[s] | loss 0.16\n",
            "| epoch 195 |  iter 1 / 10 | time 0[s] | loss 0.16\n",
            "| epoch 196 |  iter 1 / 10 | time 0[s] | loss 0.17\n",
            "| epoch 197 |  iter 1 / 10 | time 0[s] | loss 0.16\n",
            "| epoch 198 |  iter 1 / 10 | time 0[s] | loss 0.17\n",
            "| epoch 199 |  iter 1 / 10 | time 0[s] | loss 0.16\n",
            "| epoch 200 |  iter 1 / 10 | time 0[s] | loss 0.14\n",
            "| epoch 201 |  iter 1 / 10 | time 0[s] | loss 0.16\n",
            "| epoch 202 |  iter 1 / 10 | time 0[s] | loss 0.16\n",
            "| epoch 203 |  iter 1 / 10 | time 0[s] | loss 0.15\n",
            "| epoch 204 |  iter 1 / 10 | time 0[s] | loss 0.16\n",
            "| epoch 205 |  iter 1 / 10 | time 0[s] | loss 0.14\n",
            "| epoch 206 |  iter 1 / 10 | time 0[s] | loss 0.16\n",
            "| epoch 207 |  iter 1 / 10 | time 0[s] | loss 0.16\n",
            "| epoch 208 |  iter 1 / 10 | time 0[s] | loss 0.14\n",
            "| epoch 209 |  iter 1 / 10 | time 0[s] | loss 0.15\n",
            "| epoch 210 |  iter 1 / 10 | time 0[s] | loss 0.16\n",
            "| epoch 211 |  iter 1 / 10 | time 0[s] | loss 0.14\n",
            "| epoch 212 |  iter 1 / 10 | time 0[s] | loss 0.15\n",
            "| epoch 213 |  iter 1 / 10 | time 0[s] | loss 0.15\n",
            "| epoch 214 |  iter 1 / 10 | time 0[s] | loss 0.15\n",
            "| epoch 215 |  iter 1 / 10 | time 0[s] | loss 0.14\n",
            "| epoch 216 |  iter 1 / 10 | time 0[s] | loss 0.14\n",
            "| epoch 217 |  iter 1 / 10 | time 0[s] | loss 0.15\n",
            "| epoch 218 |  iter 1 / 10 | time 0[s] | loss 0.14\n",
            "| epoch 219 |  iter 1 / 10 | time 0[s] | loss 0.15\n",
            "| epoch 220 |  iter 1 / 10 | time 0[s] | loss 0.15\n",
            "| epoch 221 |  iter 1 / 10 | time 0[s] | loss 0.14\n",
            "| epoch 222 |  iter 1 / 10 | time 0[s] | loss 0.13\n",
            "| epoch 223 |  iter 1 / 10 | time 0[s] | loss 0.15\n",
            "| epoch 224 |  iter 1 / 10 | time 0[s] | loss 0.14\n",
            "| epoch 225 |  iter 1 / 10 | time 0[s] | loss 0.16\n",
            "| epoch 226 |  iter 1 / 10 | time 0[s] | loss 0.12\n",
            "| epoch 227 |  iter 1 / 10 | time 0[s] | loss 0.13\n",
            "| epoch 228 |  iter 1 / 10 | time 0[s] | loss 0.15\n",
            "| epoch 229 |  iter 1 / 10 | time 0[s] | loss 0.14\n",
            "| epoch 230 |  iter 1 / 10 | time 0[s] | loss 0.13\n",
            "| epoch 231 |  iter 1 / 10 | time 0[s] | loss 0.14\n",
            "| epoch 232 |  iter 1 / 10 | time 0[s] | loss 0.13\n",
            "| epoch 233 |  iter 1 / 10 | time 0[s] | loss 0.13\n",
            "| epoch 234 |  iter 1 / 10 | time 0[s] | loss 0.14\n",
            "| epoch 235 |  iter 1 / 10 | time 0[s] | loss 0.13\n",
            "| epoch 236 |  iter 1 / 10 | time 0[s] | loss 0.12\n",
            "| epoch 237 |  iter 1 / 10 | time 0[s] | loss 0.13\n",
            "| epoch 238 |  iter 1 / 10 | time 0[s] | loss 0.14\n",
            "| epoch 239 |  iter 1 / 10 | time 0[s] | loss 0.14\n",
            "| epoch 240 |  iter 1 / 10 | time 0[s] | loss 0.13\n",
            "| epoch 241 |  iter 1 / 10 | time 0[s] | loss 0.14\n",
            "| epoch 242 |  iter 1 / 10 | time 0[s] | loss 0.13\n",
            "| epoch 243 |  iter 1 / 10 | time 0[s] | loss 0.13\n",
            "| epoch 244 |  iter 1 / 10 | time 0[s] | loss 0.14\n",
            "| epoch 245 |  iter 1 / 10 | time 0[s] | loss 0.12\n",
            "| epoch 246 |  iter 1 / 10 | time 0[s] | loss 0.13\n",
            "| epoch 247 |  iter 1 / 10 | time 0[s] | loss 0.13\n",
            "| epoch 248 |  iter 1 / 10 | time 0[s] | loss 0.12\n",
            "| epoch 249 |  iter 1 / 10 | time 0[s] | loss 0.14\n",
            "| epoch 250 |  iter 1 / 10 | time 0[s] | loss 0.12\n",
            "| epoch 251 |  iter 1 / 10 | time 0[s] | loss 0.13\n",
            "| epoch 252 |  iter 1 / 10 | time 0[s] | loss 0.13\n",
            "| epoch 253 |  iter 1 / 10 | time 0[s] | loss 0.12\n",
            "| epoch 254 |  iter 1 / 10 | time 0[s] | loss 0.12\n",
            "| epoch 255 |  iter 1 / 10 | time 0[s] | loss 0.13\n",
            "| epoch 256 |  iter 1 / 10 | time 0[s] | loss 0.12\n",
            "| epoch 257 |  iter 1 / 10 | time 0[s] | loss 0.12\n",
            "| epoch 258 |  iter 1 / 10 | time 0[s] | loss 0.12\n",
            "| epoch 259 |  iter 1 / 10 | time 0[s] | loss 0.13\n",
            "| epoch 260 |  iter 1 / 10 | time 0[s] | loss 0.13\n",
            "| epoch 261 |  iter 1 / 10 | time 0[s] | loss 0.11\n",
            "| epoch 262 |  iter 1 / 10 | time 0[s] | loss 0.13\n",
            "| epoch 263 |  iter 1 / 10 | time 0[s] | loss 0.12\n",
            "| epoch 264 |  iter 1 / 10 | time 0[s] | loss 0.11\n",
            "| epoch 265 |  iter 1 / 10 | time 0[s] | loss 0.14\n",
            "| epoch 266 |  iter 1 / 10 | time 0[s] | loss 0.11\n",
            "| epoch 267 |  iter 1 / 10 | time 0[s] | loss 0.13\n",
            "| epoch 268 |  iter 1 / 10 | time 0[s] | loss 0.11\n",
            "| epoch 269 |  iter 1 / 10 | time 0[s] | loss 0.13\n",
            "| epoch 270 |  iter 1 / 10 | time 0[s] | loss 0.11\n",
            "| epoch 271 |  iter 1 / 10 | time 0[s] | loss 0.12\n",
            "| epoch 272 |  iter 1 / 10 | time 0[s] | loss 0.12\n",
            "| epoch 273 |  iter 1 / 10 | time 0[s] | loss 0.12\n",
            "| epoch 274 |  iter 1 / 10 | time 0[s] | loss 0.12\n",
            "| epoch 275 |  iter 1 / 10 | time 0[s] | loss 0.12\n",
            "| epoch 276 |  iter 1 / 10 | time 0[s] | loss 0.12\n",
            "| epoch 277 |  iter 1 / 10 | time 0[s] | loss 0.11\n",
            "| epoch 278 |  iter 1 / 10 | time 0[s] | loss 0.13\n",
            "| epoch 279 |  iter 1 / 10 | time 0[s] | loss 0.11\n",
            "| epoch 280 |  iter 1 / 10 | time 0[s] | loss 0.10\n",
            "| epoch 281 |  iter 1 / 10 | time 0[s] | loss 0.12\n",
            "| epoch 282 |  iter 1 / 10 | time 0[s] | loss 0.11\n",
            "| epoch 283 |  iter 1 / 10 | time 0[s] | loss 0.12\n",
            "| epoch 284 |  iter 1 / 10 | time 0[s] | loss 0.11\n",
            "| epoch 285 |  iter 1 / 10 | time 0[s] | loss 0.11\n",
            "| epoch 286 |  iter 1 / 10 | time 0[s] | loss 0.12\n",
            "| epoch 287 |  iter 1 / 10 | time 0[s] | loss 0.11\n",
            "| epoch 288 |  iter 1 / 10 | time 0[s] | loss 0.11\n",
            "| epoch 289 |  iter 1 / 10 | time 0[s] | loss 0.12\n",
            "| epoch 290 |  iter 1 / 10 | time 0[s] | loss 0.11\n",
            "| epoch 291 |  iter 1 / 10 | time 0[s] | loss 0.11\n",
            "| epoch 292 |  iter 1 / 10 | time 0[s] | loss 0.11\n",
            "| epoch 293 |  iter 1 / 10 | time 0[s] | loss 0.11\n",
            "| epoch 294 |  iter 1 / 10 | time 0[s] | loss 0.11\n",
            "| epoch 295 |  iter 1 / 10 | time 0[s] | loss 0.11\n",
            "| epoch 296 |  iter 1 / 10 | time 0[s] | loss 0.12\n",
            "| epoch 297 |  iter 1 / 10 | time 0[s] | loss 0.11\n",
            "| epoch 298 |  iter 1 / 10 | time 0[s] | loss 0.11\n",
            "| epoch 299 |  iter 1 / 10 | time 0[s] | loss 0.11\n",
            "| epoch 300 |  iter 1 / 10 | time 0[s] | loss 0.11\n"
          ]
        },
        {
          "output_type": "display_data",
          "data": {
            "text/plain": [
              "<Figure size 432x288 with 1 Axes>"
            ],
            "image/png": "[encoded data removed]"
          },
          "metadata": {
            "needs_background": "light"
          }
        }
      ]
    },
    {
      "cell_type": "markdown",
      "source": [
        "## 1.5 計算の高速化\n",
        "### 1.5.1 ビット精度"
      ],
      "metadata": {
        "id": "oIruYh9m1EVO"
      }
    },
    {
      "cell_type": "code",
      "source": [
        "import numpy as np\n",
        "a = np.random.randn(3)\n",
        "a.dtype"
      ],
      "metadata": {
        "colab": {
          "base_uri": "https://localhost:8080/"
        },
        "id": "_fK11rbP1JKx",
        "outputId": "8757e997-0f40-4710-d56a-bec9d358a27c"
      },
      "execution_count": 19,
      "outputs": [
        {
          "output_type": "execute_result",
          "data": {
            "text/plain": [
              "dtype('float64')"
            ]
          },
          "metadata": {},
          "execution_count": 19
        }
      ]
    },
    {
      "cell_type": "code",
      "source": [
        "b = np.random.randn(3).astype(np.float32)\n",
        "b.dtype"
      ],
      "metadata": {
        "colab": {
          "base_uri": "https://localhost:8080/"
        },
        "id": "Vk88dowY1Q4P",
        "outputId": "b8106faf-88cf-47d9-b713-3e30ab18780e"
      },
      "execution_count": 20,
      "outputs": [
        {
          "output_type": "execute_result",
          "data": {
            "text/plain": [
              "dtype('float32')"
            ]
          },
          "metadata": {},
          "execution_count": 20
        }
      ]
    },
    {
      "cell_type": "code",
      "source": [
        "c = np.random.randn(3).astype('f')\n",
        "c.dtype"
      ],
      "metadata": {
        "colab": {
          "base_uri": "https://localhost:8080/"
        },
        "id": "eEGTnTrk1XeC",
        "outputId": "9ba460e8-a4b7-4a7f-cbd9-15c688c721c7"
      },
      "execution_count": 21,
      "outputs": [
        {
          "output_type": "execute_result",
          "data": {
            "text/plain": [
              "dtype('float32')"
            ]
          },
          "metadata": {},
          "execution_count": 21
        }
      ]
    },
    {
      "cell_type": "markdown",
      "source": [
        "### 1.5.2 GPU(CuPy)"
      ],
      "metadata": {
        "id": "K0lQ2ovc1k-C"
      }
    },
    {
      "cell_type": "markdown",
      "source": [
        "colaboratoryのランタイムをGPUにすれば実行可能。"
      ],
      "metadata": {
        "id": "VwO3BvQU2bb0"
      }
    },
    {
      "cell_type": "code",
      "source": [
        "import cupy as cp\n",
        "x = cp.arange(6).reshape(2,3).astype('f')\n",
        "x"
      ],
      "metadata": {
        "colab": {
          "base_uri": "https://localhost:8080/"
        },
        "id": "zfoqovpb1d_D",
        "outputId": "65028802-e2c5-43ed-d53f-23324fd0b82f"
      },
      "execution_count": 1,
      "outputs": [
        {
          "output_type": "execute_result",
          "data": {
            "text/plain": [
              "array([[0., 1., 2.],\n",
              "       [3., 4., 5.]], dtype=float32)"
            ]
          },
          "metadata": {},
          "execution_count": 1
        }
      ]
    },
    {
      "cell_type": "markdown",
      "source": [
        "## 1.6 まとめ"
      ],
      "metadata": {
        "id": "WewJDfhk2oug"
      }
    }
  ],
  "metadata": {
    "kernelspec": {
      "display_name": "Python 3",
      "name": "python3"
    },
    "language_info": {
      "name": "python"
    },
    "colab": {
      "provenance": []
    },
    "gpuClass": "standard",
    "accelerator": "GPU"
  },
  "nbformat": 4,
  "nbformat_minor": 0
}