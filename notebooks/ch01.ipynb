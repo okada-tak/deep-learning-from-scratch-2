{
  "cells": [
    {
      "cell_type": "markdown",
      "source": [
        "[![Open In Colab](https://colab.research.google.com/assets/colab-badge.svg)](https://colab.research.google.com/github/okada-tak/deep-learning-from-scratch-2/blob/master/notebooks/ch01.ipynb)\n",
        "\n",
        "# 1章 ニューラルネットワークの復習 のまとめ\n",
        "- ニューラルネットワークは、入力層、隠れ層、出力層を持つ\n",
        "- 全結合層によって線形な変換が行われ、活性化関数によって非線形な変換が行われる\n",
        "- 全結合層やミニバッチ処理は、行列としてまとめて計算することができる\n",
        "- 誤差逆伝播法を使って、効率的にニューラルネットワークの損失に関する勾配を求めることができる\n",
        "- ニューラルネットワークで行う処理は、計算グラフによって可視化することができ、順伝播や逆伝播の理解に役立つ\n",
        "- ニューラルネットワークの実装では、構成要素を「レイヤ」としてモジュール化することで、組み立てが容易になる\n",
        "- ニューラルネットワークの高速化において、データのビット精度とGPUによる並列計算が重要である"
      ],
      "metadata": {
        "id": "9SAWdYOk08sD"
      }
    },
    {
      "cell_type": "markdown",
      "source": [
        "## 4.2.1 2乗和誤差\n",
        "$$\n",
        "E=\\frac{1}{2}\\sum_k (y_k-t_k)^2\n",
        "$$\n",
        "$y_k$ : ニューラルネットワークの出力  \n",
        "$t_k$ : 教師データ  \n",
        "$k$ : データの次元数"
      ],
      "metadata": {
        "id": "vGUB5hfF3p2l"
      }
    },
    {
      "cell_type": "code",
      "source": [
        "# p.89\n",
        "def sum_squared_error(y, t):\n",
        "    return 0.5 * np.sum((y-t)**2)"
      ],
      "metadata": {
        "id": "AGvJVOgI4_sw"
      },
      "execution_count": null,
      "outputs": []
    },
    {
      "cell_type": "code",
      "source": [
        "# p.89\n",
        "# 「2」を正解とする\n",
        "t = [0, 0, 1, 0, 0, 0, 0, 0, 0, 0]"
      ],
      "metadata": {
        "id": "XQ3wgb8M5rsK"
      },
      "execution_count": null,
      "outputs": []
    },
    {
      "cell_type": "code",
      "source": [
        "import numpy as np\n",
        "# p.89\n",
        "# 例1: 「2」の確率が最も高い場合 (0.6)\n",
        "y = [0.1, 0.05, 0.6, 0.0, 0.05, 0.1, 0.0, 0.1, 0.0, 0.0]\n",
        "sum_squared_error(np.array(y), np.array(t))"
      ],
      "metadata": {
        "colab": {
          "base_uri": "https://localhost:8080/"
        },
        "id": "UCowCOz958Wf",
        "outputId": "c2453f2c-953f-449e-a31f-8d4f411073d5"
      },
      "execution_count": null,
      "outputs": [
        {
          "output_type": "execute_result",
          "data": {
            "text/plain": [
              "0.09750000000000003"
            ]
          },
          "metadata": {},
          "execution_count": 3
        }
      ]
    },
    {
      "cell_type": "code",
      "source": [
        "# ■岡田追記\n",
        "# yは確率なので合計すると1になる（ような数値を例にしている）ことを確認。\n",
        "np.sum(y)"
      ],
      "metadata": {
        "colab": {
          "base_uri": "https://localhost:8080/"
        },
        "id": "6QY_V-Kl6ZKs",
        "outputId": "213ca491-b5c4-44f9-cf55-7bdbe2820fa9"
      },
      "execution_count": null,
      "outputs": [
        {
          "output_type": "execute_result",
          "data": {
            "text/plain": [
              "1.0"
            ]
          },
          "metadata": {},
          "execution_count": 4
        }
      ]
    },
    {
      "cell_type": "code",
      "source": [
        "# p.89\n",
        "# 例2: 「7」の確率が最も高い場合 (0.6)。「2」の確率は0.1。\n",
        "y = [0.1, 0.05, 0.1, 0.0, 0.05, 0.1, 0.0, 0.6, 0.0, 0.0]\n",
        "sum_squared_error(np.array(y), np.array(t))"
      ],
      "metadata": {
        "colab": {
          "base_uri": "https://localhost:8080/"
        },
        "id": "-fjQoW-U6Ig8",
        "outputId": "6278df62-35cc-4c0d-c8ca-5c932fe68ea9"
      },
      "execution_count": null,
      "outputs": [
        {
          "output_type": "execute_result",
          "data": {
            "text/plain": [
              "0.5975"
            ]
          },
          "metadata": {},
          "execution_count": 5
        }
      ]
    },
    {
      "cell_type": "markdown",
      "source": [
        "## 4.2.2 交差エントロピー誤差\n",
        "$$\n",
        "E=-\\sum_k t_k \\log{y_k}\n",
        "$$\n",
        "$\\log$ : 底が$e$の自然対数（$\\log_e$)  \n",
        "$y_k$ : ニューラルネットワークの出力  \n",
        "$t_k$ : 正解ラベル（正解ラベルとなるインデックスだけが1で、その他は0（one-hot表現））  \n",
        "$k$ : データの次元数（ただし正解ラベル以外は0となるので正解ラベルのみ計算すればよい）"
      ],
      "metadata": {
        "id": "mx1HeXox6_hc"
      }
    },
    {
      "cell_type": "markdown",
      "source": [
        "$y=-\\log(x)$において、$x$が1に近づくほど$y$が0に近づく。（確率が1に近づくほど誤差が0に近づく。）  \n",
        "p.90の図4.3よりこちらのほうがわかりやすいかと思う。"
      ],
      "metadata": {
        "id": "TLKnAFpYCN9L"
      }
    },
    {
      "cell_type": "code",
      "source": [
        "# 岡田追記。p.90図4-3の変形。\n",
        "import numpy as np\n",
        "import matplotlib.pylab as plt\n",
        "\n",
        "x = np.arange(0.001, 1.01, 0.01)\n",
        "y = -np.log(x)\n",
        "plt.plot(x, y, label='y=-log(x)')\n",
        "plt.ylim(0.0, 5.0)\n",
        "plt.xlabel('x')\n",
        "plt.ylabel('y')\n",
        "plt.legend()\n",
        "plt.show()"
      ],
      "metadata": {
        "colab": {
          "base_uri": "https://localhost:8080/",
          "height": 283
        },
        "id": "J7IRev5V-tVu",
        "outputId": "d59bcc43-b90e-4e76-882c-90917e3f5d42"
      },
      "execution_count": null,
      "outputs": [
        {
          "output_type": "display_data",
          "data": {
            "text/plain": [
              "<Figure size 432x288 with 1 Axes>"
            ],
            "image/png": "[encoded data removed]"
          },
          "metadata": {
            "needs_background": "light"
          }
        }
      ]
    },
    {
      "cell_type": "code",
      "source": [
        "# p.91\n",
        "def cross_entropy_error(y, t):\n",
        "    delta = 1e-7\n",
        "    return -np.sum(t * np.log(y + delta))"
      ],
      "metadata": {
        "id": "F2aBJPia903s"
      },
      "execution_count": null,
      "outputs": []
    },
    {
      "cell_type": "code",
      "source": [
        "# p.91\n",
        "# 「2」を正解とする\n",
        "t = [0, 0, 1, 0, 0, 0, 0, 0, 0, 0]"
      ],
      "metadata": {
        "id": "u2sfH6vO-IQI"
      },
      "execution_count": null,
      "outputs": []
    },
    {
      "cell_type": "code",
      "source": [
        "# p.91\n",
        "# 例1: 「2」の確率が最も高い場合 (0.6)\n",
        "y = [0.1, 0.05, 0.6, 0.0, 0.05, 0.1, 0.0, 0.1, 0.0, 0.0]\n",
        "cross_entropy_error(np.array(y), np.array(t))"
      ],
      "metadata": {
        "colab": {
          "base_uri": "https://localhost:8080/"
        },
        "outputId": "1c2e2ec8-8c12-4260-a40a-da14456b062e",
        "id": "9-QpCs5d-OcC"
      },
      "execution_count": null,
      "outputs": [
        {
          "output_type": "execute_result",
          "data": {
            "text/plain": [
              "0.510825457099338"
            ]
          },
          "metadata": {},
          "execution_count": 9
        }
      ]
    },
    {
      "cell_type": "code",
      "source": [
        "# p.91\n",
        "# 例2: 「7」の確率が最も高い場合 (0.6)。「2」の確率は0.1。\n",
        "y = [0.1, 0.05, 0.1, 0.0, 0.05, 0.1, 0.0, 0.6, 0.0, 0.0]\n",
        "cross_entropy_error(np.array(y), np.array(t))"
      ],
      "metadata": {
        "colab": {
          "base_uri": "https://localhost:8080/"
        },
        "outputId": "df3f378e-ebfb-45f7-e5a0-50d4c746f386",
        "id": "ck7MVWU4-ZGK"
      },
      "execution_count": null,
      "outputs": [
        {
          "output_type": "execute_result",
          "data": {
            "text/plain": [
              "2.302584092994546"
            ]
          },
          "metadata": {},
          "execution_count": 10
        }
      ]
    },
    {
      "cell_type": "markdown",
      "source": [
        "## 4.2.3 ミニバッチ学習"
      ],
      "metadata": {
        "id": "jPpZZl8UKqVy"
      }
    },
    {
      "cell_type": "markdown",
      "source": [
        "# ■追記（岡田）Colaboratory用\n",
        "Google Colaboratoryの場合、Google Driveに  \n",
        "dl-from-scratch/ch04  \n",
        "というフォルダを用意し、そこにこのjupyter notebookを配置。  \n",
        "(dl-from-scratchの部分は任意。)  \n",
        "また、datasetフォルダとcommonフォルダを\n",
        "dl-from-scratch/dataset  \n",
        "dl-from-scratch/common\n",
        "にコピーしておく。  \n",
        "\n",
        "以下のセルでGoogle Driveをマウント。許可を求められるので許可する。"
      ],
      "metadata": {
        "id": "bAN74CQGlIq3"
      }
    },
    {
      "cell_type": "code",
      "source": [
        "from google.colab import drive\n",
        "drive.mount('/content/drive')"
      ],
      "metadata": {
        "colab": {
          "base_uri": "https://localhost:8080/"
        },
        "id": "AnjCkmJ4k3Eu",
        "outputId": "c2c5a99e-ca63-49c0-dc36-483c961d4612"
      },
      "execution_count": null,
      "outputs": [
        {
          "output_type": "stream",
          "name": "stdout",
          "text": [
            "Mounted at /content/drive\n"
          ]
        }
      ]
    },
    {
      "cell_type": "markdown",
      "source": [
        "# ■追記（岡田）Colaboratory用\n",
        "chdirする。"
      ],
      "metadata": {
        "id": "7hvO60aYlQy_"
      }
    },
    {
      "cell_type": "code",
      "source": [
        "import sys,os\n",
        "os.chdir('/content/drive/My Drive/dl-from-scratch/')\n",
        "os.getcwd()"
      ],
      "metadata": {
        "colab": {
          "base_uri": "https://localhost:8080/",
          "height": 35
        },
        "id": "BAxDdYj8lBax",
        "outputId": "c04bd0e7-61bf-4407-b1c8-81de6ccfefe4"
      },
      "execution_count": null,
      "outputs": [
        {
          "output_type": "execute_result",
          "data": {
            "text/plain": [
              "'/content/drive/My Drive/dl-from-scratch'"
            ],
            "application/vnd.google.colaboratory.intrinsic+json": {
              "type": "string"
            }
          },
          "metadata": {},
          "execution_count": 2
        }
      ]
    },
    {
      "cell_type": "code",
      "source": [
        "# MNISTデータセットの読み込み\n",
        "import sys, os\n",
        "sys.path.append(os.pardir)  # 親ディレクトリのファイルをインポートするための設定\n",
        "import numpy as np\n",
        "from dataset.mnist import load_mnist\n",
        "\n",
        "# データの読み込み\n",
        "(x_train, t_train), (x_test, t_test) = load_mnist(normalize=True, one_hot_label=True)\n",
        "\n",
        "print(x_train.shape)\n",
        "print(t_train.shape)"
      ],
      "metadata": {
        "colab": {
          "base_uri": "https://localhost:8080/"
        },
        "id": "TSUKjq3YkcYM",
        "outputId": "ceb4b7b6-ad93-44f1-d787-9d86b223d64b"
      },
      "execution_count": null,
      "outputs": [
        {
          "output_type": "stream",
          "name": "stdout",
          "text": [
            "(60000, 784)\n",
            "(60000, 10)\n"
          ]
        }
      ]
    },
    {
      "cell_type": "code",
      "source": [
        "train_size = x_train.shape[0]\n",
        "batch_size = 10\n",
        "batch_mask = np.random.choice(train_size, batch_size)\n",
        "x_batch = x_train[batch_mask]\n",
        "t_batch = t_train[batch_mask]"
      ],
      "metadata": {
        "id": "Z944e8WFlhGO"
      },
      "execution_count": null,
      "outputs": []
    },
    {
      "cell_type": "code",
      "source": [
        "np.random.choice(60000, 10)\n",
        "# 実行するたびに違う結果が返る"
      ],
      "metadata": {
        "colab": {
          "base_uri": "https://localhost:8080/"
        },
        "id": "KVfIwUpulrBx",
        "outputId": "618b68de-ca1d-4b07-f4b5-c3952f74a6b7"
      },
      "execution_count": null,
      "outputs": [
        {
          "output_type": "execute_result",
          "data": {
            "text/plain": [
              "array([ 1745, 20016, 54247, 20399,   650, 20073, 22179, 13816,  5033,\n",
              "       43750])"
            ]
          },
          "metadata": {},
          "execution_count": 15
        }
      ]
    },
    {
      "cell_type": "code",
      "source": [
        "print(x_batch)\n",
        "print(t_batch)"
      ],
      "metadata": {
        "colab": {
          "base_uri": "https://localhost:8080/"
        },
        "id": "Hr6830Ifm4SC",
        "outputId": "637eac7f-1662-4fdc-f12a-3a19ab7d543b"
      },
      "execution_count": null,
      "outputs": [
        {
          "output_type": "stream",
          "name": "stdout",
          "text": [
            "[[0. 0. 0. ... 0. 0. 0.]\n",
            " [0. 0. 0. ... 0. 0. 0.]\n",
            " [0. 0. 0. ... 0. 0. 0.]\n",
            " ...\n",
            " [0. 0. 0. ... 0. 0. 0.]\n",
            " [0. 0. 0. ... 0. 0. 0.]\n",
            " [0. 0. 0. ... 0. 0. 0.]]\n",
            "[[0. 0. 0. 0. 0. 0. 0. 0. 1. 0.]\n",
            " [0. 0. 0. 0. 0. 0. 0. 1. 0. 0.]\n",
            " [0. 0. 0. 1. 0. 0. 0. 0. 0. 0.]\n",
            " [0. 1. 0. 0. 0. 0. 0. 0. 0. 0.]\n",
            " [0. 0. 0. 0. 0. 0. 0. 0. 1. 0.]\n",
            " [0. 0. 0. 1. 0. 0. 0. 0. 0. 0.]\n",
            " [0. 1. 0. 0. 0. 0. 0. 0. 0. 0.]\n",
            " [0. 1. 0. 0. 0. 0. 0. 0. 0. 0.]\n",
            " [0. 0. 0. 0. 1. 0. 0. 0. 0. 0.]\n",
            " [0. 0. 0. 0. 0. 0. 0. 0. 1. 0.]]\n"
          ]
        }
      ]
    },
    {
      "cell_type": "code",
      "source": [
        "print(x_batch.shape)\n",
        "print(t_batch.shape)\n",
        "print(x_batch.shape[0])"
      ],
      "metadata": {
        "colab": {
          "base_uri": "https://localhost:8080/"
        },
        "id": "8YyPB-2mym9-",
        "outputId": "f03b4937-87ac-4d58-d730-33876e58cfbd"
      },
      "execution_count": null,
      "outputs": [
        {
          "output_type": "stream",
          "name": "stdout",
          "text": [
            "(10, 784)\n",
            "(10, 10)\n",
            "10\n"
          ]
        }
      ]
    },
    {
      "cell_type": "markdown",
      "source": [
        "## 4.2.4 [バッチ対応版] 交差エントロピー誤差の実装"
      ],
      "metadata": {
        "id": "Z_6RRbaNusw6"
      }
    },
    {
      "cell_type": "code",
      "source": [
        "# p.94\n",
        "def cross_entropy_error(y, t):\n",
        "    if y.ndim == 1:\n",
        "        t = t.reshape(1, t.size)\n",
        "        y = y.reshape(1, y.size)\n",
        "\n",
        "    batch_size = y.shape[0]\n",
        "    return -np.sum(t * np.log(y + 1e-7)) / batch_size"
      ],
      "metadata": {
        "id": "K0uW9M_7u1b6"
      },
      "execution_count": null,
      "outputs": []
    },
    {
      "cell_type": "code",
      "source": [
        "cross_entropy_error(np.array(y), np.array(t))\n",
        "# p.91と同じ結果になる。"
      ],
      "metadata": {
        "colab": {
          "base_uri": "https://localhost:8080/"
        },
        "id": "wDZbnvsVvTqO",
        "outputId": "e79ad81c-41d3-442c-ec15-c54b42652548"
      },
      "execution_count": null,
      "outputs": [
        {
          "output_type": "execute_result",
          "data": {
            "text/plain": [
              "2.302584092994546"
            ]
          },
          "metadata": {},
          "execution_count": 19
        }
      ]
    },
    {
      "cell_type": "markdown",
      "source": [
        "## 4.3.1 微分"
      ],
      "metadata": {
        "id": "i7LataY2C_2Y"
      }
    },
    {
      "cell_type": "code",
      "source": [
        "# p.99\n",
        "# 中心差分で計算している\n",
        "def numerical_diff(f, x):\n",
        "    h = 1e-4 # 0.0001\n",
        "    return (f(x+h) - f(x-h)) / (2*h)"
      ],
      "metadata": {
        "id": "9XNpGAlgDB_3"
      },
      "execution_count": null,
      "outputs": []
    },
    {
      "cell_type": "markdown",
      "metadata": {
        "id": "F0RhwScAyuZ_"
      },
      "source": [
        "# ch04/gradient_1d.py"
      ]
    },
    {
      "cell_type": "code",
      "execution_count": null,
      "metadata": {
        "colab": {
          "base_uri": "https://localhost:8080/",
          "height": 296
        },
        "id": "XmtiuaKEyuaC",
        "outputId": "76e9a9bc-49d6-439b-eeca-704bf02976ca"
      },
      "outputs": [
        {
          "output_type": "stream",
          "name": "stdout",
          "text": [
            "0.1999999999990898\n"
          ]
        },
        {
          "output_type": "display_data",
          "data": {
            "text/plain": [
              "<Figure size 432x288 with 1 Axes>"
            ],
            "image/png": "[encoded data removed]"
          },
          "metadata": {
            "needs_background": "light"
          }
        }
      ],
      "source": [
        "import numpy as np\n",
        "import matplotlib.pylab as plt\n",
        "\n",
        "\n",
        "def numerical_diff(f, x):\n",
        "    h = 1e-4 # 0.0001\n",
        "    return (f(x+h) - f(x-h)) / (2*h)\n",
        "\n",
        "\n",
        "def function_1(x):\n",
        "    return 0.01*x**2 + 0.1*x \n",
        "\n",
        "\n",
        "def tangent_line(f, x):\n",
        "    d = numerical_diff(f, x)\n",
        "    print(d)\n",
        "    y = f(x) - d*x\n",
        "    return lambda t: d*t + y\n",
        "     \n",
        "x = np.arange(0.0, 20.0, 0.1)\n",
        "y = function_1(x)\n",
        "plt.xlabel(\"x\")\n",
        "plt.ylabel(\"f(x)\")\n",
        "\n",
        "tf = tangent_line(function_1, 5)\n",
        "y2 = tf(x)\n",
        "\n",
        "plt.plot(x, y)\n",
        "plt.plot(x, y2, label='x=5') # label追加（岡田）\n",
        "plt.legend() # 凡例表示\n",
        "plt.show()"
      ]
    },
    {
      "cell_type": "code",
      "source": [
        "# x=10についても追加\n",
        "tf2 = tangent_line(function_1, 10)\n",
        "y3 = tf2(x)\n",
        "\n",
        "plt.plot(x, y)\n",
        "plt.plot(x, y3, label='x=10')\n",
        "plt.legend()\n",
        "plt.show()"
      ],
      "metadata": {
        "colab": {
          "base_uri": "https://localhost:8080/",
          "height": 282
        },
        "id": "QamFf88Bq0oe",
        "outputId": "abf3961b-e294-4ec9-b757-563a1248d451"
      },
      "execution_count": null,
      "outputs": [
        {
          "output_type": "stream",
          "name": "stdout",
          "text": [
            "0.2999999999986347\n"
          ]
        },
        {
          "output_type": "display_data",
          "data": {
            "text/plain": [
              "<Figure size 432x288 with 1 Axes>"
            ],
            "image/png": "[encoded data removed]"
          },
          "metadata": {
            "needs_background": "light"
          }
        }
      ]
    },
    {
      "cell_type": "markdown",
      "source": [
        "## 4.3.3 偏微分"
      ],
      "metadata": {
        "id": "pCeyjGdM129U"
      }
    },
    {
      "cell_type": "code",
      "source": [
        "# p.102のグラフを描く\n",
        "import numpy as np\n",
        "import matplotlib.pyplot as plt\n",
        "from mpl_toolkits.mplot3d import Axes3D\n",
        "\n",
        "fig = plt.figure()\n",
        "ax = fig.add_subplot(projection='3d')\n",
        "\n",
        "ax.set_xlabel(\"x0\")\n",
        "ax.set_ylabel(\"x1\")\n",
        "ax.set_zlabel(\"f(x0,x1)\")\n",
        "\n",
        "# p.102の関数\n",
        "def function_2(x):\n",
        "    return x[0]**2 + x[1]**2\n",
        "\n",
        "data = np.linspace(-3,3,20)\n",
        "x, y = np.meshgrid(data,data)\n",
        "x1 = np.stack([x,y])\n",
        "\n",
        "# zデータの作成\n",
        "# z = x**2 + y**2　でもいい\n",
        "z = function_2(x1)\n",
        "\n",
        "ax.plot_wireframe(x,y,z)\n",
        "\n",
        "# 軸ラベルが見切れたので追加\n",
        "plt.tight_layout()\n",
        "\n",
        "plt.show()"
      ],
      "metadata": {
        "colab": {
          "base_uri": "https://localhost:8080/",
          "height": 297
        },
        "id": "79rLysr316p7",
        "outputId": "73bba58e-bdf2-43fb-c12d-1f21d8a35332"
      },
      "execution_count": null,
      "outputs": [
        {
          "output_type": "display_data",
          "data": {
            "text/plain": [
              "<Figure size 432x288 with 1 Axes>"
            ],
            "image/png": "[encoded data removed]"
          },
          "metadata": {
            "needs_background": "light"
          }
        }
      ]
    },
    {
      "cell_type": "markdown",
      "source": [
        "$f(x_0, x_1) = x_0^2 + x_1^2$  \n",
        "  \n",
        "$\\frac{\\partial f}{\\partial x0} = 2x_0$  \n",
        "\n",
        "$\\frac{\\partial f}{\\partial x1} = 2x_1$"
      ],
      "metadata": {
        "id": "Cth5afigEbl6"
      }
    },
    {
      "cell_type": "code",
      "source": [
        "# p.103\n",
        "def function_tmp1(x0):\n",
        "    return x0*x0 + 4.0**2.0"
      ],
      "metadata": {
        "id": "GL9lM3AlClaB"
      },
      "execution_count": null,
      "outputs": []
    },
    {
      "cell_type": "code",
      "source": [
        "numerical_diff(function_tmp1, 3.0)"
      ],
      "metadata": {
        "colab": {
          "base_uri": "https://localhost:8080/"
        },
        "id": "3a4ZxMYjCx4r",
        "outputId": "e5ffd2c6-a5d5-416d-bb5e-4272e93a1827"
      },
      "execution_count": null,
      "outputs": [
        {
          "output_type": "execute_result",
          "data": {
            "text/plain": [
              "6.00000000000378"
            ]
          },
          "metadata": {},
          "execution_count": 25
        }
      ]
    },
    {
      "cell_type": "code",
      "source": [
        "# p.103\n",
        "def function_tmp2(x1):\n",
        "    return 3.0**2.0 + x1*x1"
      ],
      "metadata": {
        "id": "OhdWKpOpD-wG"
      },
      "execution_count": null,
      "outputs": []
    },
    {
      "cell_type": "code",
      "source": [
        "numerical_diff(function_tmp2, 4.0)"
      ],
      "metadata": {
        "colab": {
          "base_uri": "https://localhost:8080/"
        },
        "id": "krEQEfSWELUl",
        "outputId": "9b4517c1-9793-42f5-8043-6aef29c981c3"
      },
      "execution_count": null,
      "outputs": [
        {
          "output_type": "execute_result",
          "data": {
            "text/plain": [
              "7.999999999999119"
            ]
          },
          "metadata": {},
          "execution_count": 27
        }
      ]
    },
    {
      "cell_type": "markdown",
      "metadata": {
        "id": "_KbNaGPFyuaD"
      },
      "source": [
        "# ch04/gradient_2d.py"
      ]
    },
    {
      "cell_type": "code",
      "execution_count": null,
      "metadata": {
        "colab": {
          "base_uri": "https://localhost:8080/",
          "height": 283
        },
        "id": "pmcL98mWyuaE",
        "outputId": "2b2af2aa-0003-4827-a32b-0b932ace83ae"
      },
      "outputs": [
        {
          "output_type": "display_data",
          "data": {
            "text/plain": [
              "<Figure size 432x288 with 1 Axes>"
            ],
            "image/png": "[encoded data removed]"
          },
          "metadata": {
            "needs_background": "light"
          }
        }
      ],
      "source": [
        "# cf.http://d.hatena.ne.jp/white_wheels/20100327/p3\n",
        "import numpy as np\n",
        "import matplotlib.pylab as plt\n",
        "from mpl_toolkits.mplot3d import Axes3D\n",
        "\n",
        "\n",
        "def _numerical_gradient_no_batch(f, x):\n",
        "    h = 1e-4  # 0.0001\n",
        "    grad = np.zeros_like(x)\n",
        "    \n",
        "    for idx in range(x.size):\n",
        "        tmp_val = x[idx]\n",
        "        x[idx] = float(tmp_val) + h\n",
        "        fxh1 = f(x)  # f(x+h)\n",
        "        \n",
        "        x[idx] = tmp_val - h \n",
        "        fxh2 = f(x)  # f(x-h)\n",
        "        grad[idx] = (fxh1 - fxh2) / (2*h)\n",
        "        \n",
        "        x[idx] = tmp_val  # 値を元に戻す\n",
        "        \n",
        "    return grad\n",
        "\n",
        "\n",
        "def numerical_gradient(f, X):\n",
        "    if X.ndim == 1:\n",
        "        return _numerical_gradient_no_batch(f, X)\n",
        "    else:\n",
        "        grad = np.zeros_like(X)\n",
        "        \n",
        "        for idx, x in enumerate(X):\n",
        "            grad[idx] = _numerical_gradient_no_batch(f, x)\n",
        "        \n",
        "        return grad\n",
        "\n",
        "\n",
        "def function_2(x):\n",
        "    if x.ndim == 1:\n",
        "        return np.sum(x**2)\n",
        "    else:\n",
        "        return np.sum(x**2, axis=1)\n",
        "\n",
        "\n",
        "def tangent_line(f, x):\n",
        "    d = numerical_gradient(f, x)\n",
        "    print(d)\n",
        "    y = f(x) - d*x\n",
        "    return lambda t: d*t + y\n",
        "\n",
        "\n",
        "if __name__ == '__main__':\n",
        "    x0 = np.arange(-2, 2.5, 0.25)\n",
        "    x1 = np.arange(-2, 2.5, 0.25)\n",
        "    X, Y = np.meshgrid(x0, x1)\n",
        "    \n",
        "    X = X.flatten()\n",
        "    Y = Y.flatten()\n",
        "\n",
        "    grad = numerical_gradient(function_2, np.array([X, Y]).T).T\n",
        "\n",
        "    plt.figure()\n",
        "    plt.quiver(X, Y, -grad[0], -grad[1],  angles=\"xy\",color=\"#666666\")\n",
        "    # quiver(X, Y, U, V, [C])\n",
        "    # X, Yはベクトルの開始点、U, Vはベクトルの成分、Cはベクトルの大きさに応じたカラーマップ上の色をつけるための配列。\n",
        "    plt.xlim([-2, 2])\n",
        "    plt.ylim([-2, 2])\n",
        "    plt.xlabel('x0')\n",
        "    plt.ylabel('x1')\n",
        "    plt.grid()\n",
        "    plt.draw()\n",
        "    plt.show()"
      ]
    },
    {
      "cell_type": "code",
      "source": [
        "# p.104下の実行例 3つ\n",
        "numerical_gradient(function_2, np.array([3.0, 4.0]))"
      ],
      "metadata": {
        "colab": {
          "base_uri": "https://localhost:8080/"
        },
        "id": "JqMyTpfKHsCQ",
        "outputId": "dfcc42da-7338-4f4d-b3a7-32ca6b6e609f"
      },
      "execution_count": null,
      "outputs": [
        {
          "output_type": "execute_result",
          "data": {
            "text/plain": [
              "array([6., 8.])"
            ]
          },
          "metadata": {},
          "execution_count": 29
        }
      ]
    },
    {
      "cell_type": "code",
      "source": [
        "numerical_gradient(function_2, np.array([0.0, 2.0]))"
      ],
      "metadata": {
        "colab": {
          "base_uri": "https://localhost:8080/"
        },
        "id": "iPHiv1mFH_E_",
        "outputId": "f516be56-554e-4997-e05c-35bc63ab7ff2"
      },
      "execution_count": null,
      "outputs": [
        {
          "output_type": "execute_result",
          "data": {
            "text/plain": [
              "array([0., 4.])"
            ]
          },
          "metadata": {},
          "execution_count": 30
        }
      ]
    },
    {
      "cell_type": "code",
      "source": [
        "numerical_gradient(function_2, np.array([3.0, 0.0]))"
      ],
      "metadata": {
        "colab": {
          "base_uri": "https://localhost:8080/"
        },
        "id": "iV5d92yLH_91",
        "outputId": "be6b4406-93cf-4db2-e7c7-8929e1c415e9"
      },
      "execution_count": null,
      "outputs": [
        {
          "output_type": "execute_result",
          "data": {
            "text/plain": [
              "array([6., 0.])"
            ]
          },
          "metadata": {},
          "execution_count": 31
        }
      ]
    },
    {
      "cell_type": "markdown",
      "source": [
        "## 4.4.1 勾配法\n",
        "\n",
        "$x_0 = x_0 - \\eta \\frac{\\partial f}{\\partial x0}$  \n",
        "\n",
        "$x_1 = x_1 - \\eta \\frac{\\partial f}{\\partial x1}$ \n",
        "\n",
        "$\\eta$は学習率。（ハイパーパラメータ）"
      ],
      "metadata": {
        "id": "0i35hy9BPiuw"
      }
    },
    {
      "cell_type": "markdown",
      "metadata": {
        "id": "5tDsNlSzyuaF"
      },
      "source": [
        "# ch04/gradient_method.py"
      ]
    },
    {
      "cell_type": "code",
      "execution_count": null,
      "metadata": {
        "colab": {
          "base_uri": "https://localhost:8080/",
          "height": 279
        },
        "id": "ZCSzESJiyuaG",
        "outputId": "cd92c136-5206-42d5-8615-4a6ba91e8023"
      },
      "outputs": [
        {
          "output_type": "display_data",
          "data": {
            "text/plain": [
              "<Figure size 432x288 with 1 Axes>"
            ],
            "image/png": "[encoded data removed]"
          },
          "metadata": {
            "needs_background": "light"
          }
        }
      ],
      "source": [
        "import numpy as np\n",
        "import matplotlib.pylab as plt\n",
        "\n",
        "\n",
        "def gradient_descent(f, init_x, lr=0.01, step_num=100):\n",
        "    x = init_x\n",
        "    x_history = []\n",
        "\n",
        "    for i in range(step_num):\n",
        "        x_history.append( x.copy() )\n",
        "\n",
        "        grad = numerical_gradient(f, x)\n",
        "        x -= lr * grad\n",
        "\n",
        "    return x, np.array(x_history)\n",
        "\n",
        "\n",
        "def function_2(x):\n",
        "    return x[0]**2 + x[1]**2\n",
        "\n",
        "init_x = np.array([-3.0, 4.0])    \n",
        "\n",
        "lr = 0.1\n",
        "step_num = 20\n",
        "x, x_history = gradient_descent(function_2, init_x, lr=lr, step_num=step_num)\n",
        "\n",
        "plt.plot( [-5, 5], [0,0], '--b')\n",
        "plt.plot( [0,0], [-5, 5], '--b')\n",
        "plt.plot(x_history[:,0], x_history[:,1], 'o')\n",
        "\n",
        "plt.xlim(-3.5, 3.5)\n",
        "plt.ylim(-4.5, 4.5)\n",
        "plt.xlabel(\"X0\")\n",
        "plt.ylabel(\"X1\")\n",
        "plt.show()"
      ]
    },
    {
      "cell_type": "code",
      "source": [
        "# p.108\n",
        "# 学習率が大きすぎる例：lr=10.0\n",
        "init_x = np.array([-3.0, 4.0])\n",
        "gradient_descent(function_2, init_x=init_x, lr=10.0, step_num=100)"
      ],
      "metadata": {
        "colab": {
          "base_uri": "https://localhost:8080/"
        },
        "id": "L32YD85iQWm9",
        "outputId": "ecaad5ea-a827-4d54-a2b9-4542a2c216cb"
      },
      "execution_count": null,
      "outputs": [
        {
          "output_type": "execute_result",
          "data": {
            "text/plain": [
              "(array([-2.58983747e+13, -1.29524862e+12]),\n",
              " array([[-3.00000000e+00,  4.00000000e+00],\n",
              "        [ 5.70000000e+01, -7.60000000e+01],\n",
              "        [-1.08300000e+03,  1.44400000e+03],\n",
              "        [ 2.05770000e+04, -2.74360000e+04],\n",
              "        [-3.90963008e+05,  5.21284002e+05],\n",
              "        [ 7.42829664e+06, -9.90439654e+06],\n",
              "        [-1.41137328e+08,  1.88183103e+08],\n",
              "        [ 2.68126267e+09, -3.57501690e+09],\n",
              "        [-5.09763373e+10,  6.79001831e+10],\n",
              "        [ 9.45170863e+11, -1.29524862e+12],\n",
              "        [-2.58983747e+13, -1.29524862e+12],\n",
              "        [-2.58983747e+13, -1.29524862e+12],\n",
              "        [-2.58983747e+13, -1.29524862e+12],\n",
              "        [-2.58983747e+13, -1.29524862e+12],\n",
              "        [-2.58983747e+13, -1.29524862e+12],\n",
              "        [-2.58983747e+13, -1.29524862e+12],\n",
              "        [-2.58983747e+13, -1.29524862e+12],\n",
              "        [-2.58983747e+13, -1.29524862e+12],\n",
              "        [-2.58983747e+13, -1.29524862e+12],\n",
              "        [-2.58983747e+13, -1.29524862e+12],\n",
              "        [-2.58983747e+13, -1.29524862e+12],\n",
              "        [-2.58983747e+13, -1.29524862e+12],\n",
              "        [-2.58983747e+13, -1.29524862e+12],\n",
              "        [-2.58983747e+13, -1.29524862e+12],\n",
              "        [-2.58983747e+13, -1.29524862e+12],\n",
              "        [-2.58983747e+13, -1.29524862e+12],\n",
              "        [-2.58983747e+13, -1.29524862e+12],\n",
              "        [-2.58983747e+13, -1.29524862e+12],\n",
              "        [-2.58983747e+13, -1.29524862e+12],\n",
              "        [-2.58983747e+13, -1.29524862e+12],\n",
              "        [-2.58983747e+13, -1.29524862e+12],\n",
              "        [-2.58983747e+13, -1.29524862e+12],\n",
              "        [-2.58983747e+13, -1.29524862e+12],\n",
              "        [-2.58983747e+13, -1.29524862e+12],\n",
              "        [-2.58983747e+13, -1.29524862e+12],\n",
              "        [-2.58983747e+13, -1.29524862e+12],\n",
              "        [-2.58983747e+13, -1.29524862e+12],\n",
              "        [-2.58983747e+13, -1.29524862e+12],\n",
              "        [-2.58983747e+13, -1.29524862e+12],\n",
              "        [-2.58983747e+13, -1.29524862e+12],\n",
              "        [-2.58983747e+13, -1.29524862e+12],\n",
              "        [-2.58983747e+13, -1.29524862e+12],\n",
              "        [-2.58983747e+13, -1.29524862e+12],\n",
              "        [-2.58983747e+13, -1.29524862e+12],\n",
              "        [-2.58983747e+13, -1.29524862e+12],\n",
              "        [-2.58983747e+13, -1.29524862e+12],\n",
              "        [-2.58983747e+13, -1.29524862e+12],\n",
              "        [-2.58983747e+13, -1.29524862e+12],\n",
              "        [-2.58983747e+13, -1.29524862e+12],\n",
              "        [-2.58983747e+13, -1.29524862e+12],\n",
              "        [-2.58983747e+13, -1.29524862e+12],\n",
              "        [-2.58983747e+13, -1.29524862e+12],\n",
              "        [-2.58983747e+13, -1.29524862e+12],\n",
              "        [-2.58983747e+13, -1.29524862e+12],\n",
              "        [-2.58983747e+13, -1.29524862e+12],\n",
              "        [-2.58983747e+13, -1.29524862e+12],\n",
              "        [-2.58983747e+13, -1.29524862e+12],\n",
              "        [-2.58983747e+13, -1.29524862e+12],\n",
              "        [-2.58983747e+13, -1.29524862e+12],\n",
              "        [-2.58983747e+13, -1.29524862e+12],\n",
              "        [-2.58983747e+13, -1.29524862e+12],\n",
              "        [-2.58983747e+13, -1.29524862e+12],\n",
              "        [-2.58983747e+13, -1.29524862e+12],\n",
              "        [-2.58983747e+13, -1.29524862e+12],\n",
              "        [-2.58983747e+13, -1.29524862e+12],\n",
              "        [-2.58983747e+13, -1.29524862e+12],\n",
              "        [-2.58983747e+13, -1.29524862e+12],\n",
              "        [-2.58983747e+13, -1.29524862e+12],\n",
              "        [-2.58983747e+13, -1.29524862e+12],\n",
              "        [-2.58983747e+13, -1.29524862e+12],\n",
              "        [-2.58983747e+13, -1.29524862e+12],\n",
              "        [-2.58983747e+13, -1.29524862e+12],\n",
              "        [-2.58983747e+13, -1.29524862e+12],\n",
              "        [-2.58983747e+13, -1.29524862e+12],\n",
              "        [-2.58983747e+13, -1.29524862e+12],\n",
              "        [-2.58983747e+13, -1.29524862e+12],\n",
              "        [-2.58983747e+13, -1.29524862e+12],\n",
              "        [-2.58983747e+13, -1.29524862e+12],\n",
              "        [-2.58983747e+13, -1.29524862e+12],\n",
              "        [-2.58983747e+13, -1.29524862e+12],\n",
              "        [-2.58983747e+13, -1.29524862e+12],\n",
              "        [-2.58983747e+13, -1.29524862e+12],\n",
              "        [-2.58983747e+13, -1.29524862e+12],\n",
              "        [-2.58983747e+13, -1.29524862e+12],\n",
              "        [-2.58983747e+13, -1.29524862e+12],\n",
              "        [-2.58983747e+13, -1.29524862e+12],\n",
              "        [-2.58983747e+13, -1.29524862e+12],\n",
              "        [-2.58983747e+13, -1.29524862e+12],\n",
              "        [-2.58983747e+13, -1.29524862e+12],\n",
              "        [-2.58983747e+13, -1.29524862e+12],\n",
              "        [-2.58983747e+13, -1.29524862e+12],\n",
              "        [-2.58983747e+13, -1.29524862e+12],\n",
              "        [-2.58983747e+13, -1.29524862e+12],\n",
              "        [-2.58983747e+13, -1.29524862e+12],\n",
              "        [-2.58983747e+13, -1.29524862e+12],\n",
              "        [-2.58983747e+13, -1.29524862e+12],\n",
              "        [-2.58983747e+13, -1.29524862e+12],\n",
              "        [-2.58983747e+13, -1.29524862e+12],\n",
              "        [-2.58983747e+13, -1.29524862e+12],\n",
              "        [-2.58983747e+13, -1.29524862e+12]]))"
            ]
          },
          "metadata": {},
          "execution_count": 33
        }
      ]
    },
    {
      "cell_type": "code",
      "source": [
        "# p.109 学習率が小さすぎる例：lr=1e-10\n",
        "init_x = np.array([-3.0, 4.0])\n",
        "gradient_descent(function_2, init_x=init_x, lr=1e-10, step_num=100)"
      ],
      "metadata": {
        "colab": {
          "base_uri": "https://localhost:8080/"
        },
        "id": "cCclbEXxRFlw",
        "outputId": "9205370d-5b17-45e3-b20a-7cabd1bf5454"
      },
      "execution_count": null,
      "outputs": [
        {
          "output_type": "execute_result",
          "data": {
            "text/plain": [
              "(array([-2.99999994,  3.99999992]), array([[-3.        ,  4.        ],\n",
              "        [-3.        ,  4.        ],\n",
              "        [-3.        ,  4.        ],\n",
              "        [-3.        ,  4.        ],\n",
              "        [-3.        ,  4.        ],\n",
              "        [-3.        ,  4.        ],\n",
              "        [-3.        ,  4.        ],\n",
              "        [-3.        ,  3.99999999],\n",
              "        [-3.        ,  3.99999999],\n",
              "        [-2.99999999,  3.99999999],\n",
              "        [-2.99999999,  3.99999999],\n",
              "        [-2.99999999,  3.99999999],\n",
              "        [-2.99999999,  3.99999999],\n",
              "        [-2.99999999,  3.99999999],\n",
              "        [-2.99999999,  3.99999999],\n",
              "        [-2.99999999,  3.99999999],\n",
              "        [-2.99999999,  3.99999999],\n",
              "        [-2.99999999,  3.99999999],\n",
              "        [-2.99999999,  3.99999999],\n",
              "        [-2.99999999,  3.99999998],\n",
              "        [-2.99999999,  3.99999998],\n",
              "        [-2.99999999,  3.99999998],\n",
              "        [-2.99999999,  3.99999998],\n",
              "        [-2.99999999,  3.99999998],\n",
              "        [-2.99999999,  3.99999998],\n",
              "        [-2.99999998,  3.99999998],\n",
              "        [-2.99999998,  3.99999998],\n",
              "        [-2.99999998,  3.99999998],\n",
              "        [-2.99999998,  3.99999998],\n",
              "        [-2.99999998,  3.99999998],\n",
              "        [-2.99999998,  3.99999998],\n",
              "        [-2.99999998,  3.99999998],\n",
              "        [-2.99999998,  3.99999997],\n",
              "        [-2.99999998,  3.99999997],\n",
              "        [-2.99999998,  3.99999997],\n",
              "        [-2.99999998,  3.99999997],\n",
              "        [-2.99999998,  3.99999997],\n",
              "        [-2.99999998,  3.99999997],\n",
              "        [-2.99999998,  3.99999997],\n",
              "        [-2.99999998,  3.99999997],\n",
              "        [-2.99999998,  3.99999997],\n",
              "        [-2.99999998,  3.99999997],\n",
              "        [-2.99999997,  3.99999997],\n",
              "        [-2.99999997,  3.99999997],\n",
              "        [-2.99999997,  3.99999996],\n",
              "        [-2.99999997,  3.99999996],\n",
              "        [-2.99999997,  3.99999996],\n",
              "        [-2.99999997,  3.99999996],\n",
              "        [-2.99999997,  3.99999996],\n",
              "        [-2.99999997,  3.99999996],\n",
              "        [-2.99999997,  3.99999996],\n",
              "        [-2.99999997,  3.99999996],\n",
              "        [-2.99999997,  3.99999996],\n",
              "        [-2.99999997,  3.99999996],\n",
              "        [-2.99999997,  3.99999996],\n",
              "        [-2.99999997,  3.99999996],\n",
              "        [-2.99999997,  3.99999996],\n",
              "        [-2.99999997,  3.99999995],\n",
              "        [-2.99999997,  3.99999995],\n",
              "        [-2.99999996,  3.99999995],\n",
              "        [-2.99999996,  3.99999995],\n",
              "        [-2.99999996,  3.99999995],\n",
              "        [-2.99999996,  3.99999995],\n",
              "        [-2.99999996,  3.99999995],\n",
              "        [-2.99999996,  3.99999995],\n",
              "        [-2.99999996,  3.99999995],\n",
              "        [-2.99999996,  3.99999995],\n",
              "        [-2.99999996,  3.99999995],\n",
              "        [-2.99999996,  3.99999995],\n",
              "        [-2.99999996,  3.99999994],\n",
              "        [-2.99999996,  3.99999994],\n",
              "        [-2.99999996,  3.99999994],\n",
              "        [-2.99999996,  3.99999994],\n",
              "        [-2.99999996,  3.99999994],\n",
              "        [-2.99999996,  3.99999994],\n",
              "        [-2.99999995,  3.99999994],\n",
              "        [-2.99999995,  3.99999994],\n",
              "        [-2.99999995,  3.99999994],\n",
              "        [-2.99999995,  3.99999994],\n",
              "        [-2.99999995,  3.99999994],\n",
              "        [-2.99999995,  3.99999994],\n",
              "        [-2.99999995,  3.99999994],\n",
              "        [-2.99999995,  3.99999993],\n",
              "        [-2.99999995,  3.99999993],\n",
              "        [-2.99999995,  3.99999993],\n",
              "        [-2.99999995,  3.99999993],\n",
              "        [-2.99999995,  3.99999993],\n",
              "        [-2.99999995,  3.99999993],\n",
              "        [-2.99999995,  3.99999993],\n",
              "        [-2.99999995,  3.99999993],\n",
              "        [-2.99999995,  3.99999993],\n",
              "        [-2.99999995,  3.99999993],\n",
              "        [-2.99999994,  3.99999993],\n",
              "        [-2.99999994,  3.99999993],\n",
              "        [-2.99999994,  3.99999992],\n",
              "        [-2.99999994,  3.99999992],\n",
              "        [-2.99999994,  3.99999992],\n",
              "        [-2.99999994,  3.99999992],\n",
              "        [-2.99999994,  3.99999992],\n",
              "        [-2.99999994,  3.99999992]]))"
            ]
          },
          "metadata": {},
          "execution_count": 34
        }
      ]
    },
    {
      "cell_type": "markdown",
      "metadata": {
        "id": "lPkjvJHEyuaG"
      },
      "source": [
        "# ch04/gradient_simplenet.py"
      ]
    },
    {
      "cell_type": "code",
      "execution_count": null,
      "metadata": {
        "colab": {
          "base_uri": "https://localhost:8080/"
        },
        "id": "YcKNB5BwyuaH",
        "outputId": "37ec9f3a-192c-48bb-e5d8-aef37d52d6d7"
      },
      "outputs": [
        {
          "output_type": "stream",
          "name": "stdout",
          "text": [
            "[[ 0.16265122  0.0129395  -0.17559072]\n",
            " [ 0.24397683  0.01940925 -0.26338609]]\n"
          ]
        }
      ],
      "source": [
        "import sys, os\n",
        "sys.path.append(os.pardir)  # 親ディレクトリのファイルをインポートするための設定\n",
        "import numpy as np\n",
        "from common.functions import softmax, cross_entropy_error\n",
        "from common.gradient import numerical_gradient\n",
        "\n",
        "\n",
        "class simpleNet:\n",
        "    def __init__(self):\n",
        "        self.W = np.random.randn(2,3)\n",
        "\n",
        "    def predict(self, x):\n",
        "        return np.dot(x, self.W)\n",
        "\n",
        "    def loss(self, x, t):\n",
        "        z = self.predict(x)\n",
        "        y = softmax(z)\n",
        "        loss = cross_entropy_error(y, t)\n",
        "\n",
        "        return loss\n",
        "\n",
        "x = np.array([0.6, 0.9])\n",
        "t = np.array([0, 0, 1])\n",
        "\n",
        "net = simpleNet()\n",
        "\n",
        "f = lambda w: net.loss(x, t)\n",
        "dW = numerical_gradient(f, net.W)\n",
        "\n",
        "print(dW)"
      ]
    },
    {
      "cell_type": "code",
      "source": [
        "# p.111\n",
        "net = simpleNet()\n",
        "print(net.W)"
      ],
      "metadata": {
        "colab": {
          "base_uri": "https://localhost:8080/"
        },
        "id": "FyrNow6GSsXT",
        "outputId": "a8df9098-d0ca-4224-d990-44ffd8a8228c"
      },
      "execution_count": null,
      "outputs": [
        {
          "output_type": "stream",
          "name": "stdout",
          "text": [
            "[[-1.3675511   0.25952139  1.2106133 ]\n",
            " [-1.57966259 -0.44882087 -0.77993764]]\n"
          ]
        }
      ]
    },
    {
      "cell_type": "code",
      "source": [
        "# p.111\n",
        "x = np.array([0.6, 0.9])\n",
        "p = net.predict(x)\n",
        "print(p)"
      ],
      "metadata": {
        "colab": {
          "base_uri": "https://localhost:8080/"
        },
        "id": "7FJY4vHTSyW9",
        "outputId": "47067bc4-17a3-4c8d-f11b-65f615020ede"
      },
      "execution_count": null,
      "outputs": [
        {
          "output_type": "stream",
          "name": "stdout",
          "text": [
            "[-2.24222699 -0.24822595  0.0244241 ]\n"
          ]
        }
      ]
    },
    {
      "cell_type": "code",
      "source": [
        "# p.111\n",
        "np.argmax(p)"
      ],
      "metadata": {
        "colab": {
          "base_uri": "https://localhost:8080/"
        },
        "id": "sAP2bKJYTD_p",
        "outputId": "4f375749-208f-4f30-9676-c17013ec83b8"
      },
      "execution_count": null,
      "outputs": [
        {
          "output_type": "execute_result",
          "data": {
            "text/plain": [
              "2"
            ]
          },
          "metadata": {},
          "execution_count": 38
        }
      ]
    },
    {
      "cell_type": "code",
      "source": [
        "# p.111\n",
        "# np.random使っているので正解の位置が変わるかもしれない。↑で出た個所が1になるようにする。\n",
        "t = np.array([0, 0, 1])\n",
        "net.loss(x, t)"
      ],
      "metadata": {
        "colab": {
          "base_uri": "https://localhost:8080/"
        },
        "id": "uyrMex-pTPqt",
        "outputId": "cd594f13-d947-4853-9cb0-83e7e04709c9"
      },
      "execution_count": null,
      "outputs": [
        {
          "output_type": "execute_result",
          "data": {
            "text/plain": [
              "0.6232704751084841"
            ]
          },
          "metadata": {},
          "execution_count": 39
        }
      ]
    },
    {
      "cell_type": "code",
      "source": [
        "# p.111\n",
        "dW = numerical_gradient(f, net.W)\n",
        "print(dW)"
      ],
      "metadata": {
        "colab": {
          "base_uri": "https://localhost:8080/"
        },
        "id": "_YND-ADoTbsc",
        "outputId": "36f1c4d7-6ddd-476e-e58f-e20d43cce16d"
      },
      "execution_count": null,
      "outputs": [
        {
          "output_type": "stream",
          "name": "stdout",
          "text": [
            "[[ 0.03334833  0.24493889 -0.27828722]\n",
            " [ 0.0500225   0.36740834 -0.41743083]]\n"
          ]
        }
      ]
    },
    {
      "cell_type": "markdown",
      "source": [
        "## 確率的勾配降下法 (stochastic gradient descent: SGD)  \n",
        "\n",
        "ステップ１（ミニバッチ）  \n",
        "    　訓練データの中からランダムに一部のデータ（ミニバッチ）を選び出す。\n",
        "\n",
        "ステップ２（勾配の算出）  \n",
        "    　ミニバッチの損失関数を減らすために、各重みパラメータの勾配を求める。\n",
        "\n",
        "ステップ３（パラメータの更新）  \n",
        "    　重みパラメータを勾配方向に微少量だけ更新する。\n",
        "\n",
        "ステップ４（繰り返す）  \n",
        "    　↑を繰り返す。\n"
      ],
      "metadata": {
        "id": "-1EHa_Ctvt_P"
      }
    },
    {
      "cell_type": "markdown",
      "metadata": {
        "id": "Vs6THxFNyuaH"
      },
      "source": [
        "# ch04/two_layer_net.py"
      ]
    },
    {
      "cell_type": "code",
      "execution_count": null,
      "metadata": {
        "id": "8UTE64hxyuaH"
      },
      "outputs": [],
      "source": [
        "import sys, os\n",
        "sys.path.append(os.pardir)  # 親ディレクトリのファイルをインポートするための設定\n",
        "from common.functions import *\n",
        "from common.gradient import numerical_gradient\n",
        "import numpy as np\n",
        "\n",
        "\n",
        "class TwoLayerNet:\n",
        "\n",
        "    def __init__(self, input_size, hidden_size, output_size, weight_init_std=0.01):\n",
        "        # 重みの初期化\n",
        "        self.params = {}\n",
        "        self.params['W1'] = weight_init_std * np.random.randn(input_size, hidden_size)\n",
        "        self.params['b1'] = np.zeros(hidden_size)\n",
        "        self.params['W2'] = weight_init_std * np.random.randn(hidden_size, output_size)\n",
        "        self.params['b2'] = np.zeros(output_size)\n",
        "\n",
        "    def predict(self, x):\n",
        "        W1, W2 = self.params['W1'], self.params['W2']\n",
        "        b1, b2 = self.params['b1'], self.params['b2']\n",
        "    \n",
        "        a1 = np.dot(x, W1) + b1\n",
        "        z1 = sigmoid(a1)\n",
        "        a2 = np.dot(z1, W2) + b2\n",
        "        y = softmax(a2)\n",
        "        \n",
        "        return y\n",
        "        \n",
        "    # x:入力データ, t:教師データ\n",
        "    def loss(self, x, t):\n",
        "        y = self.predict(x)\n",
        "        \n",
        "        return cross_entropy_error(y, t)\n",
        "    \n",
        "    def accuracy(self, x, t):\n",
        "        y = self.predict(x)\n",
        "        y = np.argmax(y, axis=1)\n",
        "        t = np.argmax(t, axis=1)\n",
        "        \n",
        "        accuracy = np.sum(y == t) / float(x.shape[0])\n",
        "        return accuracy\n",
        "        \n",
        "    # x:入力データ, t:教師データ\n",
        "    def numerical_gradient(self, x, t):\n",
        "        loss_W = lambda W: self.loss(x, t)\n",
        "        \n",
        "        grads = {}\n",
        "        grads['W1'] = numerical_gradient(loss_W, self.params['W1'])\n",
        "        grads['b1'] = numerical_gradient(loss_W, self.params['b1'])\n",
        "        grads['W2'] = numerical_gradient(loss_W, self.params['W2'])\n",
        "        grads['b2'] = numerical_gradient(loss_W, self.params['b2'])\n",
        "        \n",
        "        return grads\n",
        "        \n",
        "    def gradient(self, x, t):\n",
        "        W1, W2 = self.params['W1'], self.params['W2']\n",
        "        b1, b2 = self.params['b1'], self.params['b2']\n",
        "        grads = {}\n",
        "        \n",
        "        batch_num = x.shape[0]\n",
        "        \n",
        "        # forward\n",
        "        a1 = np.dot(x, W1) + b1\n",
        "        z1 = sigmoid(a1)\n",
        "        a2 = np.dot(z1, W2) + b2\n",
        "        y = softmax(a2)\n",
        "        \n",
        "        # backward\n",
        "        dy = (y - t) / batch_num\n",
        "        grads['W2'] = np.dot(z1.T, dy)\n",
        "        grads['b2'] = np.sum(dy, axis=0)\n",
        "        \n",
        "        dz1 = np.dot(dy, W2.T)\n",
        "        da1 = sigmoid_grad(a1) * dz1\n",
        "        grads['W1'] = np.dot(x.T, da1)\n",
        "        grads['b1'] = np.sum(da1, axis=0)\n",
        "\n",
        "        return grads"
      ]
    },
    {
      "cell_type": "markdown",
      "source": [
        "## 4.5.2 ミニバッチ学習の実装"
      ],
      "metadata": {
        "id": "4Td5ZmX7ADjF"
      }
    },
    {
      "cell_type": "code",
      "execution_count": null,
      "metadata": {
        "colab": {
          "base_uri": "https://localhost:8080/",
          "height": 338
        },
        "outputId": "a94f12a6-1908-4942-86dd-995686cbd96d",
        "id": "EsXdeOcIACi2"
      },
      "outputs": [
        {
          "output_type": "display_data",
          "data": {
            "text/plain": [
              "<Figure size 720x360 with 2 Axes>"
            ],
            "image/png": "[encoded data removed]"
          },
          "metadata": {
            "needs_background": "light"
          }
        }
      ],
      "source": [
        "import sys, os\n",
        "sys.path.append(os.pardir)  # 親ディレクトリのファイルをインポートするための設定\n",
        "import numpy as np\n",
        "import matplotlib.pyplot as plt\n",
        "from dataset.mnist import load_mnist\n",
        "\n",
        "# データの読み込み\n",
        "(x_train, t_train), (x_test, t_test) = load_mnist(normalize=True, one_hot_label=True)\n",
        "\n",
        "train_loss_list = []\n",
        "\n",
        "iters_num = 10000  # 繰り返しの回数を適宜設定する\n",
        "train_size = x_train.shape[0]\n",
        "batch_size = 100\n",
        "learning_rate = 0.1\n",
        "\n",
        "network = TwoLayerNet(input_size=784, hidden_size=50, output_size=10)\n",
        "\n",
        "for i in range(iters_num):\n",
        "    batch_mask = np.random.choice(train_size, batch_size)\n",
        "    x_batch = x_train[batch_mask]\n",
        "    t_batch = t_train[batch_mask]\n",
        "    \n",
        "    # 勾配の計算\n",
        "    # grad = network.numerical_gradient(x_batch, t_batch)\n",
        "    grad = network.gradient(x_batch, t_batch)\n",
        "    \n",
        "    # パラメータの更新\n",
        "    for key in ('W1', 'b1', 'W2', 'b2'):\n",
        "        network.params[key] -= learning_rate * grad[key]\n",
        "    \n",
        "    loss = network.loss(x_batch, t_batch)\n",
        "    train_loss_list.append(loss)\n",
        "    \n",
        "# グラフの描画\n",
        "fig = plt.figure(figsize=(10,5))\n",
        "ax1 = fig.add_subplot(1, 2, 1)\n",
        "ax2 = fig.add_subplot(1, 2, 2)\n",
        "plt.subplots_adjust(wspace=0.4)\n",
        "\n",
        "ax1.plot(train_loss_list[0:10000])\n",
        "ax1.set_xlabel(\"iteration\")\n",
        "ax1.set_ylabel(\"loss\")\n",
        "ax1.set_ylim(0, 4.0)\n",
        "\n",
        "ax2.plot(train_loss_list[0:1000])\n",
        "ax2.set_xlabel(\"iteration\")\n",
        "ax2.set_ylabel(\"loss\")\n",
        "ax2.set_ylim(0, 4.0)\n",
        "\n",
        "plt.show()"
      ]
    },
    {
      "cell_type": "markdown",
      "metadata": {
        "id": "-umRfhpuyuaI"
      },
      "source": [
        "# ch04/train_neuralnet.py"
      ]
    },
    {
      "cell_type": "markdown",
      "source": [
        "## テキストでは学習率lr=0.1となっている"
      ],
      "metadata": {
        "id": "p1-g-HWM5TPX"
      }
    },
    {
      "cell_type": "code",
      "execution_count": null,
      "metadata": {
        "colab": {
          "base_uri": "https://localhost:8080/",
          "height": 578
        },
        "id": "AmmXO7IbyuaI",
        "outputId": "4caeb486-9505-4d90-e70b-b9872cd2d788"
      },
      "outputs": [
        {
          "output_type": "stream",
          "name": "stdout",
          "text": [
            "train acc, test acc | 0.10218333333333333, 0.101\n",
            "train acc, test acc | 0.7827333333333333, 0.7857\n",
            "train acc, test acc | 0.87775, 0.8828\n",
            "train acc, test acc | 0.8982666666666667, 0.9014\n",
            "train acc, test acc | 0.9070666666666667, 0.9094\n",
            "train acc, test acc | 0.9130833333333334, 0.9166\n",
            "train acc, test acc | 0.91865, 0.9217\n",
            "train acc, test acc | 0.9225166666666667, 0.9256\n",
            "train acc, test acc | 0.9262333333333334, 0.9272\n",
            "train acc, test acc | 0.9296333333333333, 0.9308\n",
            "train acc, test acc | 0.9323833333333333, 0.9335\n",
            "train acc, test acc | 0.9352833333333334, 0.9359\n",
            "train acc, test acc | 0.937, 0.9363\n",
            "train acc, test acc | 0.9402666666666667, 0.9386\n",
            "train acc, test acc | 0.9413333333333334, 0.9403\n",
            "train acc, test acc | 0.9439666666666666, 0.9412\n",
            "train acc, test acc | 0.9456, 0.9426\n"
          ]
        },
        {
          "output_type": "display_data",
          "data": {
            "text/plain": [
              "<Figure size 432x288 with 1 Axes>"
            ],
            "image/png": "[encoded data removed]"
          },
          "metadata": {
            "needs_background": "light"
          }
        }
      ],
      "source": [
        "import sys, os\n",
        "sys.path.append(os.pardir)  # 親ディレクトリのファイルをインポートするための設定\n",
        "import numpy as np\n",
        "import matplotlib.pyplot as plt\n",
        "from dataset.mnist import load_mnist\n",
        "\n",
        "# データの読み込み\n",
        "(x_train, t_train), (x_test, t_test) = load_mnist(normalize=True, one_hot_label=True)\n",
        "\n",
        "network = TwoLayerNet(input_size=784, hidden_size=50, output_size=10)\n",
        "\n",
        "iters_num = 10000  # 繰り返しの回数を適宜設定する\n",
        "train_size = x_train.shape[0]\n",
        "batch_size = 100\n",
        "learning_rate = 0.1\n",
        "\n",
        "train_loss_list = []\n",
        "train_acc_list = []\n",
        "test_acc_list = []\n",
        "\n",
        "iter_per_epoch = max(train_size / batch_size, 1)\n",
        "\n",
        "for i in range(iters_num):\n",
        "    batch_mask = np.random.choice(train_size, batch_size)\n",
        "    x_batch = x_train[batch_mask]\n",
        "    t_batch = t_train[batch_mask]\n",
        "    \n",
        "    # 勾配の計算\n",
        "    #grad = network.numerical_gradient(x_batch, t_batch)\n",
        "    grad = network.gradient(x_batch, t_batch)\n",
        "    \n",
        "    # パラメータの更新\n",
        "    for key in ('W1', 'b1', 'W2', 'b2'):\n",
        "        network.params[key] -= learning_rate * grad[key]\n",
        "    \n",
        "    loss = network.loss(x_batch, t_batch)\n",
        "    train_loss_list.append(loss)\n",
        "    \n",
        "    if i % iter_per_epoch == 0:\n",
        "        train_acc = network.accuracy(x_train, t_train)\n",
        "        test_acc = network.accuracy(x_test, t_test)\n",
        "        train_acc_list.append(train_acc)\n",
        "        test_acc_list.append(test_acc)\n",
        "        print(\"train acc, test acc | \" + str(train_acc) + \", \" + str(test_acc))\n",
        "\n",
        "# グラフの描画\n",
        "markers = {'train': 'o', 'test': 's'}\n",
        "x = np.arange(len(train_acc_list))\n",
        "plt.plot(x, train_acc_list, label='train acc')\n",
        "plt.plot(x, test_acc_list, label='test acc', linestyle='--')\n",
        "plt.xlabel(\"epochs\")\n",
        "plt.ylabel(\"accuracy\")\n",
        "plt.ylim(0, 1.0)\n",
        "plt.legend(loc='lower right')\n",
        "plt.show()"
      ]
    },
    {
      "cell_type": "markdown",
      "source": [
        "↑はきれいに収束しているようにみえる。"
      ],
      "metadata": {
        "id": "qUZ8_O3k4jL_"
      }
    },
    {
      "cell_type": "markdown",
      "source": [
        "# では学習率を変えたらどうなるか？やってみる。\n",
        "## 学習率を大きくしすぎた場合。(lr=10)  \n",
        "p.108下の例"
      ],
      "metadata": {
        "id": "I0nIS0a_4lnK"
      }
    },
    {
      "cell_type": "code",
      "execution_count": null,
      "metadata": {
        "colab": {
          "base_uri": "https://localhost:8080/",
          "height": 578
        },
        "outputId": "494f347c-2e2b-41e0-b0ee-fda6cdba9ee5",
        "id": "oHsVBbqg2ysz"
      },
      "outputs": [
        {
          "output_type": "stream",
          "name": "stdout",
          "text": [
            "train acc, test acc | 0.09736666666666667, 0.0982\n",
            "train acc, test acc | 0.09915, 0.1009\n",
            "train acc, test acc | 0.0993, 0.1032\n",
            "train acc, test acc | 0.09736666666666667, 0.0982\n",
            "train acc, test acc | 0.11236666666666667, 0.1135\n",
            "train acc, test acc | 0.09871666666666666, 0.098\n",
            "train acc, test acc | 0.0993, 0.1032\n",
            "train acc, test acc | 0.10441666666666667, 0.1028\n",
            "train acc, test acc | 0.09035, 0.0892\n",
            "train acc, test acc | 0.11236666666666667, 0.1135\n",
            "train acc, test acc | 0.09871666666666666, 0.098\n",
            "train acc, test acc | 0.09871666666666666, 0.098\n",
            "train acc, test acc | 0.0993, 0.1032\n",
            "train acc, test acc | 0.09863333333333334, 0.0958\n",
            "train acc, test acc | 0.09915, 0.1009\n",
            "train acc, test acc | 0.0993, 0.1032\n",
            "train acc, test acc | 0.11236666666666667, 0.1135\n"
          ]
        },
        {
          "output_type": "display_data",
          "data": {
            "text/plain": [
              "<Figure size 432x288 with 1 Axes>"
            ],
            "image/png": "[encoded data removed]"
          },
          "metadata": {
            "needs_background": "light"
          }
        }
      ],
      "source": [
        "import sys, os\n",
        "sys.path.append(os.pardir)  # 親ディレクトリのファイルをインポートするための設定\n",
        "import numpy as np\n",
        "import matplotlib.pyplot as plt\n",
        "from dataset.mnist import load_mnist\n",
        "\n",
        "# データの読み込み\n",
        "(x_train, t_train), (x_test, t_test) = load_mnist(normalize=True, one_hot_label=True)\n",
        "\n",
        "network = TwoLayerNet(input_size=784, hidden_size=50, output_size=10)\n",
        "\n",
        "iters_num = 10000  # 繰り返しの回数を適宜設定する\n",
        "train_size = x_train.shape[0]\n",
        "batch_size = 100\n",
        "learning_rate = 10   # ★ここを変えている。\n",
        "\n",
        "train_loss_list = []\n",
        "train_acc_list = []\n",
        "test_acc_list = []\n",
        "\n",
        "iter_per_epoch = max(train_size / batch_size, 1)\n",
        "\n",
        "for i in range(iters_num):\n",
        "    batch_mask = np.random.choice(train_size, batch_size)\n",
        "    x_batch = x_train[batch_mask]\n",
        "    t_batch = t_train[batch_mask]\n",
        "    \n",
        "    # 勾配の計算\n",
        "    #grad = network.numerical_gradient(x_batch, t_batch)\n",
        "    grad = network.gradient(x_batch, t_batch)\n",
        "    \n",
        "    # パラメータの更新\n",
        "    for key in ('W1', 'b1', 'W2', 'b2'):\n",
        "        network.params[key] -= learning_rate * grad[key]\n",
        "    \n",
        "    loss = network.loss(x_batch, t_batch)\n",
        "    train_loss_list.append(loss)\n",
        "    \n",
        "    if i % iter_per_epoch == 0:\n",
        "        train_acc = network.accuracy(x_train, t_train)\n",
        "        test_acc = network.accuracy(x_test, t_test)\n",
        "        train_acc_list.append(train_acc)\n",
        "        test_acc_list.append(test_acc)\n",
        "        print(\"train acc, test acc | \" + str(train_acc) + \", \" + str(test_acc))\n",
        "\n",
        "# グラフの描画\n",
        "markers = {'train': 'o', 'test': 's'}\n",
        "x = np.arange(len(train_acc_list))\n",
        "plt.plot(x, train_acc_list, label='train acc')\n",
        "plt.plot(x, test_acc_list, label='test acc', linestyle='--')\n",
        "plt.xlabel(\"epochs\")\n",
        "plt.ylabel(\"accuracy\")\n",
        "plt.ylim(0, 1.0)\n",
        "plt.legend(loc='lower right')\n",
        "plt.show()"
      ]
    },
    {
      "cell_type": "markdown",
      "source": [
        "精度もあがらず、しかもふらふらしている。"
      ],
      "metadata": {
        "id": "U4dtoQ4L5nEz"
      }
    },
    {
      "cell_type": "markdown",
      "source": [
        "## 学習率を小さくしすぎた場合。（lr=1e-10)  \n",
        "p.108下の例"
      ],
      "metadata": {
        "id": "HcUxKu4h4-OL"
      }
    },
    {
      "cell_type": "code",
      "execution_count": null,
      "metadata": {
        "colab": {
          "base_uri": "https://localhost:8080/",
          "height": 578
        },
        "outputId": "77e66e18-6691-4e69-92ee-c142415993ff",
        "id": "ADrjTVXv4rGL"
      },
      "outputs": [
        {
          "output_type": "stream",
          "name": "stdout",
          "text": [
            "train acc, test acc | 0.11236666666666667, 0.1135\n",
            "train acc, test acc | 0.11236666666666667, 0.1135\n",
            "train acc, test acc | 0.11236666666666667, 0.1135\n",
            "train acc, test acc | 0.11236666666666667, 0.1135\n",
            "train acc, test acc | 0.11236666666666667, 0.1135\n",
            "train acc, test acc | 0.11236666666666667, 0.1135\n",
            "train acc, test acc | 0.11236666666666667, 0.1135\n",
            "train acc, test acc | 0.11236666666666667, 0.1135\n",
            "train acc, test acc | 0.11236666666666667, 0.1135\n",
            "train acc, test acc | 0.11236666666666667, 0.1135\n",
            "train acc, test acc | 0.11236666666666667, 0.1135\n",
            "train acc, test acc | 0.11236666666666667, 0.1135\n",
            "train acc, test acc | 0.11236666666666667, 0.1135\n",
            "train acc, test acc | 0.11236666666666667, 0.1135\n",
            "train acc, test acc | 0.11236666666666667, 0.1135\n",
            "train acc, test acc | 0.11236666666666667, 0.1135\n",
            "train acc, test acc | 0.11236666666666667, 0.1135\n"
          ]
        },
        {
          "output_type": "display_data",
          "data": {
            "text/plain": [
              "<Figure size 432x288 with 1 Axes>"
            ],
            "image/png": "[encoded data removed]"
          },
          "metadata": {
            "needs_background": "light"
          }
        }
      ],
      "source": [
        "import sys, os\n",
        "sys.path.append(os.pardir)  # 親ディレクトリのファイルをインポートするための設定\n",
        "import numpy as np\n",
        "import matplotlib.pyplot as plt\n",
        "from dataset.mnist import load_mnist\n",
        "\n",
        "# データの読み込み\n",
        "(x_train, t_train), (x_test, t_test) = load_mnist(normalize=True, one_hot_label=True)\n",
        "\n",
        "network = TwoLayerNet(input_size=784, hidden_size=50, output_size=10)\n",
        "\n",
        "iters_num = 10000  # 繰り返しの回数を適宜設定する\n",
        "train_size = x_train.shape[0]\n",
        "batch_size = 100\n",
        "learning_rate = 1e-10    # ★ここを変えている。\n",
        "\n",
        "train_loss_list = []\n",
        "train_acc_list = []\n",
        "test_acc_list = []\n",
        "\n",
        "iter_per_epoch = max(train_size / batch_size, 1)\n",
        "\n",
        "for i in range(iters_num):\n",
        "    batch_mask = np.random.choice(train_size, batch_size)\n",
        "    x_batch = x_train[batch_mask]\n",
        "    t_batch = t_train[batch_mask]\n",
        "    \n",
        "    # 勾配の計算\n",
        "    #grad = network.numerical_gradient(x_batch, t_batch)\n",
        "    grad = network.gradient(x_batch, t_batch)\n",
        "    \n",
        "    # パラメータの更新\n",
        "    for key in ('W1', 'b1', 'W2', 'b2'):\n",
        "        network.params[key] -= learning_rate * grad[key]\n",
        "    \n",
        "    loss = network.loss(x_batch, t_batch)\n",
        "    train_loss_list.append(loss)\n",
        "    \n",
        "    if i % iter_per_epoch == 0:\n",
        "        train_acc = network.accuracy(x_train, t_train)\n",
        "        test_acc = network.accuracy(x_test, t_test)\n",
        "        train_acc_list.append(train_acc)\n",
        "        test_acc_list.append(test_acc)\n",
        "        print(\"train acc, test acc | \" + str(train_acc) + \", \" + str(test_acc))\n",
        "\n",
        "# グラフの描画\n",
        "markers = {'train': 'o', 'test': 's'}\n",
        "x = np.arange(len(train_acc_list))\n",
        "plt.plot(x, train_acc_list, label='train acc')\n",
        "plt.plot(x, test_acc_list, label='test acc', linestyle='--')\n",
        "plt.xlabel(\"epochs\")\n",
        "plt.ylabel(\"accuracy\")\n",
        "plt.ylim(0, 1.0)\n",
        "plt.legend(loc='lower right')\n",
        "plt.show()"
      ]
    },
    {
      "cell_type": "markdown",
      "source": [
        "## 精度がまったくあがっていかない。"
      ],
      "metadata": {
        "id": "vPvyo_Te5tMF"
      }
    },
    {
      "cell_type": "markdown",
      "source": [
        "## では、lr=1.0にしてみたら？"
      ],
      "metadata": {
        "id": "yWqxeUTpGaRM"
      }
    },
    {
      "cell_type": "code",
      "execution_count": null,
      "metadata": {
        "colab": {
          "base_uri": "https://localhost:8080/",
          "height": 578
        },
        "outputId": "aa6c11b8-a8b5-4124-e3e8-510a51f3ef0a",
        "id": "kna8mPge6TVW"
      },
      "outputs": [
        {
          "output_type": "stream",
          "name": "stdout",
          "text": [
            "train acc, test acc | 0.10218333333333333, 0.101\n",
            "train acc, test acc | 0.9245833333333333, 0.9242\n",
            "train acc, test acc | 0.9486666666666667, 0.9481\n",
            "train acc, test acc | 0.9589, 0.9534\n",
            "train acc, test acc | 0.9648666666666667, 0.9581\n",
            "train acc, test acc | 0.9709666666666666, 0.963\n",
            "train acc, test acc | 0.9742, 0.9662\n",
            "train acc, test acc | 0.9766833333333333, 0.9671\n",
            "train acc, test acc | 0.9788166666666667, 0.969\n",
            "train acc, test acc | 0.9801333333333333, 0.9688\n",
            "train acc, test acc | 0.9820666666666666, 0.9707\n",
            "train acc, test acc | 0.9833333333333333, 0.9691\n",
            "train acc, test acc | 0.985, 0.9718\n",
            "train acc, test acc | 0.98575, 0.9702\n",
            "train acc, test acc | 0.98605, 0.9719\n",
            "train acc, test acc | 0.98815, 0.9728\n",
            "train acc, test acc | 0.9888833333333333, 0.9726\n"
          ]
        },
        {
          "output_type": "display_data",
          "data": {
            "text/plain": [
              "<Figure size 432x288 with 1 Axes>"
            ],
            "image/png": "[encoded data removed]"
          },
          "metadata": {
            "needs_background": "light"
          }
        }
      ],
      "source": [
        "import sys, os\n",
        "sys.path.append(os.pardir)  # 親ディレクトリのファイルをインポートするための設定\n",
        "import numpy as np\n",
        "import matplotlib.pyplot as plt\n",
        "from dataset.mnist import load_mnist\n",
        "\n",
        "# データの読み込み\n",
        "(x_train, t_train), (x_test, t_test) = load_mnist(normalize=True, one_hot_label=True)\n",
        "\n",
        "network = TwoLayerNet(input_size=784, hidden_size=50, output_size=10)\n",
        "\n",
        "iters_num = 10000  # 繰り返しの回数を適宜設定する\n",
        "train_size = x_train.shape[0]\n",
        "batch_size = 100\n",
        "learning_rate = 1    # ★ここを変えている。\n",
        "\n",
        "train_loss_list = []\n",
        "train_acc_list = []\n",
        "test_acc_list = []\n",
        "\n",
        "iter_per_epoch = max(train_size / batch_size, 1)\n",
        "\n",
        "for i in range(iters_num):\n",
        "    batch_mask = np.random.choice(train_size, batch_size)\n",
        "    x_batch = x_train[batch_mask]\n",
        "    t_batch = t_train[batch_mask]\n",
        "    \n",
        "    # 勾配の計算\n",
        "    #grad = network.numerical_gradient(x_batch, t_batch)\n",
        "    grad = network.gradient(x_batch, t_batch)\n",
        "    \n",
        "    # パラメータの更新\n",
        "    for key in ('W1', 'b1', 'W2', 'b2'):\n",
        "        network.params[key] -= learning_rate * grad[key]\n",
        "    \n",
        "    loss = network.loss(x_batch, t_batch)\n",
        "    train_loss_list.append(loss)\n",
        "    \n",
        "    if i % iter_per_epoch == 0:\n",
        "        train_acc = network.accuracy(x_train, t_train)\n",
        "        test_acc = network.accuracy(x_test, t_test)\n",
        "        train_acc_list.append(train_acc)\n",
        "        test_acc_list.append(test_acc)\n",
        "        print(\"train acc, test acc | \" + str(train_acc) + \", \" + str(test_acc))\n",
        "\n",
        "# グラフの描画\n",
        "markers = {'train': 'o', 'test': 's'}\n",
        "x = np.arange(len(train_acc_list))\n",
        "plt.plot(x, train_acc_list, label='train acc')\n",
        "plt.plot(x, test_acc_list, label='test acc', linestyle='--')\n",
        "plt.xlabel(\"epochs\")\n",
        "plt.ylabel(\"accuracy\")\n",
        "plt.ylim(0, 1.0)\n",
        "plt.legend(loc='lower right')\n",
        "plt.show()"
      ]
    },
    {
      "cell_type": "markdown",
      "source": [
        "lr=0.1より精度は高くなっている。ただし、テストデータについては1.5%ほど学習データより精度が低い。"
      ],
      "metadata": {
        "id": "zl8nUNQ16scN"
      }
    }
  ],
  "metadata": {
    "kernelspec": {
      "display_name": "Python 3",
      "name": "python3"
    },
    "language_info": {
      "name": "python"
    },
    "colab": {
      "provenance": []
    },
    "gpuClass": "standard"
  },
  "nbformat": 4,
  "nbformat_minor": 0
}