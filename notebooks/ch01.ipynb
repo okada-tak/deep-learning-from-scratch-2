{
  "cells": [
    {
      "cell_type": "markdown",
      "source": [
        "[![Open In Colab](https://colab.research.google.com/assets/colab-badge.svg)](https://colab.research.google.com/github/okada-tak/deep-learning-from-scratch-2/blob/master/notebooks/ch01.ipynb)\n",
        "\n",
        "# 1章 ニューラルネットワークの復習 のまとめ\n",
        "- ニューラルネットワークは、入力層、隠れ層、出力層を持つ\n",
        "- 全結合層によって線形な変換が行われ、活性化関数によって非線形な変換が行われる\n",
        "- 全結合層やミニバッチ処理は、行列としてまとめて計算することができる\n",
        "- 誤差逆伝播法を使って、効率的にニューラルネットワークの損失に関する勾配を求めることができる\n",
        "- ニューラルネットワークで行う処理は、計算グラフによって可視化することができ、順伝播や逆伝播の理解に役立つ\n",
        "- ニューラルネットワークの実装では、構成要素を「レイヤ」としてモジュール化することで、組み立てが容易になる\n",
        "- ニューラルネットワークの高速化において、データのビット精度とGPUによる並列計算が重要である"
      ],
      "metadata": {
        "id": "9SAWdYOk08sD"
      }
    },
    {
      "cell_type": "markdown",
      "source": [
        "## 1.1 数学とPythonの復習\n",
        "### 1.1.1 ベクトルと行列"
      ],
      "metadata": {
        "id": "io0vD9ODvJGX"
      }
    },
    {
      "cell_type": "code",
      "source": [
        "import numpy as np\n",
        "\n",
        "x = np.array([1,2,3])\n",
        "x.__class__"
      ],
      "metadata": {
        "colab": {
          "base_uri": "https://localhost:8080/"
        },
        "id": "Q4J6YNdmvXt4",
        "outputId": "90ba7620-5c17-41e3-b470-6f296f9e43fb"
      },
      "execution_count": 2,
      "outputs": [
        {
          "output_type": "execute_result",
          "data": {
            "text/plain": [
              "numpy.ndarray"
            ]
          },
          "metadata": {},
          "execution_count": 2
        }
      ]
    },
    {
      "cell_type": "code",
      "source": [
        "x.shape"
      ],
      "metadata": {
        "colab": {
          "base_uri": "https://localhost:8080/"
        },
        "id": "ICGliZgCvhro",
        "outputId": "a6254e45-d66b-4e60-87d4-8de4e1937e73"
      },
      "execution_count": 3,
      "outputs": [
        {
          "output_type": "execute_result",
          "data": {
            "text/plain": [
              "(3,)"
            ]
          },
          "metadata": {},
          "execution_count": 3
        }
      ]
    },
    {
      "cell_type": "code",
      "source": [
        "x.ndim"
      ],
      "metadata": {
        "colab": {
          "base_uri": "https://localhost:8080/"
        },
        "id": "0ulpxReYvj_o",
        "outputId": "39166de1-71bb-4f79-cee9-a2b5d5bf0842"
      },
      "execution_count": 4,
      "outputs": [
        {
          "output_type": "execute_result",
          "data": {
            "text/plain": [
              "1"
            ]
          },
          "metadata": {},
          "execution_count": 4
        }
      ]
    },
    {
      "cell_type": "code",
      "source": [
        "W = np.array([[1,2,3], [4,5,6]])\n",
        "W.shape"
      ],
      "metadata": {
        "colab": {
          "base_uri": "https://localhost:8080/"
        },
        "id": "z3x_GjHLvnCf",
        "outputId": "47300cc9-f7b0-458f-f447-b32dae691dc8"
      },
      "execution_count": 5,
      "outputs": [
        {
          "output_type": "execute_result",
          "data": {
            "text/plain": [
              "(2, 3)"
            ]
          },
          "metadata": {},
          "execution_count": 5
        }
      ]
    },
    {
      "cell_type": "code",
      "source": [
        "W.ndim"
      ],
      "metadata": {
        "colab": {
          "base_uri": "https://localhost:8080/"
        },
        "id": "SQ0ab_favtpN",
        "outputId": "79308b88-67ef-4b7d-9573-395ffd915961"
      },
      "execution_count": 6,
      "outputs": [
        {
          "output_type": "execute_result",
          "data": {
            "text/plain": [
              "2"
            ]
          },
          "metadata": {},
          "execution_count": 6
        }
      ]
    },
    {
      "cell_type": "markdown",
      "source": [
        "### 1.1.2 行列の要素ごとの演算"
      ],
      "metadata": {
        "id": "cYJ6n3Qdv3Xv"
      }
    },
    {
      "cell_type": "code",
      "source": [
        "W = np.array([[1,2,3], [4,5,6]])\n",
        "X = np.array([[0,1,2], [3,4,5]])\n",
        "W + X"
      ],
      "metadata": {
        "colab": {
          "base_uri": "https://localhost:8080/"
        },
        "id": "6Bp_aUFzv7-e",
        "outputId": "420f39fb-43be-4040-9f59-1d2fd69358e7"
      },
      "execution_count": 7,
      "outputs": [
        {
          "output_type": "execute_result",
          "data": {
            "text/plain": [
              "array([[ 1,  3,  5],\n",
              "       [ 7,  9, 11]])"
            ]
          },
          "metadata": {},
          "execution_count": 7
        }
      ]
    },
    {
      "cell_type": "code",
      "source": [
        "W * X"
      ],
      "metadata": {
        "colab": {
          "base_uri": "https://localhost:8080/"
        },
        "id": "o15Y34RnwMrm",
        "outputId": "43420f60-ed31-433b-8907-67e0e5d32870"
      },
      "execution_count": 8,
      "outputs": [
        {
          "output_type": "execute_result",
          "data": {
            "text/plain": [
              "array([[ 0,  2,  6],\n",
              "       [12, 20, 30]])"
            ]
          },
          "metadata": {},
          "execution_count": 8
        }
      ]
    },
    {
      "cell_type": "markdown",
      "source": [
        "### 1.1.3 ブロードキャスト"
      ],
      "metadata": {
        "id": "t2uIZ9umwR--"
      }
    },
    {
      "cell_type": "code",
      "source": [
        "A = np.array([[1,2], [3,4]])\n",
        "A * 10"
      ],
      "metadata": {
        "colab": {
          "base_uri": "https://localhost:8080/"
        },
        "id": "FWsF6MRhwU40",
        "outputId": "a1a0bb0a-6414-4d9c-f62f-fe2434c99ccb"
      },
      "execution_count": 9,
      "outputs": [
        {
          "output_type": "execute_result",
          "data": {
            "text/plain": [
              "array([[10, 20],\n",
              "       [30, 40]])"
            ]
          },
          "metadata": {},
          "execution_count": 9
        }
      ]
    },
    {
      "cell_type": "code",
      "source": [
        "A = np.array([[1,2], [3,4]])\n",
        "b = np.array([10,20])\n",
        "A * b"
      ],
      "metadata": {
        "colab": {
          "base_uri": "https://localhost:8080/"
        },
        "id": "bk6hxrw7wi4T",
        "outputId": "088de980-4b87-479a-d632-b837af9be1dc"
      },
      "execution_count": 10,
      "outputs": [
        {
          "output_type": "execute_result",
          "data": {
            "text/plain": [
              "array([[10, 40],\n",
              "       [30, 80]])"
            ]
          },
          "metadata": {},
          "execution_count": 10
        }
      ]
    },
    {
      "cell_type": "markdown",
      "source": [
        "### 1.1.4 ベクトルの内積と行列の積\n",
        "$x \\cdot y = x_1y_1 +x_2y_2 + \\cdots + x_ny_n$"
      ],
      "metadata": {
        "id": "TRMDR9pCwtw1"
      }
    },
    {
      "cell_type": "code",
      "source": [
        "# ベクトルの内積\n",
        "a = np.array([1,2,3])\n",
        "b = np.array([4,5,6])\n",
        "np.dot(a,b)"
      ],
      "metadata": {
        "colab": {
          "base_uri": "https://localhost:8080/"
        },
        "id": "NHuUd3RxxZCI",
        "outputId": "926c4109-6541-480b-8c90-057ff22eee69"
      },
      "execution_count": 11,
      "outputs": [
        {
          "output_type": "execute_result",
          "data": {
            "text/plain": [
              "32"
            ]
          },
          "metadata": {},
          "execution_count": 11
        }
      ]
    },
    {
      "cell_type": "code",
      "source": [
        "# 行列の積\n",
        "A = np.array([[1,2], [3,4]])\n",
        "B = np.array([[5,6], [7,8]])\n",
        "np.dot(A,B)"
      ],
      "metadata": {
        "colab": {
          "base_uri": "https://localhost:8080/"
        },
        "id": "nWw6-WfQx1Sk",
        "outputId": "2f045541-579a-4805-ccf7-dd51eb53b77f"
      },
      "execution_count": 12,
      "outputs": [
        {
          "output_type": "execute_result",
          "data": {
            "text/plain": [
              "array([[19, 22],\n",
              "       [43, 50]])"
            ]
          },
          "metadata": {},
          "execution_count": 12
        }
      ]
    },
    {
      "cell_type": "markdown",
      "source": [
        "### 1.1.5 行列の形状チェック"
      ],
      "metadata": {
        "id": "4mdn0vOrynM9"
      }
    },
    {
      "cell_type": "markdown",
      "source": [
        "## 1.2 ニューラルネットワークの推論\n",
        "### 1.2.1 ニューラルネットワークの推論の全体図\n",
        "$\\mathbf{h = xW + b}$"
      ],
      "metadata": {
        "id": "oG5-GbHQytCn"
      }
    },
    {
      "cell_type": "code",
      "source": [
        "import numpy as np\n",
        "W1 = np.random.randn(2,4) # 重み\n",
        "b1 = np.random.randn(4) # バイアス\n",
        "x = np.random.randn(10,2) # 入力\n",
        "h = np.dot(x, W1) + b1\n",
        "h"
      ],
      "metadata": {
        "colab": {
          "base_uri": "https://localhost:8080/"
        },
        "id": "pu9xNVZx3Xsc",
        "outputId": "d03ce078-98a5-4ff8-fafc-dcbaeeacaf8e"
      },
      "execution_count": 14,
      "outputs": [
        {
          "output_type": "execute_result",
          "data": {
            "text/plain": [
              "array([[-0.6659767 ,  1.05461573, -1.49571023,  1.16642953],\n",
              "       [-1.12109206, -0.0583981 , -0.4088617 ,  0.02210002],\n",
              "       [-1.8169358 , -0.91570609, -3.48733254,  0.74850779],\n",
              "       [-0.44770825,  0.8635589 ,  2.05199988, -0.41015876],\n",
              "       [-0.81288749,  0.01564567,  2.67058935, -1.1959487 ],\n",
              "       [-0.5795265 ,  1.38912004, -2.39310043,  1.74470708],\n",
              "       [-1.76364078, -1.22272255, -1.15950902, -0.3998959 ],\n",
              "       [ 0.10729616,  2.18901151,  0.90537943,  0.8919492 ],\n",
              "       [-0.18641624,  1.20482169,  3.09940992, -0.62621791],\n",
              "       [-2.08654203, -1.53527989, -3.06671867,  0.18721799]])"
            ]
          },
          "metadata": {},
          "execution_count": 14
        }
      ]
    },
    {
      "cell_type": "markdown",
      "source": [
        "シグモイド関数  \n",
        "$\\sigma(x)=\\frac{1}{1+\\exp(-x)}$"
      ],
      "metadata": {
        "id": "dQg0WNPLRs7r"
      }
    },
    {
      "cell_type": "code",
      "execution_count": 15,
      "metadata": {
        "colab": {
          "base_uri": "https://localhost:8080/",
          "height": 265
        },
        "id": "FVeIZFvd042H",
        "outputId": "ea49d9c1-7be1-4073-b527-fa50848bee97"
      },
      "outputs": [
        {
          "output_type": "display_data",
          "data": {
            "text/plain": [
              "<Figure size 432x288 with 1 Axes>"
            ],
            "image/png": "[encoded data removed]"
          },
          "metadata": {
            "needs_background": "light"
          }
        }
      ],
      "source": [
        "import numpy as np\n",
        "import matplotlib.pylab as plt\n",
        "\n",
        "\n",
        "def sigmoid(x):\n",
        "    return 1 / (1 + np.exp(-x))    \n",
        "\n",
        "X = np.arange(-5.0, 5.0, 0.1)\n",
        "Y = sigmoid(X)\n",
        "plt.plot(X, Y)\n",
        "plt.ylim(-0.1, 1.1)\n",
        "plt.show()\n"
      ]
    },
    {
      "cell_type": "code",
      "source": [
        "# p.13\n",
        "import numpy as np\n",
        "\n",
        "def sigmoid(x):\n",
        "    return 1 / (1 + np.exp(-x))\n",
        "\n",
        "x = np.random.randn(10,2)\n",
        "W1 = np.random.randn(2,4)\n",
        "b1 = np.random.randn(4)\n",
        "W2 = np.random.randn(4,3)\n",
        "b2 = np.random.randn(3)\n",
        "\n",
        "h = np.dot(x, W1) + b1\n",
        "a = sigmoid(h)\n",
        "s = np.dot(a, W2) + b2\n",
        "s"
      ],
      "metadata": {
        "colab": {
          "base_uri": "https://localhost:8080/"
        },
        "id": "NnbJ3kxTSJCA",
        "outputId": "4b4ee44d-d46d-49d1-e6d9-f1cb137fe0f1"
      },
      "execution_count": 16,
      "outputs": [
        {
          "output_type": "execute_result",
          "data": {
            "text/plain": [
              "array([[ 0.51442667, -2.58486124,  1.33416118],\n",
              "       [ 0.22234822, -0.63215792,  1.93209815],\n",
              "       [ 0.24890326, -1.62312657,  2.08319597],\n",
              "       [ 0.34067226, -1.40646221,  1.77498557],\n",
              "       [ 0.15956215,  0.03677606,  1.97390948],\n",
              "       [ 0.43419152, -1.94493797,  1.54854651],\n",
              "       [ 0.24120465, -1.28225044,  2.0210727 ],\n",
              "       [ 0.44188386, -1.78976274,  1.46985799],\n",
              "       [ 0.46422495, -2.20831636,  1.47629334],\n",
              "       [ 0.41498082, -1.50048229,  1.51950344]])"
            ]
          },
          "metadata": {},
          "execution_count": 16
        }
      ]
    },
    {
      "cell_type": "markdown",
      "source": [
        "### 1.2.2 レイヤとしてのクラス化と順伝播の実装"
      ],
      "metadata": {
        "id": "uTP8CE0FSx0b"
      }
    },
    {
      "cell_type": "markdown",
      "source": [
        "ch01/forward_net.py"
      ],
      "metadata": {
        "id": "Z_gF92cuTMoi"
      }
    },
    {
      "cell_type": "code",
      "source": [
        "# coding: utf-8\n",
        "import numpy as np\n",
        "\n",
        "\n",
        "class Sigmoid:\n",
        "    def __init__(self):\n",
        "        self.params = []\n",
        "\n",
        "    def forward(self, x):\n",
        "        return 1 / (1 + np.exp(-x))\n",
        "\n",
        "\n",
        "class Affine:\n",
        "    def __init__(self, W, b):\n",
        "        self.params = [W, b]\n",
        "\n",
        "    def forward(self, x):\n",
        "        W, b = self.params\n",
        "        out = np.dot(x, W) + b\n",
        "        return out\n",
        "\n",
        "\n",
        "class TwoLayerNet:\n",
        "    def __init__(self, input_size, hidden_size, output_size):\n",
        "        I, H, O = input_size, hidden_size, output_size\n",
        "\n",
        "        # 重みとバイアスの初期化\n",
        "        W1 = np.random.randn(I, H)\n",
        "        b1 = np.random.randn(H)\n",
        "        W2 = np.random.randn(H, O)\n",
        "        b2 = np.random.randn(O)\n",
        "\n",
        "        # レイヤの生成\n",
        "        self.layers = [\n",
        "            Affine(W1, b1),\n",
        "            Sigmoid(),\n",
        "            Affine(W2, b2)\n",
        "        ]\n",
        "\n",
        "        # すべての重みをリストにまとめる\n",
        "        self.params = []\n",
        "        for layer in self.layers:\n",
        "            self.params += layer.params\n",
        "\n",
        "    def predict(self, x):\n",
        "        for layer in self.layers:\n",
        "            x = layer.forward(x)\n",
        "        return x\n",
        "\n",
        "\n",
        "x = np.random.randn(10, 2)\n",
        "model = TwoLayerNet(2, 4, 3)\n",
        "s = model.predict(x)\n",
        "print(s)"
      ],
      "metadata": {
        "colab": {
          "base_uri": "https://localhost:8080/"
        },
        "id": "VVZawzH1TJvf",
        "outputId": "c0678b0a-0d1a-4518-e1fc-f9759c1d0002"
      },
      "execution_count": 17,
      "outputs": [
        {
          "output_type": "stream",
          "name": "stdout",
          "text": [
            "[[-0.41320702 -0.24111715  1.16219164]\n",
            " [-1.24332172 -0.42208963 -0.3481583 ]\n",
            " [-0.69039598 -0.92300762  0.10894589]\n",
            " [-0.92934725  0.0416379   0.53238381]\n",
            " [-1.09827557  0.26831106  0.58186764]\n",
            " [-1.205731   -0.51024032 -0.34824769]\n",
            " [-0.40087989 -0.06745483  1.32370045]\n",
            " [-0.45601484 -0.59616875  0.82051116]\n",
            " [-0.73904394  0.07639788  0.920552  ]\n",
            " [-0.70183842  0.10936541  1.02914239]]\n"
          ]
        }
      ]
    },
    {
      "cell_type": "markdown",
      "source": [
        "## 1.3 ニューラルネットワークの学習\n",
        "### 1.3.1 損失関数\n",
        "■Softmax関数  \n",
        "$$\n",
        "y_k = \\frac{\\exp(s_k)}{\\displaystyle \\sum_{i=1}^n \\exp(s_i)}\n",
        "$$\n",
        "$y_k$ : $k$番目の出力  \n",
        "$s_k$ : $k$番目のスコア   \n",
        "\n",
        "■交差エントロピー誤差\n",
        "$$\n",
        "L=-\\sum_k t_k \\log{y_k}\n",
        "$$\n",
        "$\\log$ : 底が$e$の自然対数（$\\log_e$)  \n",
        "$y_k$ : ニューラルネットワークの出力  \n",
        "$t_k$ : 教師ラベル（正解ラベルとなるインデックスだけが1で、その他は0（one-hot表現））  \n",
        "$k$ : データの次元数（ただし正解ラベル以外は0となるので正解ラベルのみ計算すればよい）  \n",
        "\n",
        "■交差エントロピー誤差（ミニバッチ対応）  \n",
        "$$\n",
        "L=-\\frac{1}{N}\\sum_n \\sum_k t_{nk} \\log{y_{nk}}\n",
        "$$\n",
        "$N$：データの個数"
      ],
      "metadata": {
        "id": "5dw1CpykURm4"
      }
    },
    {
      "cell_type": "markdown",
      "source": [
        "### 1.3.2 微分と勾配\n",
        "$L=f(\\rm{x})$, $L$:スカラ, $\\rm{x}$:ベクトル  \n",
        "ベクトルの各要素に関する微分をまとめて**勾配** \n",
        "\n",
        "$$\n",
        "\\frac{\\partial L}{\\partial \\rm{x}}=\\left( \\frac{\\partial L}{\\partial x_1}, \\frac{\\partial L}{\\partial x_2}, \\cdots, \\frac{\\partial L}{\\partial x_n} \\right)\n",
        "$$\n",
        "\n",
        "$\\mathbf W$: $m \\times n$の行列として$L=g(\\mathbf W)$という関数の勾配は以下  \n",
        "\n",
        "\n",
        "$$\n",
        "\\frac{\\partial L}{\\partial \\mathbf W}=\n",
        "\\begin{pmatrix}\n",
        "\\frac{\\partial L}{\\partial W_{11}} & \\cdots & \\frac{\\partial L}{\\partial W_{1n}}\\\\\n",
        "\\vdots & \\ddots &        &  \\\\\n",
        "\\frac{\\partial L}{\\partial W_{m1}} &  & \\frac{\\partial L}{\\partial W_{mn}}\n",
        "\\end{pmatrix}\n",
        "$$"
      ],
      "metadata": {
        "id": "V7VejDqVYhSy"
      }
    },
    {
      "cell_type": "markdown",
      "source": [
        "### 1.3.3 チェインルール\n",
        "$y=f(x), z=g(y)$  \n",
        "$z=g(f(x))$  \n",
        "\n",
        "合成関数の微分 - $x$に関する$z$の微分 - は以下  \n",
        "\n",
        "$$\n",
        "\\frac{\\partial z}{\\partial x}=\\frac{\\partial z}{\\partial y}\\frac{\\partial y}{\\partial x}\n",
        "$$"
      ],
      "metadata": {
        "id": "fVxbtLsehkgz"
      }
    },
    {
      "cell_type": "markdown",
      "source": [
        "### 1.3.4 計算グラフ\n",
        "#### 1.3.4.1 乗算ノード\n",
        "#### 1.3.4.2 分岐ノード\n",
        "#### 1.3.4.3 Repeatノード\n"
      ],
      "metadata": {
        "id": "IaiaUOT8iXtX"
      }
    },
    {
      "cell_type": "code",
      "source": [
        "import numpy as np\n",
        "D, N = 8, 7\n",
        "x = np.random.randn(1, D) # 入力\n",
        "y = np.repeat(x, N, axis=0) # forward\n",
        "dy = np.random.randn(N, D) # 仮の勾配\n",
        "dx = np.sum(dy, axis=0, keepdims=True) # backward\n",
        "dx"
      ],
      "metadata": {
        "colab": {
          "base_uri": "https://localhost:8080/"
        },
        "id": "n7z2HiBUmQYh",
        "outputId": "dea1fe64-e6b1-45b8-b158-6ce8ea51d693"
      },
      "execution_count": 21,
      "outputs": [
        {
          "output_type": "execute_result",
          "data": {
            "text/plain": [
              "array([[ 1.95647112,  1.03571187,  3.22773239,  0.07572132, -3.25809953,\n",
              "        -1.65043012, -3.71719272,  2.39647124]])"
            ]
          },
          "metadata": {},
          "execution_count": 21
        }
      ]
    },
    {
      "cell_type": "markdown",
      "source": [
        "#### 1.3.4.4 Sumノード"
      ],
      "metadata": {
        "id": "aZaVLb_im23W"
      }
    },
    {
      "cell_type": "code",
      "source": [
        "import numpy as np\n",
        "D, N = 8, 7\n",
        "x = np.random.randn(1, D) # 入力\n",
        "y = np.sum(x, axis=0, keepdims=True) # forward\n",
        "dy = np.random.randn(1, D) # 仮の勾配\n",
        "dx = np.repeat(dy, N, axis=0) # backward\n",
        "dx"
      ],
      "metadata": {
        "colab": {
          "base_uri": "https://localhost:8080/"
        },
        "id": "kl8FczVenFGg",
        "outputId": "a5e5297d-e871-4431-b196-d42efb8351dc"
      },
      "execution_count": 22,
      "outputs": [
        {
          "output_type": "execute_result",
          "data": {
            "text/plain": [
              "array([[-0.01129201,  0.28375146,  1.13895337,  1.41967447, -0.57879809,\n",
              "         0.68506664,  0.95844008, -1.36485711],\n",
              "       [-0.01129201,  0.28375146,  1.13895337,  1.41967447, -0.57879809,\n",
              "         0.68506664,  0.95844008, -1.36485711],\n",
              "       [-0.01129201,  0.28375146,  1.13895337,  1.41967447, -0.57879809,\n",
              "         0.68506664,  0.95844008, -1.36485711],\n",
              "       [-0.01129201,  0.28375146,  1.13895337,  1.41967447, -0.57879809,\n",
              "         0.68506664,  0.95844008, -1.36485711],\n",
              "       [-0.01129201,  0.28375146,  1.13895337,  1.41967447, -0.57879809,\n",
              "         0.68506664,  0.95844008, -1.36485711],\n",
              "       [-0.01129201,  0.28375146,  1.13895337,  1.41967447, -0.57879809,\n",
              "         0.68506664,  0.95844008, -1.36485711],\n",
              "       [-0.01129201,  0.28375146,  1.13895337,  1.41967447, -0.57879809,\n",
              "         0.68506664,  0.95844008, -1.36485711]])"
            ]
          },
          "metadata": {},
          "execution_count": 22
        }
      ]
    },
    {
      "cell_type": "markdown",
      "source": [
        "#### 1.3.4.5 MatMulノード"
      ],
      "metadata": {
        "id": "Ep_h2qjshjkt"
      }
    },
    {
      "cell_type": "markdown",
      "source": [
        "common/layers.py"
      ],
      "metadata": {
        "id": "RvHHoMXJoam-"
      }
    },
    {
      "cell_type": "code",
      "source": [
        "class MatMul:\n",
        "    def __init__(self, W):\n",
        "        self.params = [W]\n",
        "        self.grads = [np.zeros_like(W)]\n",
        "        self.x = None\n",
        "\n",
        "    def forward(self, x):\n",
        "        W, = self.params\n",
        "        out = np.dot(x, W)\n",
        "        self.x = x\n",
        "        return out\n",
        "\n",
        "    def backward(self, dout):\n",
        "        W, = self.params\n",
        "        dx = np.dot(dout, W.T)\n",
        "        dW = np.dot(self.x.T, dout)\n",
        "        self.grads[0][...] = dW\n",
        "        return dx"
      ],
      "metadata": {
        "id": "Ay3HFTP3oX_T"
      },
      "execution_count": 24,
      "outputs": []
    },
    {
      "cell_type": "markdown",
      "source": [
        "### 1.3.5 勾配の導出と逆伝播の実装\n",
        "#### 1.3.5.1 Sigmoidレイヤ\n",
        "シグモイド関数  \n",
        "$$\\sigma(x)=\\frac{1}{1+\\exp(-x)}$$  \n",
        "\n",
        "シグモイド関数の微分  \n",
        "$$\n",
        "\\frac{\\partial y}{\\partial x}=y(1-y)\n",
        "$$\n"
      ],
      "metadata": {
        "id": "kvlnAdQ4o0gw"
      }
    },
    {
      "cell_type": "markdown",
      "source": [
        "common/layers.py"
      ],
      "metadata": {
        "id": "FsmEsYULpr81"
      }
    },
    {
      "cell_type": "code",
      "source": [
        "class Sigmoid:\n",
        "    def __init__(self):\n",
        "        self.params, self.grads = [], []\n",
        "        self.out = None\n",
        "\n",
        "    def forward(self, x):\n",
        "        out = 1 / (1 + np.exp(-x))\n",
        "        self.out = out\n",
        "        return out\n",
        "\n",
        "    def backward(self, dout):\n",
        "        dx = dout * (1.0 - self.out) * self.out\n",
        "        return dx"
      ],
      "metadata": {
        "id": "vs7aj75lpu2b"
      },
      "execution_count": 23,
      "outputs": []
    },
    {
      "cell_type": "markdown",
      "source": [
        "#### 1.3.5.2 Affineレイヤ\n",
        "Affineレイヤの順伝播  \n",
        "y = np.dot(x, W) + b"
      ],
      "metadata": {
        "id": "dmcQLC5Yp5fv"
      }
    },
    {
      "cell_type": "markdown",
      "source": [
        "common/layers.py"
      ],
      "metadata": {
        "id": "2ZRpJRLZq-1z"
      }
    },
    {
      "cell_type": "code",
      "source": [
        "class Affine:\n",
        "    def __init__(self, W, b):\n",
        "        self.params = [W, b]\n",
        "        self.grads = [np.zeros_like(W), np.zeros_like(b)]\n",
        "        self.x = None\n",
        "\n",
        "    def forward(self, x):\n",
        "        W, b = self.params\n",
        "        out = np.dot(x, W) + b\n",
        "        self.x = x\n",
        "        return out\n",
        "\n",
        "    def backward(self, dout):\n",
        "        W, b = self.params\n",
        "        dx = np.dot(dout, W.T)\n",
        "        dW = np.dot(self.x.T, dout)\n",
        "        db = np.sum(dout, axis=0)\n",
        "\n",
        "        self.grads[0][...] = dW\n",
        "        self.grads[1][...] = db\n",
        "        return dx"
      ],
      "metadata": {
        "id": "JWqfCxW1rBgh"
      },
      "execution_count": 25,
      "outputs": []
    },
    {
      "cell_type": "markdown",
      "source": [
        "#### 1.3.5.3 Softmax with Lossレイヤ"
      ],
      "metadata": {
        "id": "WaOH7yy1rJtY"
      }
    },
    {
      "cell_type": "markdown",
      "source": [
        "common/layers.py"
      ],
      "metadata": {
        "id": "H-Mf9Z48rb7M"
      }
    },
    {
      "cell_type": "code",
      "source": [
        "class SoftmaxWithLoss:\n",
        "    def __init__(self):\n",
        "        self.params, self.grads = [], []\n",
        "        self.y = None  # softmaxの出力\n",
        "        self.t = None  # 教師ラベル\n",
        "\n",
        "    def forward(self, x, t):\n",
        "        self.t = t\n",
        "        self.y = softmax(x)\n",
        "\n",
        "        # 教師ラベルがone-hotベクトルの場合、正解のインデックスに変換\n",
        "        if self.t.size == self.y.size:\n",
        "            self.t = self.t.argmax(axis=1)\n",
        "\n",
        "        loss = cross_entropy_error(self.y, self.t)\n",
        "        return loss\n",
        "\n",
        "    def backward(self, dout=1):\n",
        "        batch_size = self.t.shape[0]\n",
        "\n",
        "        dx = self.y.copy()\n",
        "        dx[np.arange(batch_size), self.t] -= 1\n",
        "        dx *= dout\n",
        "        dx = dx / batch_size\n",
        "\n",
        "        return dx"
      ],
      "metadata": {
        "id": "UiUkYOw1rZhD"
      },
      "execution_count": 26,
      "outputs": []
    },
    {
      "cell_type": "markdown",
      "source": [
        "# ■Colaboratory用\n",
        "Google Colaboratoryの場合、Google Driveに  \n",
        "dl-from-scratch-2/ch04  \n",
        "というフォルダを用意し、そこにこのjupyter notebookを配置。  \n",
        "(dl-from-scratchの部分は任意。)  \n",
        "また、datasetフォルダとcommonフォルダを\n",
        "dl-from-scratch/dataset  \n",
        "dl-from-scratch/common\n",
        "にコピーしておく。  \n",
        "\n",
        "以下のセルでGoogle Driveをマウント。許可を求められるので許可する。"
      ],
      "metadata": {
        "id": "bAN74CQGlIq3"
      }
    },
    {
      "cell_type": "code",
      "source": [
        "from google.colab import drive\n",
        "drive.mount('/content/drive')"
      ],
      "metadata": {
        "colab": {
          "base_uri": "https://localhost:8080/"
        },
        "id": "AnjCkmJ4k3Eu",
        "outputId": "c2c5a99e-ca63-49c0-dc36-483c961d4612"
      },
      "execution_count": null,
      "outputs": [
        {
          "output_type": "stream",
          "name": "stdout",
          "text": [
            "Mounted at /content/drive\n"
          ]
        }
      ]
    },
    {
      "cell_type": "markdown",
      "source": [
        "# ■追記（岡田）Colaboratory用\n",
        "chdirする。"
      ],
      "metadata": {
        "id": "7hvO60aYlQy_"
      }
    },
    {
      "cell_type": "code",
      "source": [
        "import sys,os\n",
        "os.chdir('/content/drive/My Drive/dl-from-scratch-2/')\n",
        "os.getcwd()"
      ],
      "metadata": {
        "colab": {
          "base_uri": "https://localhost:8080/",
          "height": 205
        },
        "id": "BAxDdYj8lBax",
        "outputId": "1b93524b-d865-4592-d6a7-2f558d8c3119"
      },
      "execution_count": 1,
      "outputs": [
        {
          "output_type": "error",
          "ename": "FileNotFoundError",
          "evalue": "ignored",
          "traceback": [
            "\u001b[0;31m---------------------------------------------------------------------------\u001b[0m",
            "\u001b[0;31mFileNotFoundError\u001b[0m                         Traceback (most recent call last)",
            "\u001b[0;32m<ipython-input-1-e521dafe40d6>\u001b[0m in \u001b[0;36m<module>\u001b[0;34m\u001b[0m\n\u001b[1;32m      1\u001b[0m \u001b[0;32mimport\u001b[0m \u001b[0msys\u001b[0m\u001b[0;34m,\u001b[0m\u001b[0mos\u001b[0m\u001b[0;34m\u001b[0m\u001b[0;34m\u001b[0m\u001b[0m\n\u001b[0;32m----> 2\u001b[0;31m \u001b[0mos\u001b[0m\u001b[0;34m.\u001b[0m\u001b[0mchdir\u001b[0m\u001b[0;34m(\u001b[0m\u001b[0;34m'/content/drive/My Drive/dl-from-scratch-2/'\u001b[0m\u001b[0;34m)\u001b[0m\u001b[0;34m\u001b[0m\u001b[0;34m\u001b[0m\u001b[0m\n\u001b[0m\u001b[1;32m      3\u001b[0m \u001b[0mos\u001b[0m\u001b[0;34m.\u001b[0m\u001b[0mgetcwd\u001b[0m\u001b[0;34m(\u001b[0m\u001b[0;34m)\u001b[0m\u001b[0;34m\u001b[0m\u001b[0;34m\u001b[0m\u001b[0m\n",
            "\u001b[0;31mFileNotFoundError\u001b[0m: [Errno 2] No such file or directory: '/content/drive/My Drive/dl-from-scratch-2/'"
          ]
        }
      ]
    },
    {
      "cell_type": "code",
      "source": [],
      "metadata": {
        "id": "Vdjc8MMDu-X3"
      },
      "execution_count": null,
      "outputs": []
    }
  ],
  "metadata": {
    "kernelspec": {
      "display_name": "Python 3",
      "name": "python3"
    },
    "language_info": {
      "name": "python"
    },
    "colab": {
      "provenance": []
    },
    "gpuClass": "standard"
  },
  "nbformat": 4,
  "nbformat_minor": 0
}