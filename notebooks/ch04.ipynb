{
  "nbformat": 4,
  "nbformat_minor": 0,
  "metadata": {
    "colab": {
      "provenance": [],
      "authorship_tag": "ABX9TyP78AJbkqKRUaQbeP2VRkYN"
    },
    "kernelspec": {
      "name": "python3",
      "display_name": "Python 3"
    },
    "language_info": {
      "name": "python"
    }
  },
  "cells": [
    {
      "cell_type": "markdown",
      "source": [],
      "metadata": {
        "id": "0_PNfCx6-V5N"
      }
    },
    {
      "cell_type": "markdown",
      "source": [
        "[![Open In Colab](https://colab.research.google.com/assets/colab-badge.svg)](https://colab.research.google.com/github/okada-tak/deep-learning-from-scratch-2/blob/master/notebooks/ch04.ipynb)\n",
        "\n",
        "# 4章 word2vecの高速化 のまとめ\n",
        "- Embeddedレイヤは単語の分散表現を格納し、順伝播において該当する単語IDのベクトルを抽出する\n",
        "- word2vecでは語彙数の増加に比例して計算量が増加するので、近似計算を行う高速な手法を使うとよい\n",
        "- Negative Samplingは負例をいくつかサンプリングする手法であり、これを利用すれば多値分類を二値分類として扱うことができる\n",
        "- word2vecによって得られた単語の分散表現は、単語の意味が埋め込まれたものであり、似たコンテキストで使われる単語は単語ベクトルの空間上で近い場所に位置するようになる\n",
        "- word2vecの単語の分散表現は、類推問題をベクトルの加算と減算によって解ける性質を持つ\n",
        "- word2vecは転移学習の点で特に重要であり、その単語の分散表現はさまざまな自然言語処理のタスクに利用できる"
      ],
      "metadata": {
        "id": "xn5qweAY19OD"
      }
    },
    {
      "cell_type": "markdown",
      "source": [
        "## 4.1 word2vecの改良①\n",
        "ボトルネック：  \n",
        "- 入力層のone-hot表現と重み行列$\\text{W}_\\text{in}$の積による計算（4.1節で解決）\n",
        "- 中間層と重み行列$\\text{W}_\\text{out}$の積およびSoftmaxレイヤの計算（4.2節で解決）\n",
        "\n"
      ],
      "metadata": {
        "id": "4U_cTvSA_fSr"
      }
    },
    {
      "cell_type": "markdown",
      "source": [
        "### 4.1.1 Embeddingレイヤ\n",
        "重みパラメータから「単語IDに該当する行（ベクトル）」を抜き出すレイヤ：Embdddingレイヤ  \n",
        "単語の分散表現が格納される"
      ],
      "metadata": {
        "id": "9EAMgNYF1tBA"
      }
    },
    {
      "cell_type": "markdown",
      "source": [
        "### 4.1.2 Embeddingレイヤの実装\n"
      ],
      "metadata": {
        "id": "9WuWSYLi2PZT"
      }
    },
    {
      "cell_type": "code",
      "execution_count": 1,
      "metadata": {
        "colab": {
          "base_uri": "https://localhost:8080/"
        },
        "id": "YfrbG2_y-KBF",
        "outputId": "17842d50-3932-4b5f-b410-fec4b6f5faa0"
      },
      "outputs": [
        {
          "output_type": "execute_result",
          "data": {
            "text/plain": [
              "array([[ 0,  1,  2],\n",
              "       [ 3,  4,  5],\n",
              "       [ 6,  7,  8],\n",
              "       [ 9, 10, 11],\n",
              "       [12, 13, 14],\n",
              "       [15, 16, 17],\n",
              "       [18, 19, 20]])"
            ]
          },
          "metadata": {},
          "execution_count": 1
        }
      ],
      "source": [
        "import numpy as np\n",
        "W = np.arange(21).reshape(7,3)\n",
        "W"
      ]
    },
    {
      "cell_type": "code",
      "source": [
        "W[2]"
      ],
      "metadata": {
        "colab": {
          "base_uri": "https://localhost:8080/"
        },
        "id": "9wrvHA2_2ix1",
        "outputId": "c07094a3-3739-4199-aff5-514822acedca"
      },
      "execution_count": 2,
      "outputs": [
        {
          "output_type": "execute_result",
          "data": {
            "text/plain": [
              "array([6, 7, 8])"
            ]
          },
          "metadata": {},
          "execution_count": 2
        }
      ]
    },
    {
      "cell_type": "code",
      "source": [
        "W[5]"
      ],
      "metadata": {
        "colab": {
          "base_uri": "https://localhost:8080/"
        },
        "id": "jECj-pG-2qpS",
        "outputId": "6a0ea540-d725-4924-edd3-07923b88dc1b"
      },
      "execution_count": 4,
      "outputs": [
        {
          "output_type": "execute_result",
          "data": {
            "text/plain": [
              "array([15, 16, 17])"
            ]
          },
          "metadata": {},
          "execution_count": 4
        }
      ]
    },
    {
      "cell_type": "code",
      "source": [
        "idx = np.array([1,0,3,0])\n",
        "W[idx]"
      ],
      "metadata": {
        "colab": {
          "base_uri": "https://localhost:8080/"
        },
        "id": "-pB-ZYNn2sCJ",
        "outputId": "45c621b2-a585-4e66-9bb1-47babf490a0d"
      },
      "execution_count": 5,
      "outputs": [
        {
          "output_type": "execute_result",
          "data": {
            "text/plain": [
              "array([[ 3,  4,  5],\n",
              "       [ 0,  1,  2],\n",
              "       [ 9, 10, 11],\n",
              "       [ 0,  1,  2]])"
            ]
          },
          "metadata": {},
          "execution_count": 5
        }
      ]
    },
    {
      "cell_type": "markdown",
      "source": [
        "common/layers.py"
      ],
      "metadata": {
        "id": "jKWpt3f529Nf"
      }
    },
    {
      "cell_type": "code",
      "source": [
        "# p.136-137\n",
        "class Embedding:\n",
        "    def __init__(self, W):\n",
        "        self.params = [W]\n",
        "        self.grads = [np.zeros_like(W)]\n",
        "        self.idx = None\n",
        "\n",
        "    def forward(self, idx):\n",
        "        W, = self.params\n",
        "        self.idx = idx\n",
        "        out = W[idx]\n",
        "        return out\n",
        "\n",
        "# p.138\n",
        "#    def backward(self, dout):\n",
        "#        dW, = self.grads\n",
        "#        dW[...] = 0\n",
        "#        dW[self.idx] = dout     # 悪い例\n",
        "#        return None\n",
        "\n",
        "    def backward(self, dout):\n",
        "        dW, = self.grads\n",
        "        dW[...] = 0\n",
        "#        if GPU:\n",
        "#            np.scatter_add(dW, self.idx, dout)\n",
        "#        else:\n",
        "        np.add.at(dW, self.idx, dout)\n",
        "        return None"
      ],
      "metadata": {
        "id": "YIvDBWIs22UJ"
      },
      "execution_count": 6,
      "outputs": []
    },
    {
      "cell_type": "markdown",
      "source": [
        "## 4.2 word2vecの改良②\n",
        "Negative Samplingを導入する\n",
        "\n",
        "### 4.2.1 中間層以降の計算の問題点"
      ],
      "metadata": {
        "id": "J29EoGHa4jJK"
      }
    },
    {
      "cell_type": "code",
      "source": [],
      "metadata": {
        "id": "3mpOwa4h4iO8"
      },
      "execution_count": null,
      "outputs": []
    }
  ]
}