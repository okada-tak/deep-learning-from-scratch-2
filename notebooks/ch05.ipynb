{
  "nbformat": 4,
  "nbformat_minor": 0,
  "metadata": {
    "colab": {
      "provenance": [],
      "authorship_tag": "ABX9TyMDP/RrKX5+t2cPTjmrBDp+"
    },
    "kernelspec": {
      "name": "python3",
      "display_name": "Python 3"
    },
    "language_info": {
      "name": "python"
    }
  },
  "cells": [
    {
      "cell_type": "markdown",
      "source": [
        "[![Open In Colab](https://colab.research.google.com/assets/colab-badge.svg)](https://colab.research.google.com/github/okada-tak/deep-learning-from-scratch-2/blob/master/notebooks/ch05.ipynb)\n",
        "\n",
        "# 5章 リカレントニューラルネットワーク(RNN) のまとめ\n",
        "- RNNはループする経路があり、それによって「隠れ状態」を内部に記憶することができる\n",
        "- RNNのループ経路を展開することで、複数のRNNレイヤがつながったネットワークと解釈することができ、通常の誤差逆伝播法によって学習することができる（＝BPTT）\n",
        "- 長い時系列データを学習する場合は、適当な長さでデータのまとまりを作り－これを「ブロック」という－、ブロック単位でBPTTによる学習を行う（＝Truncated BPTT）\n",
        "- Truncated BPTTでは逆伝播のつながりのみを切断する\n",
        "- Truncated BPTTでは順伝播のつながりは維持するため、データは”シーケンシャル”に与える必要がある\n",
        "- 言語モデルは、単語の羅列を確率として解釈する\n",
        "- RNNレイヤを利用した条件付き言語モデルは、（理論的には）それまで登場した単語の情報を記憶することができる"
      ],
      "metadata": {
        "id": "6aj0HdsWDbmm"
      }
    },
    {
      "cell_type": "markdown",
      "source": [
        "単純なフィードフォワード・ネットワークでは、時系列データの性質（パターン）を十分に学習することができない"
      ],
      "metadata": {
        "id": "uo_8iWY6E2tU"
      }
    },
    {
      "cell_type": "markdown",
      "source": [
        "## 5.1 確率と言語モデル"
      ],
      "metadata": {
        "id": "iR0ueYanFAKl"
      }
    },
    {
      "cell_type": "markdown",
      "source": [
        "### 5.1.1 word2vecを確率の視点から眺める\n",
        "$w_{t-1}$と$w_{t+1}$が与えられたとき、ターゲットが$w_t$となる確率  \n",
        "$$\n",
        "P(w_t|w_{t-1}, w_{t+1})\n",
        "$$\n",
        "\n",
        "左側2つの単語だけをコンテキストとして考える\n",
        "$$\n",
        "P(w_t|w_{t-2}, w_{t-1})\n",
        "$$\n",
        "\n",
        "CBOWモデルが扱う損失関数\n",
        "$$\n",
        "L=-logP(w_t|w_{t-2}, w_{t-1})\n",
        "$$"
      ],
      "metadata": {
        "id": "LXQSyax2VDvU"
      }
    },
    {
      "cell_type": "markdown",
      "source": [
        "### 5.1.2 言語モデル\n",
        "$w_1$,…,$w_m$の$m$個の単語からなる文章  \n",
        "$w_1$,…,$w_m$という順序で単語が出現する確率  \n",
        "$$\n",
        "\\begin{split}\n",
        "P(w_1,…,w_m)&=P(w_m|w_1,…,w_{m-1})P(w_{m-1}|w_1,…,w_{m-2})...P(w_3|w_1,w_2)P(w_2|w_1)p(w_1)\\\\  \n",
        "&=\\prod_{t=1}^mP(w_t|w_1,…,w_{t-1})\n",
        "\\end{split}\n",
        "$$\n",
        "目標：  \n",
        "$P(w_t|w_1,…,w_{t-1})$を求めること。これがわかれば言語モデルの同時確率$P(w_1,…,w_m)$を求められる"
      ],
      "metadata": {
        "id": "O1vKl3ctWXET"
      }
    },
    {
      "cell_type": "markdown",
      "source": [
        "### 5.1.3 CBOWモデルを言語モデルに？\n",
        "コンテキストのサイズを限定することでCBOWモデルを言語モデルに適用\n",
        "$$\n",
        "P(w_1,…,w_m)=\\prod_{t=1}^mP(w_t|w_1,…,w_{t-1})≈\\prod_{t=1}^mP(w_t|w_{t-2},w_{t-1})\n",
        "$$\n",
        "直前の2つの単語だけに依存するとして2階のマルコフ連鎖  \n",
        "CBOWモデルではコンテキスト内の単語の並びが無視されるのが問題\n"
      ],
      "metadata": {
        "id": "wMhg_k8QVJ2e"
      }
    },
    {
      "cell_type": "markdown",
      "source": [
        "## 5.2 RNNとは"
      ],
      "metadata": {
        "id": "acOki6p_cSNz"
      }
    },
    {
      "cell_type": "markdown",
      "source": [
        "### 5.2.1 循環するニューラルネットワーク\n",
        "### 5.2.2 ループの展開\n",
        "$$\n",
        "\\mathbf h_t=tanh(\\mathbf h_{t-1}\\mathbf W_\\mathbf h+\\mathbf x_t\\mathbf W_\\mathbf x+\\mathbf b)\n",
        "$$"
      ],
      "metadata": {
        "id": "7uEj240ice4q"
      }
    },
    {
      "cell_type": "markdown",
      "source": [
        "### 5.2.3 Backpropagation Through Time\n",
        "長い時系列データを扱うと消費する計算リソースが増大する  \n",
        "逆伝播時の勾配が不安定になる"
      ],
      "metadata": {
        "id": "-B6eImjGewDQ"
      }
    },
    {
      "cell_type": "markdown",
      "source": [
        "### 5.2.4 Truncated BPTT\n",
        "ネットワークの逆伝播のつながりだけを適当な長さで切り取り、切り取られたネットワーク単位で学習する\n",
        "\n",
        "順伝播のつながりは切断しないのでデータをシーケンシャルに与える必要がある"
      ],
      "metadata": {
        "id": "5TXlXCXlgyPR"
      }
    },
    {
      "cell_type": "markdown",
      "source": [
        "### 5.2.5 Truncated BPTTのミニバッチ学習\n",
        "データの与え方：\n",
        "\n",
        "*   データをシーケンシャルに与えること\n",
        "*   各バッチでデータを与える開始位置をずらすこと\n",
        "\n"
      ],
      "metadata": {
        "id": "rxYOnm28h-nC"
      }
    },
    {
      "cell_type": "markdown",
      "source": [
        "## 5.3 RNNの実装\n",
        "RNNの1ステップの処理を行うクラスをRNNクラス\n",
        "\n",
        "そのRNNクラスを利用して、Tステップの処理をまとめて行うレイヤをTimeRNNクラス"
      ],
      "metadata": {
        "id": "c2QaGBlqi6DC"
      }
    },
    {
      "cell_type": "markdown",
      "source": [
        "### 5.3.1 RNNレイヤの実装\n",
        "RNNの順伝播  \n",
        "$$\n",
        "\\mathbf h_t=tanh(\\mathbf h_{t-1}\\mathbf W_\\mathbf h+\\mathbf x_t\\mathbf W_\\mathbf x+\\mathbf b)\n",
        "$$"
      ],
      "metadata": {
        "id": "CH6e44tPX9g-"
      }
    },
    {
      "cell_type": "markdown",
      "source": [
        "## ■Colaboratory用\n",
        "Google Colaboratoryの場合、Google Driveに  \n",
        "dl-from-scratch-2/ch05  \n",
        "というフォルダを用意し、そこにこのjupyter notebookを配置。  \n",
        "(dl-from-scratch-2の部分は任意。)  \n",
        "また、datasetフォルダとcommonフォルダを\n",
        "dl-from-scratch-2/dataset  \n",
        "dl-from-scratch-2/common\n",
        "にコピーしておく。  \n",
        "\n",
        "以下のセルでGoogle Driveをマウント。許可を求められるので許可する。"
      ],
      "metadata": {
        "id": "1YEjgSkFd2v0"
      }
    },
    {
      "cell_type": "code",
      "source": [
        "from google.colab import drive\n",
        "drive.mount('/content/drive')"
      ],
      "metadata": {
        "id": "hoW5VDk1d8m9",
        "colab": {
          "base_uri": "https://localhost:8080/"
        },
        "outputId": "749881a4-1983-4dcc-ff39-b9829bbd89c4"
      },
      "execution_count": 1,
      "outputs": [
        {
          "output_type": "stream",
          "name": "stdout",
          "text": [
            "Mounted at /content/drive\n"
          ]
        }
      ]
    },
    {
      "cell_type": "markdown",
      "source": [
        "## ■Colaboratory用\n",
        "chdirする。"
      ],
      "metadata": {
        "id": "IaYiyQXqeVgf"
      }
    },
    {
      "cell_type": "code",
      "source": [
        "import sys,os\n",
        "os.chdir('/content/drive/My Drive/dl-from-scratch-2/ch05')\n",
        "os.getcwd()"
      ],
      "metadata": {
        "id": "X9EzueHEd9Zb",
        "colab": {
          "base_uri": "https://localhost:8080/",
          "height": 35
        },
        "outputId": "a3bfed74-88b3-47de-bdbc-c20ad247243e"
      },
      "execution_count": 2,
      "outputs": [
        {
          "output_type": "execute_result",
          "data": {
            "text/plain": [
              "'/content/drive/My Drive/dl-from-scratch-2/ch05'"
            ],
            "application/vnd.google.colaboratory.intrinsic+json": {
              "type": "string"
            }
          },
          "metadata": {},
          "execution_count": 2
        }
      ]
    },
    {
      "cell_type": "markdown",
      "source": [
        "common/time_layers.py"
      ],
      "metadata": {
        "id": "RrqUViDma8pM"
      }
    },
    {
      "cell_type": "code",
      "source": [
        "from common.np import *  # import numpy as np (or import cupy as np)\n",
        "from common.layers import *\n",
        "from common.functions import softmax, sigmoid\n",
        "\n",
        "class RNN:\n",
        "    def __init__(self, Wx, Wh, b):\n",
        "        self.params = [Wx, Wh, b]\n",
        "        self.grads = [np.zeros_like(Wx), np.zeros_like(Wh), np.zeros_like(b)]\n",
        "        self.cache = None\n",
        "\n",
        "    def forward(self, x, h_prev):\n",
        "        Wx, Wh, b = self.params\n",
        "        t = np.dot(h_prev, Wh) + np.dot(x, Wx) + b\n",
        "        h_next = np.tanh(t)\n",
        "\n",
        "        self.cache = (x, h_prev, h_next)\n",
        "        return h_next\n",
        "\n",
        "    def backward(self, dh_next):\n",
        "        Wx, Wh, b = self.params\n",
        "        x, h_prev, h_next = self.cache\n",
        "\n",
        "        dt = dh_next * (1 - h_next ** 2)\n",
        "        db = np.sum(dt, axis=0)\n",
        "        dWh = np.dot(h_prev.T, dt)\n",
        "        dh_prev = np.dot(dt, Wh.T)\n",
        "        dWx = np.dot(x.T, dt)\n",
        "        dx = np.dot(dt, Wx.T)\n",
        "\n",
        "        self.grads[0][...] = dWx\n",
        "        self.grads[1][...] = dWh\n",
        "        self.grads[2][...] = db\n",
        "\n",
        "        return dx, dh_prev"
      ],
      "metadata": {
        "id": "ffWPuunlErEU"
      },
      "execution_count": null,
      "outputs": []
    },
    {
      "cell_type": "markdown",
      "source": [
        "### 5.3.2 Time RNNレイヤの実装\n"
      ],
      "metadata": {
        "id": "sYdpExkveuFG"
      }
    },
    {
      "cell_type": "markdown",
      "source": [
        "common/time_layers.py"
      ],
      "metadata": {
        "id": "tZN9vHL0e5j9"
      }
    },
    {
      "cell_type": "code",
      "source": [
        "class TimeRNN:\n",
        "    def __init__(self, Wx, Wh, b, stateful=False):\n",
        "        self.params = [Wx, Wh, b]\n",
        "        self.grads = [np.zeros_like(Wx), np.zeros_like(Wh), np.zeros_like(b)]\n",
        "        self.layers = None\n",
        "\n",
        "        self.h, self.dh = None, None\n",
        "        self.stateful = stateful\n",
        "\n",
        "    def forward(self, xs):\n",
        "        Wx, Wh, b = self.params\n",
        "        N, T, D = xs.shape\n",
        "        D, H = Wx.shape\n",
        "\n",
        "        self.layers = []\n",
        "        hs = np.empty((N, T, H), dtype='f')\n",
        "\n",
        "        if not self.stateful or self.h is None:\n",
        "            self.h = np.zeros((N, H), dtype='f')\n",
        "\n",
        "        for t in range(T):\n",
        "            layer = RNN(*self.params)\n",
        "            self.h = layer.forward(xs[:, t, :], self.h)\n",
        "            hs[:, t, :] = self.h\n",
        "            self.layers.append(layer)\n",
        "\n",
        "        return hs\n",
        "\n",
        "    def backward(self, dhs):\n",
        "        Wx, Wh, b = self.params\n",
        "        N, T, H = dhs.shape\n",
        "        D, H = Wx.shape\n",
        "\n",
        "        dxs = np.empty((N, T, D), dtype='f')\n",
        "        dh = 0\n",
        "        grads = [0, 0, 0]\n",
        "        for t in reversed(range(T)):\n",
        "            layer = self.layers[t]\n",
        "            dx, dh = layer.backward(dhs[:, t, :] + dh)\n",
        "            dxs[:, t, :] = dx\n",
        "\n",
        "            for i, grad in enumerate(layer.grads):\n",
        "                grads[i] += grad\n",
        "\n",
        "        for i, grad in enumerate(grads):\n",
        "            self.grads[i][...] = grad\n",
        "        self.dh = dh\n",
        "\n",
        "        return dxs\n",
        "\n",
        "    def set_state(self, h):\n",
        "        self.h = h\n",
        "\n",
        "    def reset_state(self):\n",
        "        self.h = None"
      ],
      "metadata": {
        "id": "l4u3v9t3e9uF"
      },
      "execution_count": null,
      "outputs": []
    },
    {
      "cell_type": "markdown",
      "source": [
        "## 5.4 時系列データを扱うレイヤの実装"
      ],
      "metadata": {
        "id": "T6bzkBgpgE-g"
      }
    },
    {
      "cell_type": "markdown",
      "source": [
        "### 5.4.1 RNNLMの全体図"
      ],
      "metadata": {
        "id": "VqAuSxR7gJXT"
      }
    },
    {
      "cell_type": "markdown",
      "source": [
        "「you say」という過去の情報をコンパクトな隠れ状態ベクトルとしてRNNが保持している。その情報を上層のAffineレイヤ、および次時刻のRNNレイヤへ伝達する。"
      ],
      "metadata": {
        "id": "BZB_5NhAyF_t"
      }
    },
    {
      "cell_type": "markdown",
      "source": [
        "### 5.4.2 Timeレイヤの実装\n",
        "$$\n",
        "L=\\frac{1}{T}(L_0+L_1+…+L_{T-1})\n",
        "$$"
      ],
      "metadata": {
        "id": "bpDJKeT2yUn1"
      }
    },
    {
      "cell_type": "markdown",
      "source": [
        "## 5.5 RNNLMの学習と評価"
      ],
      "metadata": {
        "id": "NxeKL6RNy6PY"
      }
    },
    {
      "cell_type": "markdown",
      "source": [
        "### 5.5.1 RNNLMの実装"
      ],
      "metadata": {
        "id": "_Nm0ZqjUza3u"
      }
    },
    {
      "cell_type": "markdown",
      "source": [
        "ch05/simple_rnnlm.py"
      ],
      "metadata": {
        "id": "ahrbivLQzhTT"
      }
    },
    {
      "cell_type": "code",
      "source": [
        "# coding: utf-8\n",
        "import sys\n",
        "sys.path.append('..')\n",
        "import numpy as np\n",
        "from common.time_layers import *\n",
        "\n",
        "\n",
        "class SimpleRnnlm:\n",
        "    def __init__(self, vocab_size, wordvec_size, hidden_size):\n",
        "        V, D, H = vocab_size, wordvec_size, hidden_size\n",
        "        rn = np.random.randn\n",
        "\n",
        "        # 重みの初期化\n",
        "        embed_W = (rn(V, D) / 100).astype('f')\n",
        "        rnn_Wx = (rn(D, H) / np.sqrt(D)).astype('f')\n",
        "        rnn_Wh = (rn(H, H) / np.sqrt(H)).astype('f')\n",
        "        rnn_b = np.zeros(H).astype('f')\n",
        "        affine_W = (rn(H, V) / np.sqrt(H)).astype('f')\n",
        "        affine_b = np.zeros(V).astype('f')\n",
        "\n",
        "        # レイヤの生成\n",
        "        self.layers = [\n",
        "            TimeEmbedding(embed_W),\n",
        "            TimeRNN(rnn_Wx, rnn_Wh, rnn_b, stateful=True),\n",
        "            TimeAffine(affine_W, affine_b)\n",
        "        ]\n",
        "        self.loss_layer = TimeSoftmaxWithLoss()\n",
        "        self.rnn_layer = self.layers[1]\n",
        "\n",
        "        # すべての重みと勾配をリストにまとめる\n",
        "        self.params, self.grads = [], []\n",
        "        for layer in self.layers:\n",
        "            self.params += layer.params\n",
        "            self.grads += layer.grads\n",
        "\n",
        "    def forward(self, xs, ts):\n",
        "        for layer in self.layers:\n",
        "            xs = layer.forward(xs)\n",
        "        loss = self.loss_layer.forward(xs, ts)\n",
        "        return loss\n",
        "\n",
        "    def backward(self, dout=1):\n",
        "        dout = self.loss_layer.backward(dout)\n",
        "        for layer in reversed(self.layers):\n",
        "            dout = layer.backward(dout)\n",
        "        return dout\n",
        "\n",
        "    def reset_state(self):\n",
        "        self.rnn_layer.reset_state()"
      ],
      "metadata": {
        "id": "Z0jxEMQHgIvq"
      },
      "execution_count": null,
      "outputs": []
    },
    {
      "cell_type": "markdown",
      "source": [
        "初期値はXavierの初期値を使う。\n",
        "\n",
        "vol.1の「6.2 重みの初期値」参照。"
      ],
      "metadata": {
        "id": "p6cg2B-v0PC8"
      }
    },
    {
      "cell_type": "markdown",
      "source": [
        "### 5.5.2 言語モデルの評価\n",
        "言語も出るの予測性能の良さを評価する指標：　パープレキシティ（perplexity）\n",
        "\n",
        "確率の逆数で、小さいほうがよく、最小値は1.0。\n",
        "\n",
        "直感的には「分岐数」。次に出現しうる単語の候補の数。\n",
        "\n",
        "入力データがN個ある場合：\n",
        "\n",
        "$$\n",
        "L=-\\frac{1}{N}\\sum_n \\sum_kt_{nk}\\log y_{nk}\n",
        "$$\n",
        "$$\n",
        "\\text{perplexity}=e^L\n",
        "$$\n",
        "$L$はニューラルネットワークの損失。"
      ],
      "metadata": {
        "id": "VkiMp3lq0tWG"
      }
    },
    {
      "cell_type": "markdown",
      "source": [
        "### 5.5.3 RNNLMの学習コード"
      ],
      "metadata": {
        "id": "EoNH4NsG6J6w"
      }
    },
    {
      "cell_type": "markdown",
      "source": [
        "ch05/train_custom_loop.py"
      ],
      "metadata": {
        "id": "vPFjSSKu6QTx"
      }
    },
    {
      "cell_type": "code",
      "source": [
        "# coding: utf-8\n",
        "import sys\n",
        "sys.path.append('..')\n",
        "import matplotlib.pyplot as plt\n",
        "import numpy as np\n",
        "from common.optimizer import SGD\n",
        "from dataset import ptb\n",
        "from simple_rnnlm import SimpleRnnlm\n",
        "\n",
        "\n",
        "# ハイパーパラメータの設定\n",
        "batch_size = 10\n",
        "wordvec_size = 100\n",
        "hidden_size = 100\n",
        "time_size = 5  # Truncated BPTTの展開する時間サイズ\n",
        "lr = 0.1\n",
        "max_epoch = 100\n",
        "\n",
        "# 学習データの読み込み（データセットを小さくする）\n",
        "corpus, word_to_id, id_to_word = ptb.load_data('train')\n",
        "corpus_size = 1000\n",
        "corpus = corpus[:corpus_size]\n",
        "vocab_size = int(max(corpus) + 1)\n",
        "\n",
        "xs = corpus[:-1]  # 入力\n",
        "ts = corpus[1:]  # 出力（教師ラベル）\n",
        "data_size = len(xs)\n",
        "print('corpus size: %d, vocabulary size: %d' % (corpus_size, vocab_size))\n",
        "\n",
        "# 学習時に使用する変数\n",
        "max_iters = data_size // (batch_size * time_size)\n",
        "time_idx = 0\n",
        "total_loss = 0\n",
        "loss_count = 0\n",
        "ppl_list = []\n",
        "\n",
        "# モデルの生成\n",
        "model = SimpleRnnlm(vocab_size, wordvec_size, hidden_size)\n",
        "optimizer = SGD(lr)\n",
        "\n",
        "# ミニバッチの各サンプルの読み込み開始位置を計算\n",
        "jump = (corpus_size - 1) // batch_size\n",
        "offsets = [i * jump for i in range(batch_size)]\n",
        "\n",
        "for epoch in range(max_epoch):\n",
        "    for iter in range(max_iters):\n",
        "        # ミニバッチの取得\n",
        "        batch_x = np.empty((batch_size, time_size), dtype='i')\n",
        "        batch_t = np.empty((batch_size, time_size), dtype='i')\n",
        "        for t in range(time_size):\n",
        "            for i, offset in enumerate(offsets):\n",
        "                batch_x[i, t] = xs[(offset + time_idx) % data_size]\n",
        "                batch_t[i, t] = ts[(offset + time_idx) % data_size]\n",
        "            time_idx += 1\n",
        "\n",
        "        # 勾配を求め、パラメータを更新\n",
        "        loss = model.forward(batch_x, batch_t)\n",
        "        model.backward()\n",
        "        optimizer.update(model.params, model.grads)\n",
        "        total_loss += loss\n",
        "        loss_count += 1\n",
        "\n",
        "    # エポックごとにパープレキシティの評価\n",
        "    ppl = np.exp(total_loss / loss_count)\n",
        "    print('| epoch %d | perplexity %.2f'\n",
        "          % (epoch+1, ppl))\n",
        "    ppl_list.append(float(ppl))\n",
        "    total_loss, loss_count = 0, 0\n",
        "\n",
        "# グラフの描画\n",
        "x = np.arange(len(ppl_list))\n",
        "plt.plot(x, ppl_list, label='train')\n",
        "plt.xlabel('epochs')\n",
        "plt.ylabel('perplexity')\n",
        "plt.show()"
      ],
      "metadata": {
        "colab": {
          "base_uri": "https://localhost:8080/",
          "height": 1000
        },
        "id": "VOVZg6c90gT3",
        "outputId": "f0609ddd-b4dc-4e2b-b36b-bf9b4b56b6a0"
      },
      "execution_count": 3,
      "outputs": [
        {
          "output_type": "stream",
          "name": "stdout",
          "text": [
            "corpus size: 1000, vocabulary size: 418\n",
            "| epoch 1 | perplexity 390.00\n",
            "| epoch 2 | perplexity 267.89\n",
            "| epoch 3 | perplexity 226.99\n",
            "| epoch 4 | perplexity 215.82\n",
            "| epoch 5 | perplexity 207.23\n",
            "| epoch 6 | perplexity 203.82\n",
            "| epoch 7 | perplexity 199.74\n",
            "| epoch 8 | perplexity 197.03\n",
            "| epoch 9 | perplexity 192.03\n",
            "| epoch 10 | perplexity 193.34\n",
            "| epoch 11 | perplexity 189.01\n",
            "| epoch 12 | perplexity 191.97\n",
            "| epoch 13 | perplexity 189.92\n",
            "| epoch 14 | perplexity 189.33\n",
            "| epoch 15 | perplexity 188.61\n",
            "| epoch 16 | perplexity 185.94\n",
            "| epoch 17 | perplexity 184.03\n",
            "| epoch 18 | perplexity 180.52\n",
            "| epoch 19 | perplexity 182.11\n",
            "| epoch 20 | perplexity 183.43\n",
            "| epoch 21 | perplexity 180.82\n",
            "| epoch 22 | perplexity 178.46\n",
            "| epoch 23 | perplexity 174.89\n",
            "| epoch 24 | perplexity 178.58\n",
            "| epoch 25 | perplexity 173.45\n",
            "| epoch 26 | perplexity 174.65\n",
            "| epoch 27 | perplexity 168.67\n",
            "| epoch 28 | perplexity 168.02\n",
            "| epoch 29 | perplexity 165.46\n",
            "| epoch 30 | perplexity 159.52\n",
            "| epoch 31 | perplexity 163.14\n",
            "| epoch 32 | perplexity 157.37\n",
            "| epoch 33 | perplexity 157.68\n",
            "| epoch 34 | perplexity 151.00\n",
            "| epoch 35 | perplexity 148.35\n",
            "| epoch 36 | perplexity 144.51\n",
            "| epoch 37 | perplexity 138.34\n",
            "| epoch 38 | perplexity 135.35\n",
            "| epoch 39 | perplexity 129.79\n",
            "| epoch 40 | perplexity 123.22\n",
            "| epoch 41 | perplexity 124.47\n",
            "| epoch 42 | perplexity 117.17\n",
            "| epoch 43 | perplexity 112.60\n",
            "| epoch 44 | perplexity 107.04\n",
            "| epoch 45 | perplexity 103.80\n",
            "| epoch 46 | perplexity 101.74\n",
            "| epoch 47 | perplexity 96.29\n",
            "| epoch 48 | perplexity 89.02\n",
            "| epoch 49 | perplexity 87.14\n",
            "| epoch 50 | perplexity 83.75\n",
            "| epoch 51 | perplexity 80.07\n",
            "| epoch 52 | perplexity 76.09\n",
            "| epoch 53 | perplexity 71.69\n",
            "| epoch 54 | perplexity 68.24\n",
            "| epoch 55 | perplexity 64.87\n",
            "| epoch 56 | perplexity 61.37\n",
            "| epoch 57 | perplexity 58.01\n",
            "| epoch 58 | perplexity 54.29\n",
            "| epoch 59 | perplexity 52.16\n",
            "| epoch 60 | perplexity 48.41\n",
            "| epoch 61 | perplexity 46.79\n",
            "| epoch 62 | perplexity 44.97\n",
            "| epoch 63 | perplexity 41.10\n",
            "| epoch 64 | perplexity 38.53\n",
            "| epoch 65 | perplexity 37.74\n",
            "| epoch 66 | perplexity 35.11\n",
            "| epoch 67 | perplexity 33.75\n",
            "| epoch 68 | perplexity 30.42\n",
            "| epoch 69 | perplexity 29.33\n",
            "| epoch 70 | perplexity 28.17\n",
            "| epoch 71 | perplexity 26.62\n",
            "| epoch 72 | perplexity 25.09\n",
            "| epoch 73 | perplexity 23.17\n",
            "| epoch 74 | perplexity 23.15\n",
            "| epoch 75 | perplexity 22.77\n",
            "| epoch 76 | perplexity 19.84\n",
            "| epoch 77 | perplexity 18.93\n",
            "| epoch 78 | perplexity 17.84\n",
            "| epoch 79 | perplexity 17.68\n",
            "| epoch 80 | perplexity 15.77\n",
            "| epoch 81 | perplexity 15.27\n",
            "| epoch 82 | perplexity 14.56\n",
            "| epoch 83 | perplexity 13.59\n",
            "| epoch 84 | perplexity 12.99\n",
            "| epoch 85 | perplexity 12.67\n",
            "| epoch 86 | perplexity 11.80\n",
            "| epoch 87 | perplexity 11.11\n",
            "| epoch 88 | perplexity 10.33\n",
            "| epoch 89 | perplexity 9.81\n",
            "| epoch 90 | perplexity 9.15\n",
            "| epoch 91 | perplexity 9.04\n",
            "| epoch 92 | perplexity 8.46\n",
            "| epoch 93 | perplexity 8.05\n",
            "| epoch 94 | perplexity 7.44\n",
            "| epoch 95 | perplexity 7.14\n",
            "| epoch 96 | perplexity 6.71\n",
            "| epoch 97 | perplexity 6.73\n",
            "| epoch 98 | perplexity 6.31\n",
            "| epoch 99 | perplexity 6.12\n",
            "| epoch 100 | perplexity 5.77\n"
          ]
        },
        {
          "output_type": "display_data",
          "data": {
            "text/plain": [
              "<Figure size 640x480 with 1 Axes>"
            ],
            "image/png": "[encoded data removed]"
          },
          "metadata": {}
        }
      ]
    },
    {
      "cell_type": "markdown",
      "source": [
        "### 5.5.4 RNNLMのTrainerクラス\n"
      ],
      "metadata": {
        "id": "5_fmC5_u7Qoo"
      }
    },
    {
      "cell_type": "markdown",
      "source": [
        "ch05/train.py"
      ],
      "metadata": {
        "id": "a2kAhQGS7vJp"
      }
    },
    {
      "cell_type": "code",
      "source": [
        "# coding: utf-8\n",
        "import sys\n",
        "sys.path.append('..')\n",
        "from common.optimizer import SGD\n",
        "from common.trainer import RnnlmTrainer\n",
        "from dataset import ptb\n",
        "from simple_rnnlm import SimpleRnnlm\n",
        "\n",
        "\n",
        "# ハイパーパラメータの設定\n",
        "batch_size = 10\n",
        "wordvec_size = 100\n",
        "hidden_size = 100  # RNNの隠れ状態ベクトルの要素数\n",
        "time_size = 5  # RNNを展開するサイズ\n",
        "lr = 0.1\n",
        "max_epoch = 100\n",
        "\n",
        "# 学習データの読み込み\n",
        "corpus, word_to_id, id_to_word = ptb.load_data('train')\n",
        "corpus_size = 1000  # テスト用にデータセットを小さくする\n",
        "corpus = corpus[:corpus_size]\n",
        "vocab_size = int(max(corpus) + 1)\n",
        "xs = corpus[:-1]  # 入力\n",
        "ts = corpus[1:]  # 出力（教師ラベル）\n",
        "\n",
        "# モデルの生成\n",
        "model = SimpleRnnlm(vocab_size, wordvec_size, hidden_size)\n",
        "optimizer = SGD(lr)\n",
        "trainer = RnnlmTrainer(model, optimizer)\n",
        "\n",
        "trainer.fit(xs, ts, max_epoch, batch_size, time_size)\n",
        "trainer.plot()"
      ],
      "metadata": {
        "colab": {
          "base_uri": "https://localhost:8080/",
          "height": 1000
        },
        "id": "7bv1ynPQ7tug",
        "outputId": "7cdb4381-343e-4e46-a09d-63db2f836268"
      },
      "execution_count": 4,
      "outputs": [
        {
          "output_type": "stream",
          "name": "stdout",
          "text": [
            "| epoch 1 |  iter 1 / 19 | time 0[s] | perplexity 418.28\n",
            "| epoch 2 |  iter 1 / 19 | time 0[s] | perplexity 390.53\n",
            "| epoch 3 |  iter 1 / 19 | time 0[s] | perplexity 279.06\n",
            "| epoch 4 |  iter 1 / 19 | time 0[s] | perplexity 222.90\n",
            "| epoch 5 |  iter 1 / 19 | time 0[s] | perplexity 211.05\n",
            "| epoch 6 |  iter 1 / 19 | time 0[s] | perplexity 209.57\n",
            "| epoch 7 |  iter 1 / 19 | time 0[s] | perplexity 200.28\n",
            "| epoch 8 |  iter 1 / 19 | time 0[s] | perplexity 201.23\n",
            "| epoch 9 |  iter 1 / 19 | time 0[s] | perplexity 194.49\n",
            "| epoch 10 |  iter 1 / 19 | time 0[s] | perplexity 190.65\n",
            "| epoch 11 |  iter 1 / 19 | time 0[s] | perplexity 192.18\n",
            "| epoch 12 |  iter 1 / 19 | time 1[s] | perplexity 188.73\n",
            "| epoch 13 |  iter 1 / 19 | time 1[s] | perplexity 192.69\n",
            "| epoch 14 |  iter 1 / 19 | time 1[s] | perplexity 187.31\n",
            "| epoch 15 |  iter 1 / 19 | time 1[s] | perplexity 186.34\n",
            "| epoch 16 |  iter 1 / 19 | time 1[s] | perplexity 190.61\n",
            "| epoch 17 |  iter 1 / 19 | time 1[s] | perplexity 188.60\n",
            "| epoch 18 |  iter 1 / 19 | time 1[s] | perplexity 183.62\n",
            "| epoch 19 |  iter 1 / 19 | time 1[s] | perplexity 179.40\n",
            "| epoch 20 |  iter 1 / 19 | time 1[s] | perplexity 180.42\n",
            "| epoch 21 |  iter 1 / 19 | time 1[s] | perplexity 176.94\n",
            "| epoch 22 |  iter 1 / 19 | time 1[s] | perplexity 175.54\n",
            "| epoch 23 |  iter 1 / 19 | time 2[s] | perplexity 178.52\n",
            "| epoch 24 |  iter 1 / 19 | time 2[s] | perplexity 177.09\n",
            "| epoch 25 |  iter 1 / 19 | time 2[s] | perplexity 167.90\n",
            "| epoch 26 |  iter 1 / 19 | time 2[s] | perplexity 169.84\n",
            "| epoch 27 |  iter 1 / 19 | time 2[s] | perplexity 165.99\n",
            "| epoch 28 |  iter 1 / 19 | time 2[s] | perplexity 166.48\n",
            "| epoch 29 |  iter 1 / 19 | time 2[s] | perplexity 160.10\n",
            "| epoch 30 |  iter 1 / 19 | time 2[s] | perplexity 154.14\n",
            "| epoch 31 |  iter 1 / 19 | time 2[s] | perplexity 153.51\n",
            "| epoch 32 |  iter 1 / 19 | time 2[s] | perplexity 147.07\n",
            "| epoch 33 |  iter 1 / 19 | time 2[s] | perplexity 148.58\n",
            "| epoch 34 |  iter 1 / 19 | time 3[s] | perplexity 146.89\n",
            "| epoch 35 |  iter 1 / 19 | time 3[s] | perplexity 137.55\n",
            "| epoch 36 |  iter 1 / 19 | time 3[s] | perplexity 134.69\n",
            "| epoch 37 |  iter 1 / 19 | time 3[s] | perplexity 135.00\n",
            "| epoch 38 |  iter 1 / 19 | time 3[s] | perplexity 126.70\n",
            "| epoch 39 |  iter 1 / 19 | time 3[s] | perplexity 124.73\n",
            "| epoch 40 |  iter 1 / 19 | time 3[s] | perplexity 119.00\n",
            "| epoch 41 |  iter 1 / 19 | time 3[s] | perplexity 114.93\n",
            "| epoch 42 |  iter 1 / 19 | time 3[s] | perplexity 114.40\n",
            "| epoch 43 |  iter 1 / 19 | time 3[s] | perplexity 105.94\n",
            "| epoch 44 |  iter 1 / 19 | time 3[s] | perplexity 103.26\n",
            "| epoch 45 |  iter 1 / 19 | time 4[s] | perplexity 95.13\n",
            "| epoch 46 |  iter 1 / 19 | time 4[s] | perplexity 90.98\n",
            "| epoch 47 |  iter 1 / 19 | time 4[s] | perplexity 89.06\n",
            "| epoch 48 |  iter 1 / 19 | time 4[s] | perplexity 85.61\n",
            "| epoch 49 |  iter 1 / 19 | time 4[s] | perplexity 82.76\n",
            "| epoch 50 |  iter 1 / 19 | time 4[s] | perplexity 76.30\n",
            "| epoch 51 |  iter 1 / 19 | time 4[s] | perplexity 73.55\n",
            "| epoch 52 |  iter 1 / 19 | time 4[s] | perplexity 69.89\n",
            "| epoch 53 |  iter 1 / 19 | time 4[s] | perplexity 65.66\n",
            "| epoch 54 |  iter 1 / 19 | time 4[s] | perplexity 62.37\n",
            "| epoch 55 |  iter 1 / 19 | time 4[s] | perplexity 59.60\n",
            "| epoch 56 |  iter 1 / 19 | time 5[s] | perplexity 57.11\n",
            "| epoch 57 |  iter 1 / 19 | time 5[s] | perplexity 55.16\n",
            "| epoch 58 |  iter 1 / 19 | time 5[s] | perplexity 49.53\n",
            "| epoch 59 |  iter 1 / 19 | time 5[s] | perplexity 47.44\n",
            "| epoch 60 |  iter 1 / 19 | time 5[s] | perplexity 45.27\n",
            "| epoch 61 |  iter 1 / 19 | time 5[s] | perplexity 42.49\n",
            "| epoch 62 |  iter 1 / 19 | time 5[s] | perplexity 40.65\n",
            "| epoch 63 |  iter 1 / 19 | time 5[s] | perplexity 38.38\n",
            "| epoch 64 |  iter 1 / 19 | time 5[s] | perplexity 36.63\n",
            "| epoch 65 |  iter 1 / 19 | time 5[s] | perplexity 34.09\n",
            "| epoch 66 |  iter 1 / 19 | time 5[s] | perplexity 32.33\n",
            "| epoch 67 |  iter 1 / 19 | time 6[s] | perplexity 30.89\n",
            "| epoch 68 |  iter 1 / 19 | time 6[s] | perplexity 29.45\n",
            "| epoch 69 |  iter 1 / 19 | time 6[s] | perplexity 26.89\n",
            "| epoch 70 |  iter 1 / 19 | time 6[s] | perplexity 25.24\n",
            "| epoch 71 |  iter 1 / 19 | time 6[s] | perplexity 23.82\n",
            "| epoch 72 |  iter 1 / 19 | time 6[s] | perplexity 22.67\n",
            "| epoch 73 |  iter 1 / 19 | time 6[s] | perplexity 21.06\n",
            "| epoch 74 |  iter 1 / 19 | time 6[s] | perplexity 19.81\n",
            "| epoch 75 |  iter 1 / 19 | time 6[s] | perplexity 19.24\n",
            "| epoch 76 |  iter 1 / 19 | time 6[s] | perplexity 18.27\n",
            "| epoch 77 |  iter 1 / 19 | time 6[s] | perplexity 17.53\n",
            "| epoch 78 |  iter 1 / 19 | time 7[s] | perplexity 16.36\n",
            "| epoch 79 |  iter 1 / 19 | time 7[s] | perplexity 15.27\n",
            "| epoch 80 |  iter 1 / 19 | time 7[s] | perplexity 14.05\n",
            "| epoch 81 |  iter 1 / 19 | time 7[s] | perplexity 13.27\n",
            "| epoch 82 |  iter 1 / 19 | time 7[s] | perplexity 12.83\n",
            "| epoch 83 |  iter 1 / 19 | time 7[s] | perplexity 12.21\n",
            "| epoch 84 |  iter 1 / 19 | time 8[s] | perplexity 11.79\n",
            "| epoch 85 |  iter 1 / 19 | time 8[s] | perplexity 10.82\n",
            "| epoch 86 |  iter 1 / 19 | time 8[s] | perplexity 10.92\n",
            "| epoch 87 |  iter 1 / 19 | time 8[s] | perplexity 10.30\n",
            "| epoch 88 |  iter 1 / 19 | time 8[s] | perplexity 9.10\n",
            "| epoch 89 |  iter 1 / 19 | time 9[s] | perplexity 9.75\n",
            "| epoch 90 |  iter 1 / 19 | time 9[s] | perplexity 8.68\n",
            "| epoch 91 |  iter 1 / 19 | time 9[s] | perplexity 7.81\n",
            "| epoch 92 |  iter 1 / 19 | time 9[s] | perplexity 7.59\n",
            "| epoch 93 |  iter 1 / 19 | time 9[s] | perplexity 7.25\n",
            "| epoch 94 |  iter 1 / 19 | time 10[s] | perplexity 7.03\n",
            "| epoch 95 |  iter 1 / 19 | time 10[s] | perplexity 6.44\n",
            "| epoch 96 |  iter 1 / 19 | time 10[s] | perplexity 6.15\n",
            "| epoch 97 |  iter 1 / 19 | time 10[s] | perplexity 6.08\n",
            "| epoch 98 |  iter 1 / 19 | time 10[s] | perplexity 5.73\n",
            "| epoch 99 |  iter 1 / 19 | time 11[s] | perplexity 5.39\n",
            "| epoch 100 |  iter 1 / 19 | time 11[s] | perplexity 5.23\n"
          ]
        },
        {
          "output_type": "display_data",
          "data": {
            "text/plain": [
              "<Figure size 640x480 with 1 Axes>"
            ],
            "image/png": "[encoded data removed]"
          },
          "metadata": {}
        }
      ]
    },
    {
      "cell_type": "markdown",
      "source": [
        "## 5.6 まとめ\n"
      ],
      "metadata": {
        "id": "dod8BPr673Ra"
      }
    }
  ]
}